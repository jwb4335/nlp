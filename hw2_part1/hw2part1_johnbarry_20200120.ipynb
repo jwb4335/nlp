{
  "nbformat": 4,
  "nbformat_minor": 0,
  "metadata": {
    "colab": {
      "name": "hw2part1_johnbarry_20200120.ipynb",
      "provenance": [],
      "collapsed_sections": [],
      "toc_visible": true,
      "include_colab_link": true
    },
    "kernelspec": {
      "name": "python3",
      "display_name": "Python 3"
    }
  },
  "cells": [
    {
      "cell_type": "markdown",
      "metadata": {
        "id": "view-in-github",
        "colab_type": "text"
      },
      "source": [
        "<a href=\"https://colab.research.google.com/github/jwb4335/nlp/blob/master/hw2part1_johnbarry_20200120.ipynb\" target=\"_parent\"><img src=\"https://colab.research.google.com/assets/colab-badge.svg\" alt=\"Open In Colab\"/></a>"
      ]
    },
    {
      "cell_type": "markdown",
      "metadata": {
        "id": "_lQYv-MZUXBk",
        "colab_type": "text"
      },
      "source": [
        "## Homework 2 part 1\n",
        "## CS 590.07\n",
        "## John Barry\n",
        "\n",
        "\n",
        "\n"
      ]
    },
    {
      "cell_type": "markdown",
      "metadata": {
        "id": "s04yG6eZ89-4",
        "colab_type": "text"
      },
      "source": [
        "## Load in simlex999 data from github"
      ]
    },
    {
      "cell_type": "code",
      "metadata": {
        "id": "ZaAWRcah9DYG",
        "colab_type": "code",
        "colab": {}
      },
      "source": [
        "import pandas as pd\n",
        "from random import randint\n",
        "\n"
      ],
      "execution_count": 0,
      "outputs": []
    },
    {
      "cell_type": "code",
      "metadata": {
        "id": "LiV0AXKU9DeK",
        "colab_type": "code",
        "colab": {}
      },
      "source": [
        "url = 'https://raw.githubusercontent.com/jwb4335/nlp/master/Sim_Lex999.txt'\n",
        "simlex = pd.read_csv(url,sep = ':')\n",
        "simlex.columns = ['word1','word2','SimLex999','POS1','POS2']"
      ],
      "execution_count": 0,
      "outputs": []
    },
    {
      "cell_type": "markdown",
      "metadata": {
        "id": "DhzRQqVr-hZE",
        "colab_type": "text"
      },
      "source": [
        "\n",
        "\n",
        "```\n",
        "# This is formatted as code\n",
        "```\n",
        "\n",
        "Let's get three random rows"
      ]
    },
    {
      "cell_type": "code",
      "metadata": {
        "id": "1y3JCFlr-GFt",
        "colab_type": "code",
        "outputId": "22d6e5e3-616f-42e5-fd91-35bef2e50bd6",
        "colab": {
          "base_uri": "https://localhost:8080/",
          "height": 141
        }
      },
      "source": [
        "randints = [randint(0,len(simlex)), randint(0,len(simlex)),randint(0,len(simlex))]\n",
        "\n",
        "simlex_rand = simlex.iloc[randints,:]\n",
        "simlex_rand\n",
        "\n"
      ],
      "execution_count": 105,
      "outputs": [
        {
          "output_type": "execute_result",
          "data": {
            "text/html": [
              "<div>\n",
              "<style scoped>\n",
              "    .dataframe tbody tr th:only-of-type {\n",
              "        vertical-align: middle;\n",
              "    }\n",
              "\n",
              "    .dataframe tbody tr th {\n",
              "        vertical-align: top;\n",
              "    }\n",
              "\n",
              "    .dataframe thead th {\n",
              "        text-align: right;\n",
              "    }\n",
              "</style>\n",
              "<table border=\"1\" class=\"dataframe\">\n",
              "  <thead>\n",
              "    <tr style=\"text-align: right;\">\n",
              "      <th></th>\n",
              "      <th>word1</th>\n",
              "      <th>word2</th>\n",
              "      <th>SimLex999</th>\n",
              "      <th>POS1</th>\n",
              "      <th>POS2</th>\n",
              "    </tr>\n",
              "  </thead>\n",
              "  <tbody>\n",
              "    <tr>\n",
              "      <th>568</th>\n",
              "      <td>value</td>\n",
              "      <td>belief</td>\n",
              "      <td>7.07</td>\n",
              "      <td>n</td>\n",
              "      <td>n</td>\n",
              "    </tr>\n",
              "    <tr>\n",
              "      <th>492</th>\n",
              "      <td>oil</td>\n",
              "      <td>mink</td>\n",
              "      <td>1.23</td>\n",
              "      <td>n</td>\n",
              "      <td>n</td>\n",
              "    </tr>\n",
              "    <tr>\n",
              "      <th>478</th>\n",
              "      <td>attitude</td>\n",
              "      <td>confidence</td>\n",
              "      <td>4.35</td>\n",
              "      <td>n</td>\n",
              "      <td>n</td>\n",
              "    </tr>\n",
              "  </tbody>\n",
              "</table>\n",
              "</div>"
            ],
            "text/plain": [
              "        word1       word2  SimLex999 POS1 POS2\n",
              "568     value      belief       7.07    n    n\n",
              "492       oil        mink       1.23    n    n\n",
              "478  attitude  confidence       4.35    n    n"
            ]
          },
          "metadata": {
            "tags": []
          },
          "execution_count": 105
        }
      ]
    },
    {
      "cell_type": "markdown",
      "metadata": {
        "id": "dtB2CDOoUdR-",
        "colab_type": "text"
      },
      "source": [
        "## **Universal sentence encoder** \n",
        "\n",
        "\n",
        "\n"
      ]
    },
    {
      "cell_type": "code",
      "metadata": {
        "id": "-FYtVC-yUZM1",
        "colab_type": "code",
        "colab": {}
      },
      "source": [
        "# Install the latest Tensorflow version.\n",
        "!pip3 install --quiet \"tensorflow>=1.7\"\n",
        "# Install TF-Hub.\n",
        "!pip3 install --quiet tensorflow-hub\n",
        "!pip3 install --quiet seaborn"
      ],
      "execution_count": 0,
      "outputs": []
    },
    {
      "cell_type": "code",
      "metadata": {
        "id": "ihSV9yc0VrzO",
        "colab_type": "code",
        "colab": {}
      },
      "source": [
        "import tensorflow as tf\n",
        "import tensorflow_hub as hub\n",
        "import matplotlib.pyplot as plt\n",
        "import numpy as np\n",
        "import os\n",
        "import pandas as pd\n",
        "import re\n",
        "import seaborn as sns"
      ],
      "execution_count": 0,
      "outputs": []
    },
    {
      "cell_type": "code",
      "metadata": {
        "id": "H7BrHp6RVsV6",
        "colab_type": "code",
        "colab": {}
      },
      "source": [
        "module_url = \"https://tfhub.dev/google/universal-sentence-encoder/2\" #@param [\"https://tfhub.dev/google/universal-sentence-encoder/2\", \"https://tfhub.dev/google/universal-sentence-encoder-large/3\"]"
      ],
      "execution_count": 0,
      "outputs": []
    },
    {
      "cell_type": "code",
      "metadata": {
        "id": "zxVtdHu0Vsff",
        "colab_type": "code",
        "outputId": "a564fe30-54a2-4ff4-8cc9-0a3ebea4a4f0",
        "colab": {
          "base_uri": "https://localhost:8080/",
          "height": 87
        }
      },
      "source": [
        "# Import the Universal Sentence Encoder's TF Hub module\n",
        "embed = hub.Module(module_url)\n",
        "\n",
        "# Compute a representation for each message, showing various lengths supported.\n",
        "word = \"breakfast\"\n",
        "messages = [word]\n",
        "\n",
        "# Reduce logging output.\n",
        "tf.logging.set_verbosity(tf.logging.ERROR)\n",
        "\n",
        "with tf.Session() as session:\n",
        "  session.run([tf.global_variables_initializer(), tf.tables_initializer()])\n",
        "  message_embeddings = session.run(embed(messages))\n",
        "\n",
        "  for i, message_embedding in enumerate(np.array(message_embeddings).tolist()):\n",
        "    print(\"Message: {}\".format(messages[i]))\n",
        "    print(\"Embedding size: {}\".format(len(message_embedding)))\n",
        "    message_embedding_snippet = \", \".join(\n",
        "        (str(x) for x in message_embedding[:3]))\n",
        "    print(\"Embedding: [{}, ...]\\n\".format(message_embedding_snippet))"
      ],
      "execution_count": 109,
      "outputs": [
        {
          "output_type": "stream",
          "text": [
            "Message: breakfast\n",
            "Embedding size: 512\n",
            "Embedding: [-0.016404513269662857, -0.04483848437666893, -0.0037806909531354904, ...]\n",
            "\n"
          ],
          "name": "stdout"
        }
      ]
    },
    {
      "cell_type": "code",
      "metadata": {
        "id": "nJlhHGCCx_Dl",
        "colab_type": "code",
        "outputId": "77fa82bb-fda4-4028-e29c-7e0c34feb4ce",
        "colab": {
          "base_uri": "https://localhost:8080/",
          "height": 35
        }
      },
      "source": [
        "message_embedding_snippet"
      ],
      "execution_count": 110,
      "outputs": [
        {
          "output_type": "execute_result",
          "data": {
            "text/plain": [
              "'-0.016404513269662857, -0.04483848437666893, -0.0037806909531354904'"
            ]
          },
          "metadata": {
            "tags": []
          },
          "execution_count": 110
        }
      ]
    },
    {
      "cell_type": "code",
      "metadata": {
        "id": "NFxOfW-nvRna",
        "colab_type": "code",
        "colab": {}
      },
      "source": [
        "word = \"breakfast\"\n",
        "messages = [word]\n",
        "\n",
        "# Reduce logging output.\n",
        "tf.logging.set_verbosity(tf.logging.ERROR)\n",
        "\n",
        "with tf.Session() as session:\n",
        "  session.run([tf.global_variables_initializer(), tf.tables_initializer()])\n",
        "  message_embeddings = session.run(embed(messages))"
      ],
      "execution_count": 0,
      "outputs": []
    },
    {
      "cell_type": "code",
      "metadata": {
        "id": "cEE2hT2Pvnr4",
        "colab_type": "code",
        "colab": {}
      },
      "source": [
        "message_embeddings"
      ],
      "execution_count": 0,
      "outputs": []
    },
    {
      "cell_type": "markdown",
      "metadata": {
        "id": "GACecT2bFLXR",
        "colab_type": "text"
      },
      "source": [
        "# CBOW or word2index"
      ]
    },
    {
      "cell_type": "markdown",
      "metadata": {
        "id": "Qm3z0IUzaQem",
        "colab_type": "text"
      },
      "source": [
        "Download the data"
      ]
    },
    {
      "cell_type": "code",
      "metadata": {
        "id": "paTtI75sX-uP",
        "colab_type": "code",
        "outputId": "5b7cadb8-9296-47f2-978d-87c42e97afbc",
        "colab": {
          "base_uri": "https://localhost:8080/",
          "height": 401
        }
      },
      "source": [
        "!wget \"https://raw.githubusercontent.com/udacity/deep-learning/master/sentiment-network/reviews.txt\"\n",
        "!cat reviews.txt | head"
      ],
      "execution_count": 126,
      "outputs": [
        {
          "output_type": "stream",
          "text": [
            "--2020-01-21 03:16:48--  https://raw.githubusercontent.com/udacity/deep-learning/master/sentiment-network/reviews.txt\n",
            "Resolving raw.githubusercontent.com (raw.githubusercontent.com)... 151.101.0.133, 151.101.64.133, 151.101.128.133, ...\n",
            "Connecting to raw.githubusercontent.com (raw.githubusercontent.com)|151.101.0.133|:443... connected.\n",
            "HTTP request sent, awaiting response... 200 OK\n",
            "Length: 33678267 (32M) [text/plain]\n",
            "Saving to: ‘reviews.txt.2’\n",
            "\n",
            "reviews.txt.2       100%[===================>]  32.12M  43.5MB/s    in 0.7s    \n",
            "\n",
            "2020-01-21 03:16:49 (43.5 MB/s) - ‘reviews.txt.2’ saved [33678267/33678267]\n",
            "\n",
            "bromwell high is a cartoon comedy . it ran at the same time as some other programs about school life  such as  teachers  . my   years in the teaching profession lead me to believe that bromwell high  s satire is much closer to reality than is  teachers  . the scramble to survive financially  the insightful students who can see right through their pathetic teachers  pomp  the pettiness of the whole situation  all remind me of the schools i knew and their students . when i saw the episode in which a student repeatedly tried to burn down the school  i immediately recalled . . . . . . . . . at . . . . . . . . . . high . a classic line inspector i  m here to sack one of your teachers . student welcome to bromwell high . i expect that many adults of my age think that bromwell high is far fetched . what a pity that it isn  t   \n",
            "story of a man who has unnatural feelings for a pig . starts out with a opening scene that is a terrific example of absurd comedy . a formal orchestra audience is turned into an insane  violent mob by the crazy chantings of it  s singers . unfortunately it stays absurd the whole time with no general narrative eventually making it just too off putting . even those from the era should be turned off . the cryptic dialogue would make shakespeare seem easy to a third grader . on a technical level it  s better than you might think with some good cinematography by future great vilmos zsigmond . future stars sally kirkland and frederic forrest can be seen briefly .  \n",
            "homelessness  or houselessness as george carlin stated  has been an issue for years but never a plan to help those on the street that were once considered human who did everything from going to school  work  or vote for the matter . most people think of the homeless as just a lost cause while worrying about things such as racism  the war on iraq  pressuring kids to succeed  technology  the elections  inflation  or worrying if they  ll be next to end up on the streets .  br    br   but what if you were given a bet to live on the streets for a month without the luxuries you once had from a home  the entertainment sets  a bathroom  pictures on the wall  a computer  and everything you once treasure to see what it  s like to be homeless  that is goddard bolt  s lesson .  br    br   mel brooks  who directs  who stars as bolt plays a rich man who has everything in the world until deciding to make a bet with a sissy rival  jeffery tambor  to see if he can live in the streets for thirty days without the luxuries if bolt succeeds  he can do what he wants with a future project of making more buildings . the bet  s on where bolt is thrown on the street with a bracelet on his leg to monitor his every move where he can  t step off the sidewalk . he  s given the nickname pepto by a vagrant after it  s written on his forehead where bolt meets other characters including a woman by the name of molly  lesley ann warren  an ex  dancer who got divorce before losing her home  and her pals sailor  howard morris  and fumes  teddy wilson  who are already used to the streets . they  re survivors . bolt isn  t . he  s not used to reaching mutual agreements like he once did when being rich where it  s fight or flight  kill or be killed .  br    br   while the love connection between molly and bolt wasn  t necessary to plot  i found  life stinks  to be one of mel brooks  observant films where prior to being a comedy  it shows a tender side compared to his slapstick work such as blazing saddles  young frankenstein  or spaceballs for the matter  to show what it  s like having something valuable before losing it the next day or on the other hand making a stupid bet like all rich people do when they don  t know what to do with their money . maybe they should give it to the homeless instead of using it like monopoly money .  br    br   or maybe this film will inspire you to help others .  \n",
            "airport    starts as a brand new luxury    plane is loaded up with valuable paintings  such belonging to rich businessman philip stevens  james stewart  who is flying them  a bunch of vip  s to his estate in preparation of it being opened to the public as a museum  also on board is stevens daughter julie  kathleen quinlan   her son . the luxury jetliner takes off as planned but mid  air the plane is hi  jacked by the co  pilot chambers  robert foxworth   his two accomplice  s banker  monte markham   wilson  michael pataki  who knock the passengers  crew out with sleeping gas  they plan to steal the valuable cargo  land on a disused plane strip on an isolated island but while making his descent chambers almost hits an oil rig in the ocean  loses control of the plane sending it crashing into the sea where it sinks to the bottom right bang in the middle of the bermuda triangle . with air in short supply  water leaking in  having flown over    miles off course the problems mount for the survivor  s as they await help with time fast running out . . .  br    br   also known under the slightly different tile airport     this second sequel to the smash  hit disaster thriller airport       was directed by jerry jameson  while once again like it  s predecessors i can  t say airport    is any sort of forgotten classic it is entertaining although not necessarily for the right reasons . out of the three airport films i have seen so far i actually liked this one the best  just . it has my favourite plot of the three with a nice mid  air hi  jacking  then the crashing  didn  t he see the oil rig    sinking of the     maybe the makers were trying to cross the original airport with another popular disaster flick of the period the poseidon adventure         submerged is where it stays until the end with a stark dilemma facing those trapped inside  either suffocate when the air runs out or drown as the    floods or if any of the doors are opened  it  s a decent idea that could have made for a great little disaster flick but bad unsympathetic character  s  dull dialogue  lethargic set  pieces  a real lack of danger or suspense or tension means this is a missed opportunity . while the rather sluggish plot keeps one entertained for    odd minutes not that much happens after the plane sinks  there  s not as much urgency as i thought there should have been . even when the navy become involved things don  t pick up that much with a few shots of huge ships  helicopters flying about but there  s just something lacking here . george kennedy as the jinxed airline worker joe patroni is back but only gets a couple of scenes  barely even says anything preferring to just look worried in the background .  br    br   the home video  theatrical version of airport    run    minutes while the us tv versions add an extra hour of footage including a new opening credits sequence  many more scenes with george kennedy as patroni  flashbacks to flesh out character  s  longer rescue scenes  the discovery or another couple of dead bodies including the navigator . while i would like to see this extra footage i am not sure i could sit through a near three hour cut of airport    . as expected the film has dated badly with horrible fashions  interior design choices  i will say no more other than the toy plane model effects aren  t great either . along with the other two airport sequels this takes pride of place in the razzie award  s hall of shame although i can think of lots of worse films than this so i reckon that  s a little harsh . the action scenes are a little dull unfortunately  the pace is slow  not much excitement or tension is generated which is a shame as i reckon this could have been a pretty good film if made properly .  br    br   the production values are alright if nothing spectacular . the acting isn  t great  two time oscar winner jack lemmon has said since it was a mistake to star in this  one time oscar winner james stewart looks old  frail  also one time oscar winner lee grant looks drunk while sir christopher lee is given little to do  there are plenty of other familiar faces to look out for too .  br    br   airport    is the most disaster orientated of the three airport films so far  i liked the ideas behind it even if they were a bit silly  the production  bland direction doesn  t help though  a film about a sunken plane just shouldn  t be this boring or lethargic . followed by the concorde . . . airport          .  \n",
            "brilliant over  acting by lesley ann warren . best dramatic hobo lady i have ever seen  and love scenes in clothes warehouse are second to none . the corn on face is a classic  as good as anything in blazing saddles . the take on lawyers is also superb . after being accused of being a turncoat  selling out his boss  and being dishonest the lawyer of pepto bolt shrugs indifferently  i  m a lawyer  he says . three funny words . jeffrey tambor  a favorite from the later larry sanders show  is fantastic here too as a mad millionaire who wants to crush the ghetto . his character is more malevolent than usual . the hospital scene  and the scene where the homeless invade a demolition site  are all  time classics . look for the legs scene and the two big diggers fighting  one bleeds  . this movie gets better each time i see it  which is quite often  .  \n",
            "this film lacked something i couldn  t put my finger on at first charisma on the part of the leading actress . this inevitably translated to lack of chemistry when she shared the screen with her leading man . even the romantic scenes came across as being merely the actors at play . it could very well have been the director who miscalculated what he needed from the actors . i just don  t know .  br    br   but could it have been the screenplay  just exactly who was the chef in love with  he seemed more enamored of his culinary skills and restaurant  and ultimately of himself and his youthful exploits  than of anybody or anything else . he never convinced me he was in love with the princess .  br    br   i was disappointed in this movie . but  don  t forget it was nominated for an oscar  so judge for yourself .  \n",
            "this is easily the most underrated film inn the brooks cannon . sure  its flawed . it does not give a realistic view of homelessness  unlike  say  how citizen kane gave a realistic view of lounge singers  or titanic gave a realistic view of italians you idiots  . many of the jokes fall flat . but still  this film is very lovable in a way many comedies are not  and to pull that off in a story about some of the most traditionally reviled members of society is truly impressive . its not the fisher king  but its not crap  either . my only complaint is that brooks should have cast someone else in the lead  i love mel as a director and writer  not so much as a lead  .  \n",
            "sorry everyone    i know this is supposed to be an  art  film   but wow  they should have handed out guns at the screening so people could blow their brains out and not watch . although the scene design and photographic direction was excellent  this story is too painful to watch . the absence of a sound track was brutal . the loooonnnnng shots were too long . how long can you watch two people just sitting there and talking  especially when the dialogue is two people complaining . i really had a hard time just getting through this film . the performances were excellent  but how much of that dark  sombre  uninspired  stuff can you take  the only thing i liked was maureen stapleton and her red dress and dancing scene . otherwise this was a ripoff of bergman . and i  m no fan f his either . i think anyone who says they enjoyed     hours of this is   well  lying .  \n",
            "this is not the typical mel brooks film . it was much less slapstick than most of his movies and actually had a plot that was followable . leslie ann warren made the movie  she is such a fantastic  under  rated actress . there were some moments that could have been fleshed out a bit more  and some scenes that could probably have been cut to make the room to do so  but all in all  this is worth the price to rent and see it . the acting was good overall  brooks himself did a good job without his characteristic speaking to directly to the audience . again  warren was the best actor in the movie  but  fume  and  sailor  both played their parts well .  \n",
            "when i was little my parents took me along to the theater to see interiors . it was one of many movies i watched with my parents  but this was the only one we walked out of . since then i had never seen interiors until just recently  and i could have lived out the rest of my life without it . what a pretentious  ponderous  and painfully boring piece of    s wine and cheese tripe . woody allen is one of my favorite directors but interiors is by far the worst piece of crap of his career . in the unmistakable style of ingmar berman  allen gives us a dark  angular  muted  insight in to the lives of a family wrought by the psychological damage caused by divorce  estrangement  career  love  non  love  halitosis  whatever . the film  intentionally  has no comic relief  no music  and is drenched in shadowy pathos . this film style can be best defined as expressionist in nature  using an improvisational method of dialogue to illicit a  more pronounced depth of meaning and truth  . but woody allen is no ingmar bergman . the film is painfully slow and dull . but beyond that  i simply had no connection with or sympathy for any of the characters . instead i felt only contempt for this parade of shuffling  whining  nicotine stained  martyrs in a perpetual quest for identity . amid a backdrop of cosmopolitan affluence and baked brie intelligentsia the story looms like a fart in the room . everyone speaks in affected platitudes and elevated language between cigarettes . everyone is  lost  and  struggling   desperate to find direction or understanding or whatever and it just goes on and on to the point where you just want to slap all of them . it  s never about resolution  it  s only about interminable introspective babble . it is nothing more than a psychological drama taken to an extreme beyond the audience  s ability to connect . woody allen chose to make characters so immersed in themselves we feel left out . and for that reason i found this movie painfully self indulgent and spiritually draining . i see what he was going for but his insistence on promoting his message through prozac prose and distorted film techniques jettisons it past the point of relevance . i highly recommend this one if you  re feeling a little too happy and need something to remind you of death . otherwise  let  s just pretend this film never happened .  \n"
          ],
          "name": "stdout"
        }
      ]
    },
    {
      "cell_type": "code",
      "metadata": {
        "id": "qM0i-x2KZGCh",
        "colab_type": "code",
        "outputId": "b93dfbb1-1c73-4918-8fa6-de2b4166ae14",
        "colab": {
          "base_uri": "https://localhost:8080/",
          "height": 488
        }
      },
      "source": [
        "!wget \"https://raw.githubusercontent.com/udacity/deep-learning/master/sentiment-network/labels.txt\"\n",
        "!cat labels.txt | head -15"
      ],
      "execution_count": 127,
      "outputs": [
        {
          "output_type": "stream",
          "text": [
            "--2020-01-21 03:16:54--  https://raw.githubusercontent.com/udacity/deep-learning/master/sentiment-network/labels.txt\n",
            "Resolving raw.githubusercontent.com (raw.githubusercontent.com)... 151.101.0.133, 151.101.64.133, 151.101.128.133, ...\n",
            "Connecting to raw.githubusercontent.com (raw.githubusercontent.com)|151.101.0.133|:443... connected.\n",
            "HTTP request sent, awaiting response... 200 OK\n",
            "Length: 225000 (220K) [text/plain]\n",
            "Saving to: ‘labels.txt.2’\n",
            "\n",
            "\rlabels.txt.2          0%[                    ]       0  --.-KB/s               \rlabels.txt.2        100%[===================>] 219.73K  --.-KB/s    in 0.05s   \n",
            "\n",
            "2020-01-21 03:16:54 (4.61 MB/s) - ‘labels.txt.2’ saved [225000/225000]\n",
            "\n",
            "positive\n",
            "negative\n",
            "positive\n",
            "negative\n",
            "positive\n",
            "negative\n",
            "positive\n",
            "negative\n",
            "positive\n",
            "negative\n",
            "positive\n",
            "negative\n",
            "positive\n",
            "negative\n",
            "positive\n"
          ],
          "name": "stdout"
        }
      ]
    },
    {
      "cell_type": "markdown",
      "metadata": {
        "id": "KGAz0O3cb5sZ",
        "colab_type": "text"
      },
      "source": [
        "Predicting Movie Reviews"
      ]
    },
    {
      "cell_type": "code",
      "metadata": {
        "id": "W1dkgoPdcDnj",
        "colab_type": "code",
        "colab": {}
      },
      "source": [
        "import sys\n",
        "\n",
        "f = open('reviews.txt')\n",
        "raw_reviews = f.readlines()\n",
        "f.close()\n",
        "\n",
        "f = open('labels.txt')\n",
        "raw_labels = f.readlines()\n",
        "f.close()\n",
        "\n",
        "tokens = list(map(lambda x:set(x.split(\" \")),raw_reviews))\n",
        "\n",
        "vocab = set()\n",
        "for sent in tokens:\n",
        "    for word in sent:\n",
        "        if(len(word)>0):\n",
        "            vocab.add(word)\n",
        "vocab = list(vocab)\n",
        "\n",
        "word2index = {}\n",
        "for i,word in enumerate(vocab):\n",
        "    word2index[word]=i\n",
        "\n",
        "input_dataset = list()\n",
        "for sent in tokens:\n",
        "    sent_indices = list()\n",
        "    for word in sent:\n",
        "        try:\n",
        "            sent_indices.append(word2index[word])\n",
        "        except:\n",
        "            \"\"\n",
        "    input_dataset.append(list(set(sent_indices)))\n",
        "\n",
        "target_dataset = list()\n",
        "for label in raw_labels:\n",
        "    if label == 'positive\\n':\n",
        "        target_dataset.append(1)\n",
        "    else:\n",
        "        target_dataset.append(0)"
      ],
      "execution_count": 0,
      "outputs": []
    },
    {
      "cell_type": "code",
      "metadata": {
        "id": "m0Z40t34ccqY",
        "colab_type": "code",
        "outputId": "2a52250e-556f-4a72-aac0-56434b72f4c0",
        "colab": {
          "base_uri": "https://localhost:8080/",
          "height": 35
        }
      },
      "source": [
        "vocab[11]"
      ],
      "execution_count": 129,
      "outputs": [
        {
          "output_type": "execute_result",
          "data": {
            "text/plain": [
              "'mockumentaries'"
            ]
          },
          "metadata": {
            "tags": []
          },
          "execution_count": 129
        }
      ]
    },
    {
      "cell_type": "code",
      "metadata": {
        "id": "WtakfpEoce7i",
        "colab_type": "code",
        "outputId": "56475eeb-d8b4-4ed5-82a2-292a6674bca9",
        "colab": {
          "base_uri": "https://localhost:8080/",
          "height": 1000
        }
      },
      "source": [
        "vocab"
      ],
      "execution_count": 130,
      "outputs": [
        {
          "output_type": "execute_result",
          "data": {
            "text/plain": [
              "['quaresma',\n",
              " 'governments',\n",
              " 'sounding',\n",
              " 'ager',\n",
              " 'b',\n",
              " 'heywood',\n",
              " 'birthday',\n",
              " 'as',\n",
              " 'ps',\n",
              " 'collar',\n",
              " 'hamper',\n",
              " 'mockumentaries',\n",
              " 'waxed',\n",
              " 'colera',\n",
              " 'coe',\n",
              " 'reroutes',\n",
              " 'nabiki',\n",
              " 'raspberry',\n",
              " 'hoarsely',\n",
              " 'homoeroticism',\n",
              " 'showstoppingly',\n",
              " 'mountainbillies',\n",
              " 'khialdi',\n",
              " 'mccartney',\n",
              " 'clint',\n",
              " 'hernand',\n",
              " 'fhrer',\n",
              " 'lisette',\n",
              " 'labeija',\n",
              " 'emit',\n",
              " 'squatting',\n",
              " 'halle',\n",
              " 'nicalo',\n",
              " 'cortland',\n",
              " 'respectable',\n",
              " 'baptised',\n",
              " 'obtained',\n",
              " 'klinghoffer',\n",
              " 'gibbs',\n",
              " 'boldt',\n",
              " 'carrer',\n",
              " 'attacker',\n",
              " 'hendler',\n",
              " 'yesteryears',\n",
              " 'superchick',\n",
              " 'transience',\n",
              " 'gautham',\n",
              " 'kellaway',\n",
              " 'provision',\n",
              " 'exclamations',\n",
              " 'disintegrates',\n",
              " 'feeling',\n",
              " 'chrissy',\n",
              " 'inhi',\n",
              " 'ug',\n",
              " 'multitudinous',\n",
              " 'mist',\n",
              " 'miyaan',\n",
              " 'vays',\n",
              " 'grandiose',\n",
              " 'rodman',\n",
              " 'molinaro',\n",
              " 'thong',\n",
              " 'sportsman',\n",
              " 'godparents',\n",
              " 'invincible',\n",
              " 'naoto',\n",
              " 'dowagers',\n",
              " 'excelsior',\n",
              " 'sputnick',\n",
              " 'outranks',\n",
              " 'snowmonton',\n",
              " 'infinite',\n",
              " 'ascertain',\n",
              " 'foppery',\n",
              " 'bytes',\n",
              " 'musts',\n",
              " 'kalisher',\n",
              " 'overheated',\n",
              " 'agonizes',\n",
              " 'mike',\n",
              " 'lurks',\n",
              " 'poundland',\n",
              " 'massaccesi',\n",
              " 'jaime',\n",
              " 'avowed',\n",
              " 'worked',\n",
              " 'puffs',\n",
              " 'samundar',\n",
              " 'shaw',\n",
              " 'vacuous',\n",
              " 'bubblingly',\n",
              " 'yearm',\n",
              " 'hanger',\n",
              " 'devine',\n",
              " 'hallo',\n",
              " 'abrasive',\n",
              " 'beckons',\n",
              " 'mosters',\n",
              " 'persuaded',\n",
              " 'lined',\n",
              " 'equipe',\n",
              " 'hindley',\n",
              " 'deployed',\n",
              " 'discreet',\n",
              " 'bans',\n",
              " 'cochrane',\n",
              " 'beter',\n",
              " 'carrollian',\n",
              " 'demographic',\n",
              " 'calendar',\n",
              " 'cineastes',\n",
              " 'oligarchy',\n",
              " 'intenseness',\n",
              " 'wuornos',\n",
              " 'shalhoub',\n",
              " 'churchgoers',\n",
              " 'hypocrisy',\n",
              " 'blueberry',\n",
              " 'christmass',\n",
              " 'molemen',\n",
              " 'mervyn',\n",
              " 'examination',\n",
              " 'kaka',\n",
              " 'counterespionage',\n",
              " 'zorrilla',\n",
              " 'mathis',\n",
              " 'devgun',\n",
              " 'cogitate',\n",
              " 'profound',\n",
              " 'signaled',\n",
              " 'balalaika',\n",
              " 'pension',\n",
              " 'gathers',\n",
              " 'ismail',\n",
              " 'dukey',\n",
              " 'motorbike',\n",
              " 'trimmings',\n",
              " 'tindle',\n",
              " 'sinologist',\n",
              " 'nudges',\n",
              " 'maren',\n",
              " 'mows',\n",
              " 'funfair',\n",
              " 'afterworld',\n",
              " 'documentation',\n",
              " 'llcoolj',\n",
              " 'shoddiest',\n",
              " 'supercilious',\n",
              " 'realy',\n",
              " 'buyer',\n",
              " 'exploitations',\n",
              " 'chilkats',\n",
              " 'raiment',\n",
              " 'moonstone',\n",
              " 'deluding',\n",
              " 'plunge',\n",
              " 'grip',\n",
              " 'bowden',\n",
              " 'cameraman',\n",
              " 'glane',\n",
              " 'coupes',\n",
              " 'shillings',\n",
              " 'transcribing',\n",
              " 'stretcher',\n",
              " 'pussed',\n",
              " 'unguarded',\n",
              " 'eroticized',\n",
              " 'tactically',\n",
              " 'fragments',\n",
              " 'hall',\n",
              " 'armand',\n",
              " 'concubines',\n",
              " 'diahann',\n",
              " 'bizniss',\n",
              " 'vachtangi',\n",
              " 'ministers',\n",
              " 'scatter',\n",
              " 'capers',\n",
              " 'ornate',\n",
              " 'alka',\n",
              " 'yardsale',\n",
              " 'rotoscoping',\n",
              " 'surkin',\n",
              " 'megawatt',\n",
              " 'stained',\n",
              " 'salk',\n",
              " 'cavalli',\n",
              " 'supervillains',\n",
              " 'conjures',\n",
              " 'cp',\n",
              " 'iglesia',\n",
              " 'daar',\n",
              " 'workhorse',\n",
              " 'toledo',\n",
              " 'pique',\n",
              " 'whytefox',\n",
              " 'boaters',\n",
              " 'landers',\n",
              " 'cooked',\n",
              " 'concerts',\n",
              " 'clench',\n",
              " 'headmasters',\n",
              " 'numskulls',\n",
              " 'astronomers',\n",
              " 'taji',\n",
              " 'specky',\n",
              " 'turned',\n",
              " 'shakers',\n",
              " 'erika',\n",
              " 'implanted',\n",
              " 'obnoxious',\n",
              " 'gayness',\n",
              " 'instigating',\n",
              " 'mainframes',\n",
              " 'encoded',\n",
              " 'cavett',\n",
              " 'brag',\n",
              " 'underlit',\n",
              " 'memorial',\n",
              " 'machat',\n",
              " 'ei',\n",
              " 'aaghh',\n",
              " 'elliott',\n",
              " 'counsellor',\n",
              " 'beenville',\n",
              " 'chicanery',\n",
              " 'lymph',\n",
              " 'eward',\n",
              " 'baldwin',\n",
              " 'sell',\n",
              " 'airbrushed',\n",
              " 'nyugen',\n",
              " 'haunt',\n",
              " 'trods',\n",
              " 'collora',\n",
              " 'ishly',\n",
              " 'louisiana',\n",
              " 'street',\n",
              " 'kept',\n",
              " 'connectivity',\n",
              " 'prs',\n",
              " 'mcnealy',\n",
              " 'victimless',\n",
              " 'classic',\n",
              " 'stroud',\n",
              " 'horrorfilm',\n",
              " 'implementation',\n",
              " 'internecine',\n",
              " 'lubricated',\n",
              " 'treasuring',\n",
              " 'summation',\n",
              " 'conformist',\n",
              " 'crooners',\n",
              " 'effort',\n",
              " 'blamed',\n",
              " 'eloquent',\n",
              " 'extensively',\n",
              " 'friar',\n",
              " 'chen',\n",
              " 'mehbooba',\n",
              " 'plenty',\n",
              " 'miscommunication',\n",
              " 'unadulterated',\n",
              " 'pagevirgin',\n",
              " 'supposer',\n",
              " 'blandman',\n",
              " 'mispronunciation',\n",
              " 'tidal',\n",
              " 'bullied',\n",
              " 'filmaking',\n",
              " 'humphrey',\n",
              " 'stargazing',\n",
              " 'wackier',\n",
              " 'incongruous',\n",
              " 'kutter',\n",
              " 'gibbering',\n",
              " 'limping',\n",
              " 'empathizing',\n",
              " 'copulation',\n",
              " 'santini',\n",
              " 'stragely',\n",
              " 'supermodels',\n",
              " 'strippers',\n",
              " 'zaping',\n",
              " 'insecticide',\n",
              " 'whoo',\n",
              " 'revenues',\n",
              " 'borowczyk',\n",
              " 'plotholes',\n",
              " 'rylance',\n",
              " 'vulvas',\n",
              " 'philologist',\n",
              " 'supplanting',\n",
              " 'phipps',\n",
              " 'niellson',\n",
              " 'surreal',\n",
              " 'nefretiri',\n",
              " 'ferraris',\n",
              " 'strikebreakers',\n",
              " 'dumbss',\n",
              " 'favors',\n",
              " 'fables',\n",
              " 'accident',\n",
              " 'specializes',\n",
              " 'hampton',\n",
              " 'scotia',\n",
              " 'timber',\n",
              " 'psychotronic',\n",
              " 'bludgeon',\n",
              " 'cursorily',\n",
              " 'sis',\n",
              " 'faceless',\n",
              " 'overstayed',\n",
              " 'behemoth',\n",
              " 'unload',\n",
              " 'thudnerbirds',\n",
              " 'bake',\n",
              " 'noisome',\n",
              " 'deprivation',\n",
              " 'oom',\n",
              " 'chronopolis',\n",
              " 'militarized',\n",
              " 'batb',\n",
              " 'nukem',\n",
              " 'hak',\n",
              " 'pimp',\n",
              " 'dragging',\n",
              " 'zeroes',\n",
              " 'holistic',\n",
              " 'tonight',\n",
              " 'constantine',\n",
              " 'kansan',\n",
              " 'zameen',\n",
              " 'vacu',\n",
              " 'hvr',\n",
              " 'plussed',\n",
              " 'stringing',\n",
              " 'duologue',\n",
              " 'notwithstanding',\n",
              " 'muresans',\n",
              " 'nobodies',\n",
              " 'deemed',\n",
              " 'solvents',\n",
              " 'anniversaries',\n",
              " 'motherfockers',\n",
              " 'dickens',\n",
              " 'slurp',\n",
              " 'malleable',\n",
              " 'witnessed',\n",
              " 'jumpsuit',\n",
              " 'aldar',\n",
              " 'teasers',\n",
              " 'perverts',\n",
              " 'zealots',\n",
              " 'sistuh',\n",
              " 'elope',\n",
              " 'graciousness',\n",
              " 'unreasonable',\n",
              " 'amorphous',\n",
              " 'quibbled',\n",
              " 'seeker',\n",
              " 'attaining',\n",
              " 'fluke',\n",
              " 'situated',\n",
              " 'kindle',\n",
              " 'nobles',\n",
              " 'cowritten',\n",
              " 'yankland',\n",
              " 'storyboards',\n",
              " 'hays',\n",
              " 'distressed',\n",
              " 'solomon',\n",
              " 'shellshocked',\n",
              " 'floating',\n",
              " 'wagered',\n",
              " 'teenybopper',\n",
              " 'unsympathetically',\n",
              " 'presuming',\n",
              " 'nrk',\n",
              " 'strumpet',\n",
              " 'guidances',\n",
              " 'avanti',\n",
              " 'pleasent',\n",
              " 'still',\n",
              " 'levitt',\n",
              " 'insides',\n",
              " 'snicks',\n",
              " 'ramadi',\n",
              " 'curbed',\n",
              " 'indulge',\n",
              " 'scape',\n",
              " 'ej',\n",
              " 'bmoviefreak',\n",
              " 'sushi',\n",
              " 'highlighting',\n",
              " 'trashiness',\n",
              " 'mgm',\n",
              " 'surrounds',\n",
              " 'zarchi',\n",
              " 'unfastened',\n",
              " 'dauphine',\n",
              " 'cloeck',\n",
              " 'microchips',\n",
              " 'arkadin',\n",
              " 'scholl',\n",
              " 'reassembled',\n",
              " 'manticore',\n",
              " 'angharad',\n",
              " 'miseries',\n",
              " 'sexegenarian',\n",
              " 'ashtray',\n",
              " 'nabbing',\n",
              " 'mention',\n",
              " 'bos',\n",
              " 'dears',\n",
              " 'merquise',\n",
              " 'zorich',\n",
              " 'vodka',\n",
              " 'coutard',\n",
              " 'spookiest',\n",
              " 'carousing',\n",
              " 'imbecile',\n",
              " 'underground',\n",
              " 'gauge',\n",
              " 'henson',\n",
              " 'anaglyph',\n",
              " 'discusses',\n",
              " 'defied',\n",
              " 'renny',\n",
              " 'elaborate',\n",
              " 'herringbone',\n",
              " 'freddyshoop',\n",
              " 'baftas',\n",
              " 'coveted',\n",
              " 'eccentricity',\n",
              " 'salesgirl',\n",
              " 'pastorelli',\n",
              " 'trenchcoat',\n",
              " 'untertones',\n",
              " 'slobber',\n",
              " 'toss',\n",
              " 'resident',\n",
              " 'navy',\n",
              " 'lived',\n",
              " 'owns',\n",
              " 'constructs',\n",
              " 'orders',\n",
              " 'burchill',\n",
              " 'mcdowel',\n",
              " 'powder',\n",
              " 'reminiscence',\n",
              " 'julianna',\n",
              " 'sanitizing',\n",
              " 'politicizing',\n",
              " 'heavily',\n",
              " 'takeoffs',\n",
              " 'hallberg',\n",
              " 'falafel',\n",
              " 'gaffer',\n",
              " 'funneled',\n",
              " 'zerneck',\n",
              " 'snowwhite',\n",
              " 'thud',\n",
              " 'strangulation',\n",
              " 'overlaid',\n",
              " 'reommended',\n",
              " 'speaksman',\n",
              " 'videozone',\n",
              " 'nalo',\n",
              " 'calligraphy',\n",
              " 'cutdowns',\n",
              " 'silverado',\n",
              " 'burketsville',\n",
              " 'apprehend',\n",
              " 'rethought',\n",
              " 'angellic',\n",
              " 'supersadlysoftie',\n",
              " 'techno',\n",
              " 'subjectively',\n",
              " 'computers',\n",
              " 'blah',\n",
              " 'hort',\n",
              " 'sheer',\n",
              " 'tools',\n",
              " 'parasol',\n",
              " 'mn',\n",
              " 'exculsivley',\n",
              " 'pealing',\n",
              " 'ellsworth',\n",
              " 'proletarian',\n",
              " 'catalua',\n",
              " 'doh',\n",
              " 'abercrombie',\n",
              " 'suplex',\n",
              " 'brazlia',\n",
              " 'rungs',\n",
              " 'concerted',\n",
              " 'corresponds',\n",
              " 'mario',\n",
              " 'midwest',\n",
              " 'stainboy',\n",
              " 'variance',\n",
              " 'conceive',\n",
              " 'popoff',\n",
              " 'bigley',\n",
              " 'obesity',\n",
              " 'grandame',\n",
              " 'nebulous',\n",
              " 'bleaching',\n",
              " 'letts',\n",
              " 'informercial',\n",
              " 'critiscism',\n",
              " 'hopkirk',\n",
              " 'arson',\n",
              " 'feedback',\n",
              " 'phisique',\n",
              " 'arejohn',\n",
              " 'non',\n",
              " 'morricone',\n",
              " 'neeson',\n",
              " 'asceticism',\n",
              " 'faerie',\n",
              " 'shirelles',\n",
              " 'belt',\n",
              " 'coda',\n",
              " 'folie',\n",
              " 'krabb',\n",
              " 'goring',\n",
              " 'noting',\n",
              " 'actiona',\n",
              " 'squealing',\n",
              " 'balaclava',\n",
              " 'blowout',\n",
              " 'straining',\n",
              " 'munroe',\n",
              " 'xxx',\n",
              " 'poodle',\n",
              " 'bludgeoning',\n",
              " 'lapd',\n",
              " 'thematics',\n",
              " 'colin',\n",
              " 'capraesque',\n",
              " 'horsewhips',\n",
              " 'pillow',\n",
              " 'looooooooong',\n",
              " 'luzon',\n",
              " 'registrar',\n",
              " 'underpants',\n",
              " 'phillis',\n",
              " 'empress',\n",
              " 'surrealist',\n",
              " 'winier',\n",
              " 'liquidators',\n",
              " 'substitutions',\n",
              " 'van',\n",
              " 'tom',\n",
              " 'manky',\n",
              " 'horn',\n",
              " 'abruptness',\n",
              " 'omens',\n",
              " 'prolong',\n",
              " 'moving',\n",
              " 'evidenced',\n",
              " 'avenge',\n",
              " 'backflashes',\n",
              " 'characterful',\n",
              " 'horsell',\n",
              " 'vaterland',\n",
              " 'saudi',\n",
              " 'chilton',\n",
              " 'inscriptions',\n",
              " 'haara',\n",
              " 'flowers',\n",
              " 'lowered',\n",
              " 'envision',\n",
              " 'christa',\n",
              " 'snowball',\n",
              " 'bursting',\n",
              " 'nothing',\n",
              " 'priest',\n",
              " 'risky',\n",
              " 'chemists',\n",
              " 'foundation',\n",
              " 'wrenched',\n",
              " 'stipulation',\n",
              " 'ongoings',\n",
              " 'imprisoning',\n",
              " 'gigantically',\n",
              " 'spiked',\n",
              " 'thenardier',\n",
              " 'hallucinating',\n",
              " 'bauerisch',\n",
              " 'tersely',\n",
              " 'quantity',\n",
              " 'conduct',\n",
              " 'raved',\n",
              " 'horgan',\n",
              " 'paragon',\n",
              " 'smokling',\n",
              " 'ref',\n",
              " 'phoenician',\n",
              " 'derrek',\n",
              " 'befallen',\n",
              " 'scumbags',\n",
              " 'ferrer',\n",
              " 'nostalgics',\n",
              " 'tiangle',\n",
              " 'florin',\n",
              " 'lavagirl',\n",
              " 'peering',\n",
              " 'jerilderie',\n",
              " 'faudel',\n",
              " 'justifiably',\n",
              " 'dennehy',\n",
              " 'mast',\n",
              " 'finnlayson',\n",
              " 'cocktales',\n",
              " 'applewhite',\n",
              " 'spectaculars',\n",
              " 'wannabees',\n",
              " 'tmtm',\n",
              " 'albeit',\n",
              " 'cmdr',\n",
              " 'nachi',\n",
              " 'sangue',\n",
              " 'whiteys',\n",
              " 'merchandising',\n",
              " 'hilarious',\n",
              " 'pistol',\n",
              " 'traders',\n",
              " 'mellow',\n",
              " 'eminem',\n",
              " 'depreciating',\n",
              " 'schmitz',\n",
              " 'bomberang',\n",
              " 'roaming',\n",
              " 'shya',\n",
              " 'geraldine',\n",
              " 'bathtubs',\n",
              " 'surveyed',\n",
              " 'revolutionists',\n",
              " 'camus',\n",
              " 'textile',\n",
              " 'scott',\n",
              " 'goth',\n",
              " 'harvesting',\n",
              " 'yellowish',\n",
              " 'aphoristic',\n",
              " 'junior',\n",
              " 'desparate',\n",
              " 'fifthly',\n",
              " 'rejuvenating',\n",
              " 'scramble',\n",
              " 'abets',\n",
              " 'reticent',\n",
              " 'inconsistency',\n",
              " 'porky',\n",
              " 'operational',\n",
              " 'neater',\n",
              " 'compost',\n",
              " 'sampled',\n",
              " 'eisenman',\n",
              " 'defeatist',\n",
              " 'paired',\n",
              " 'exhaling',\n",
              " 'whitewashing',\n",
              " 'enjolras',\n",
              " 'awwwwww',\n",
              " 'fllm',\n",
              " 'redden',\n",
              " 'vagrant',\n",
              " 'backdrops',\n",
              " 'ferro',\n",
              " 'fett',\n",
              " 'fury',\n",
              " 'allthrop',\n",
              " 'explorations',\n",
              " 'bounded',\n",
              " 'brit',\n",
              " 'fletch',\n",
              " 'midwife',\n",
              " 'michle',\n",
              " 'marleen',\n",
              " 'bauxite',\n",
              " 'glancing',\n",
              " 'loonier',\n",
              " 'rancour',\n",
              " 'occasionally',\n",
              " 'prophet',\n",
              " 'ascends',\n",
              " 'cairns',\n",
              " 'lesbians',\n",
              " 'marton',\n",
              " 'misfit',\n",
              " 'whereabouts',\n",
              " 'eurovision',\n",
              " 'feral',\n",
              " 'manana',\n",
              " 'mclovins',\n",
              " 'conquers',\n",
              " 'interrupted',\n",
              " 'panders',\n",
              " 'volition',\n",
              " 'quintet',\n",
              " 'fooey',\n",
              " 'sarro',\n",
              " 'vocation',\n",
              " 'morgan',\n",
              " 'burlesqued',\n",
              " 'fossil',\n",
              " 'rescuer',\n",
              " 'zhv',\n",
              " 'farrely',\n",
              " 'eyeliner',\n",
              " 'grindingly',\n",
              " 'obsessiveness',\n",
              " 'obeys',\n",
              " 'mistaking',\n",
              " 'acknowledgment',\n",
              " 'munchies',\n",
              " 'credits',\n",
              " 'gobs',\n",
              " 'vulcan',\n",
              " 'underhand',\n",
              " 'buttock',\n",
              " 'plaster',\n",
              " 'ishai',\n",
              " 'marblehead',\n",
              " 'voltage',\n",
              " 'tarintino',\n",
              " 'easthampton',\n",
              " 'brokerage',\n",
              " 'versy',\n",
              " 'cuckoos',\n",
              " 'amateurish',\n",
              " 'product',\n",
              " 'corsets',\n",
              " 'pamby',\n",
              " 'doyle',\n",
              " 'cue',\n",
              " 'servicemen',\n",
              " 'shooting',\n",
              " 'garnett',\n",
              " 'japrisot',\n",
              " 'rampling',\n",
              " 'cyhper',\n",
              " 'singling',\n",
              " 'mamers',\n",
              " 'empires',\n",
              " 'dumbfounded',\n",
              " 'cetniks',\n",
              " 'reflections',\n",
              " 'terrence',\n",
              " 'hecq',\n",
              " 'wwf',\n",
              " 'necrotic',\n",
              " 'pacifistic',\n",
              " 'myrna',\n",
              " 'tour',\n",
              " 'drugged',\n",
              " 'lackies',\n",
              " 'hbo',\n",
              " 'sugest',\n",
              " 'ramayana',\n",
              " 'mop',\n",
              " 'paquerette',\n",
              " 'catastrophe',\n",
              " 'leisin',\n",
              " 'chilly',\n",
              " 'catastrophically',\n",
              " 'bounding',\n",
              " 'caputured',\n",
              " 'criteria',\n",
              " 'rectifier',\n",
              " 'andreja',\n",
              " 'foiling',\n",
              " 'specimens',\n",
              " 'rippings',\n",
              " 'congenial',\n",
              " 'ayone',\n",
              " 'horky',\n",
              " 'triviata',\n",
              " 'ifan',\n",
              " 'michlle',\n",
              " 'oftenly',\n",
              " 'colourised',\n",
              " 'herren',\n",
              " 'expectedly',\n",
              " 'deviate',\n",
              " 'condoms',\n",
              " 'beachwear',\n",
              " 'yeast',\n",
              " 'noirs',\n",
              " 'stooping',\n",
              " 'hiccup',\n",
              " 'herrand',\n",
              " 'chimeric',\n",
              " 'cessation',\n",
              " 'discouraging',\n",
              " 'bafflingly',\n",
              " 'freinds',\n",
              " 'balu',\n",
              " 'zarustica',\n",
              " 'adept',\n",
              " 'stocky',\n",
              " 'defeated',\n",
              " 'disease',\n",
              " 'mended',\n",
              " 'omelet',\n",
              " 'perpetrate',\n",
              " 'wheeler',\n",
              " 'kimmel',\n",
              " 'brewing',\n",
              " 'katsuhiro',\n",
              " 'peakfire',\n",
              " 'interesting',\n",
              " 'rightfully',\n",
              " 'prayers',\n",
              " 'cobras',\n",
              " 'demilles',\n",
              " 'perp',\n",
              " 'bloodwaters',\n",
              " 'pretendeous',\n",
              " 'branagh',\n",
              " 'birthing',\n",
              " 'tommy',\n",
              " 'deray',\n",
              " 'geneseo',\n",
              " 'blade',\n",
              " 'frolicking',\n",
              " 'sequituurs',\n",
              " 'metamorphose',\n",
              " 'choosened',\n",
              " 'circuses',\n",
              " 'archly',\n",
              " 'refueled',\n",
              " 'sweaters',\n",
              " 'resonating',\n",
              " 'mogule',\n",
              " 'kaige',\n",
              " 'reccomended',\n",
              " 'veronica',\n",
              " 'ominous',\n",
              " 'broccoli',\n",
              " 'mcconnohie',\n",
              " 'settings',\n",
              " 'ncos',\n",
              " 'tomatoey',\n",
              " 'combats',\n",
              " 'cavegirl',\n",
              " 'overdid',\n",
              " 'romford',\n",
              " 'scented',\n",
              " 'ont',\n",
              " 'pluck',\n",
              " 'tingles',\n",
              " 'blinded',\n",
              " 'reasembling',\n",
              " 'cowers',\n",
              " 'patio',\n",
              " 'roomies',\n",
              " 'wilful',\n",
              " 'idiosyncrasies',\n",
              " 'kasdan',\n",
              " 'nomenclature',\n",
              " 'covering',\n",
              " 'navuoo',\n",
              " 'mollycoddle',\n",
              " 'heaving',\n",
              " 'crowley',\n",
              " 'dot',\n",
              " 'shrouded',\n",
              " 'coursed',\n",
              " 'radicalize',\n",
              " 'someup',\n",
              " 'honeymooners',\n",
              " 'descript',\n",
              " 'raper',\n",
              " 'boulevards',\n",
              " 'afterthoughts',\n",
              " 'sodeberg',\n",
              " 'gunny',\n",
              " 'bureaucrats',\n",
              " 'ranch',\n",
              " 'keath',\n",
              " 'legalized',\n",
              " 'lynda',\n",
              " 'heiki',\n",
              " 'hinckley',\n",
              " 'stunker',\n",
              " 'gnawing',\n",
              " 'avast',\n",
              " 'actreesess',\n",
              " 'sponge',\n",
              " 'expend',\n",
              " 'tummy',\n",
              " 'dinedash',\n",
              " 'nothingness',\n",
              " 'obeying',\n",
              " 'bombard',\n",
              " 'explore',\n",
              " 'manufacturer',\n",
              " 'sneaking',\n",
              " 'unsalted',\n",
              " 'industry',\n",
              " 'moonwalker',\n",
              " 'uncontested',\n",
              " 'modeled',\n",
              " 'motion',\n",
              " 'shimizu',\n",
              " 'beetles',\n",
              " 'rankles',\n",
              " 'hurried',\n",
              " 'fartsy',\n",
              " 'transgressive',\n",
              " 'fictionalising',\n",
              " 'misguised',\n",
              " 'haggard',\n",
              " 'rusted',\n",
              " 'rematch',\n",
              " 'subservient',\n",
              " 'storyline',\n",
              " 'windlass',\n",
              " 'bensonhurst',\n",
              " 'recount',\n",
              " 'right',\n",
              " 'demoiselle',\n",
              " 'adulthood',\n",
              " 'journos',\n",
              " 'float',\n",
              " 'josten',\n",
              " 'serra',\n",
              " 'belivably',\n",
              " 'fulfills',\n",
              " 'cannibalistic',\n",
              " 'arcadia',\n",
              " 'klause',\n",
              " 'statute',\n",
              " 'bintang',\n",
              " 'rascals',\n",
              " 'peralta',\n",
              " 'halbert',\n",
              " 'wendigos',\n",
              " 'professional',\n",
              " 'cribs',\n",
              " 'ballz',\n",
              " 'healthily',\n",
              " 'digressive',\n",
              " 'riotous',\n",
              " 'ch',\n",
              " 'whod',\n",
              " 'flynt',\n",
              " 'psych',\n",
              " 'weighted',\n",
              " 'lookalikes',\n",
              " 'denote',\n",
              " 'teuton',\n",
              " 'stepmotherhood',\n",
              " 'cleo',\n",
              " 'churchman',\n",
              " 'caucasin',\n",
              " 'magneto',\n",
              " 'polymer',\n",
              " 'bubi',\n",
              " 'blackwoods',\n",
              " 'overplaying',\n",
              " 'juarez',\n",
              " 'hank',\n",
              " 'sanctifies',\n",
              " 'exasperate',\n",
              " 'kilter',\n",
              " 'bourbon',\n",
              " 'europa',\n",
              " 'disappeared',\n",
              " 'porcupine',\n",
              " 'vieux',\n",
              " 'troublingly',\n",
              " 'accessed',\n",
              " 'reprobate',\n",
              " 'percent',\n",
              " 'cheetah',\n",
              " 'motivic',\n",
              " 'cosmological',\n",
              " 'scotty',\n",
              " 'restating',\n",
              " 'f',\n",
              " 'hypermarket',\n",
              " 'overly',\n",
              " 'cooks',\n",
              " 'stupidest',\n",
              " 'maudit',\n",
              " 'spontaneity',\n",
              " 'notit',\n",
              " 'sores',\n",
              " 'linehan',\n",
              " 'buoyant',\n",
              " 'flour',\n",
              " 'captive',\n",
              " 'assailants',\n",
              " ...]"
            ]
          },
          "metadata": {
            "tags": []
          },
          "execution_count": 130
        }
      ]
    },
    {
      "cell_type": "markdown",
      "metadata": {
        "id": "GQytKPCD7pOI",
        "colab_type": "text"
      },
      "source": [
        "Initialize Weights"
      ]
    },
    {
      "cell_type": "code",
      "metadata": {
        "id": "acKCboVMdVES",
        "colab_type": "code",
        "outputId": "edc9608e-5e19-44d2-860a-407cec451b09",
        "colab": {
          "base_uri": "https://localhost:8080/",
          "height": 243
        }
      },
      "source": [
        "import numpy as np\n",
        "np.random.seed(1)\n",
        "\n",
        "def sigmoid(x):\n",
        "    return 1/(1 + np.exp(-x))\n",
        "\n",
        "alpha, iterations = (0.01, 2)\n",
        "hidden_size = 100\n",
        "\n",
        "weights_0_1 = 0.2*np.random.random((len(vocab),hidden_size)) - 0.1\n",
        "weights_1_2 = 0.2*np.random.random((hidden_size,1)) - 0.1\n",
        "\n",
        "\n",
        "print (weights_0_1)"
      ],
      "execution_count": 131,
      "outputs": [
        {
          "output_type": "stream",
          "text": [
            "[[-0.0165956   0.0440649  -0.09997713 ...  0.0147359  -0.09942593\n",
            "   0.02342898]\n",
            " [-0.03467102  0.00541162  0.07718842 ... -0.05312758  0.02335567\n",
            "   0.08980326]\n",
            " [ 0.09003522  0.01133064  0.08312127 ... -0.08407478  0.09656342\n",
            "  -0.06367743]\n",
            " ...\n",
            " [-0.07656205 -0.09023205 -0.00978559 ... -0.0008865  -0.04352412\n",
            "  -0.06427378]\n",
            " [-0.08444666 -0.07143386 -0.05731608 ... -0.06584719 -0.02770722\n",
            "   0.09327983]\n",
            " [ 0.03695404 -0.05106593  0.02970002 ...  0.0043325   0.00801544\n",
            "  -0.09468272]]\n"
          ],
          "name": "stdout"
        }
      ]
    },
    {
      "cell_type": "markdown",
      "metadata": {
        "id": "ezMWtyPN7xIL",
        "colab_type": "text"
      },
      "source": [
        "Run the Model"
      ]
    },
    {
      "cell_type": "code",
      "metadata": {
        "id": "S0K0gwx8djmm",
        "colab_type": "code",
        "outputId": "65c86941-3110-43fd-d1b5-f73e2697e3b5",
        "colab": {
          "base_uri": "https://localhost:8080/",
          "height": 69
        }
      },
      "source": [
        "\n",
        "\n",
        "correct,total = (0,0)\n",
        "\n",
        "for iter in range(iterations):\n",
        "    \n",
        "    # train on first 24,000\n",
        "    for i in range(len(input_dataset)-1000):\n",
        "\n",
        "        x,y = (input_dataset[i],target_dataset[i])\n",
        "        layer_1 = sigmoid(np.sum(weights_0_1[x],axis=0)) #embed + sigmoid\n",
        "        layer_2 = sigmoid(np.dot(layer_1,weights_1_2)) # linear + softmax\n",
        "\n",
        "        layer_2_delta = layer_2 - y # compare pred with truth\n",
        "        layer_1_delta = layer_2_delta.dot(weights_1_2.T) #backprop\n",
        "\n",
        "        weights_0_1[x] -= layer_1_delta * alpha\n",
        "        weights_1_2 -= np.outer(layer_1,layer_2_delta) * alpha\n",
        "\n",
        "        if(np.abs(layer_2_delta) < 0.5):\n",
        "            correct += 1\n",
        "        total += 1\n",
        "        if(i % 10 == 9):\n",
        "            progress = str(i/float(len(input_dataset)))\n",
        "            sys.stdout.write('\\rIter:'+str(iter)\\\n",
        "                             +' Progress:'+progress[2:4]\\\n",
        "                             +'.'+progress[4:6]\\\n",
        "                             +'% Training Accuracy:'\\\n",
        "                             + str(correct/float(total)) + '%')\n",
        "    print()\n",
        "    \n",
        "correct,total = (0,0)\n",
        "for i in range(len(input_dataset)-1000,len(input_dataset)):\n",
        "\n",
        "    x = input_dataset[i]\n",
        "    y = target_dataset[i]\n",
        "\n",
        "    layer_1 = sigmoid(np.sum(weights_0_1[x],axis=0))\n",
        "    layer_2 = sigmoid(np.dot(layer_1,weights_1_2))\n",
        "    \n",
        "    if(np.abs(layer_2 - y) < 0.5):\n",
        "        correct += 1\n",
        "    total += 1\n",
        "print(\"Test Accuracy:\" + str(correct / float(total)))\n",
        "\n",
        "\n"
      ],
      "execution_count": 132,
      "outputs": [
        {
          "output_type": "stream",
          "text": [
            "Iter:0 Progress:95.99% Training Accuracy:0.8329166666666666%\n",
            "Iter:1 Progress:95.99% Training Accuracy:0.8666041666666666%\n",
            "Test Accuracy:0.845\n"
          ],
          "name": "stdout"
        }
      ]
    },
    {
      "cell_type": "markdown",
      "metadata": {
        "id": "SXY5GDA2keEM",
        "colab_type": "text"
      },
      "source": [
        "Let's get the vector for a word"
      ]
    },
    {
      "cell_type": "code",
      "metadata": {
        "id": "ZNxU2-seiKgU",
        "colab_type": "code",
        "outputId": "2af094db-b2e7-45e9-a962-02a131724c4f",
        "colab": {
          "base_uri": "https://localhost:8080/",
          "height": 364
        }
      },
      "source": [
        "target = \"dentist\"\n",
        "target_index = word2index[target]\n",
        "weights_0_1[target_index]"
      ],
      "execution_count": 133,
      "outputs": [
        {
          "output_type": "execute_result",
          "data": {
            "text/plain": [
              "array([ 0.06009568,  0.0399876 ,  0.0796992 , -0.09598017,  0.02441107,\n",
              "       -0.05011182,  0.04864944,  0.01432665, -0.08427631, -0.02424234,\n",
              "       -0.1110188 , -0.00092907,  0.01382634,  0.04817731,  0.11341218,\n",
              "        0.0482275 ,  0.02766825, -0.08788557,  0.04285284,  0.01776149,\n",
              "        0.0470339 , -0.01960356,  0.04736899,  0.04201924,  0.08765869,\n",
              "        0.01320482, -0.07880731, -0.02327635,  0.07143301,  0.09083226,\n",
              "       -0.02652866,  0.06213588, -0.0578611 ,  0.06648791,  0.08729845,\n",
              "        0.02656941, -0.1150595 ,  0.04982296,  0.10603158, -0.08384936,\n",
              "       -0.02744567,  0.07495822, -0.10328521, -0.06463309, -0.05507632,\n",
              "        0.04800561, -0.09533671,  0.06146645,  0.01385028,  0.08964772,\n",
              "       -0.06842212, -0.05617257,  0.0642133 , -0.0538156 , -0.05942922,\n",
              "       -0.0207913 ,  0.02416927, -0.00484816,  0.05358356, -0.01649914,\n",
              "       -0.0676014 ,  0.10474029,  0.0844068 ,  0.05695092,  0.03845371,\n",
              "        0.04076037, -0.0437208 , -0.04707228, -0.05966761,  0.01271852,\n",
              "        0.09230726, -0.01800832, -0.06975435,  0.00998459, -0.03197055,\n",
              "       -0.09257444,  0.0400714 , -0.05038021, -0.12120387,  0.05851734,\n",
              "        0.07070045,  0.05755179,  0.06316276,  0.00499794,  0.07668682,\n",
              "       -0.02395924, -0.01294779,  0.06169499,  0.10193389, -0.01910974,\n",
              "        0.05731922, -0.05669435, -0.08319834,  0.10888467, -0.05658022,\n",
              "       -0.01724005,  0.09625474, -0.02206194,  0.10008455,  0.04707751])"
            ]
          },
          "metadata": {
            "tags": []
          },
          "execution_count": 133
        }
      ]
    },
    {
      "cell_type": "markdown",
      "metadata": {
        "id": "aqA3dw9lFZ5F",
        "colab_type": "text"
      },
      "source": [
        "# Word2vec"
      ]
    },
    {
      "cell_type": "code",
      "metadata": {
        "id": "pJ8Injlqjj09",
        "colab_type": "code",
        "outputId": "7b2ac83f-b77c-4d0e-a528-f47ab0432abd",
        "colab": {
          "base_uri": "https://localhost:8080/",
          "height": 208
        }
      },
      "source": [
        "!wget http://mattmahoney.net/dc/text8.zip -O text8.zip"
      ],
      "execution_count": 134,
      "outputs": [
        {
          "output_type": "stream",
          "text": [
            "--2020-01-21 03:17:25--  http://mattmahoney.net/dc/text8.zip\n",
            "Resolving mattmahoney.net (mattmahoney.net)... 67.195.197.75\n",
            "Connecting to mattmahoney.net (mattmahoney.net)|67.195.197.75|:80... connected.\n",
            "HTTP request sent, awaiting response... 200 OK\n",
            "Length: 31344016 (30M) [application/zip]\n",
            "Saving to: ‘text8.zip’\n",
            "\n",
            "text8.zip           100%[===================>]  29.89M  2.17MB/s    in 14s     \n",
            "\n",
            "2020-01-21 03:17:39 (2.14 MB/s) - ‘text8.zip’ saved [31344016/31344016]\n",
            "\n"
          ],
          "name": "stdout"
        }
      ]
    },
    {
      "cell_type": "code",
      "metadata": {
        "id": "cRhXck_HmuGu",
        "colab_type": "code",
        "outputId": "0b870aa0-f772-489d-ca5d-011979f42231",
        "colab": {
          "base_uri": "https://localhost:8080/",
          "height": 69
        }
      },
      "source": [
        "!unzip text8.zip"
      ],
      "execution_count": 135,
      "outputs": [
        {
          "output_type": "stream",
          "text": [
            "Archive:  text8.zip\n",
            "replace text8? [y]es, [n]o, [A]ll, [N]one, [r]ename: y\n",
            "  inflating: text8                   \n"
          ],
          "name": "stdout"
        }
      ]
    },
    {
      "cell_type": "code",
      "metadata": {
        "id": "eTFvUlmCmyG1",
        "colab_type": "code",
        "outputId": "1a05681a-ef33-4161-ab81-86e70ae22bec",
        "colab": {
          "base_uri": "https://localhost:8080/",
          "height": 332
        }
      },
      "source": [
        "!pip install gensim  "
      ],
      "execution_count": 136,
      "outputs": [
        {
          "output_type": "stream",
          "text": [
            "Requirement already satisfied: gensim in /usr/local/lib/python3.6/dist-packages (3.6.0)\n",
            "Requirement already satisfied: smart-open>=1.2.1 in /usr/local/lib/python3.6/dist-packages (from gensim) (1.9.0)\n",
            "Requirement already satisfied: six>=1.5.0 in /usr/local/lib/python3.6/dist-packages (from gensim) (1.12.0)\n",
            "Requirement already satisfied: numpy>=1.11.3 in /usr/local/lib/python3.6/dist-packages (from gensim) (1.17.5)\n",
            "Requirement already satisfied: scipy>=0.18.1 in /usr/local/lib/python3.6/dist-packages (from gensim) (1.4.1)\n",
            "Requirement already satisfied: requests in /usr/local/lib/python3.6/dist-packages (from smart-open>=1.2.1->gensim) (2.21.0)\n",
            "Requirement already satisfied: boto3 in /usr/local/lib/python3.6/dist-packages (from smart-open>=1.2.1->gensim) (1.10.47)\n",
            "Requirement already satisfied: boto>=2.32 in /usr/local/lib/python3.6/dist-packages (from smart-open>=1.2.1->gensim) (2.49.0)\n",
            "Requirement already satisfied: chardet<3.1.0,>=3.0.2 in /usr/local/lib/python3.6/dist-packages (from requests->smart-open>=1.2.1->gensim) (3.0.4)\n",
            "Requirement already satisfied: certifi>=2017.4.17 in /usr/local/lib/python3.6/dist-packages (from requests->smart-open>=1.2.1->gensim) (2019.11.28)\n",
            "Requirement already satisfied: idna<2.9,>=2.5 in /usr/local/lib/python3.6/dist-packages (from requests->smart-open>=1.2.1->gensim) (2.8)\n",
            "Requirement already satisfied: urllib3<1.25,>=1.21.1 in /usr/local/lib/python3.6/dist-packages (from requests->smart-open>=1.2.1->gensim) (1.24.3)\n",
            "Requirement already satisfied: botocore<1.14.0,>=1.13.47 in /usr/local/lib/python3.6/dist-packages (from boto3->smart-open>=1.2.1->gensim) (1.13.47)\n",
            "Requirement already satisfied: jmespath<1.0.0,>=0.7.1 in /usr/local/lib/python3.6/dist-packages (from boto3->smart-open>=1.2.1->gensim) (0.9.4)\n",
            "Requirement already satisfied: s3transfer<0.3.0,>=0.2.0 in /usr/local/lib/python3.6/dist-packages (from boto3->smart-open>=1.2.1->gensim) (0.2.1)\n",
            "Requirement already satisfied: docutils<0.16,>=0.10 in /usr/local/lib/python3.6/dist-packages (from botocore<1.14.0,>=1.13.47->boto3->smart-open>=1.2.1->gensim) (0.15.2)\n",
            "Requirement already satisfied: python-dateutil<3.0.0,>=2.1; python_version >= \"2.7\" in /usr/local/lib/python3.6/dist-packages (from botocore<1.14.0,>=1.13.47->boto3->smart-open>=1.2.1->gensim) (2.6.1)\n"
          ],
          "name": "stdout"
        }
      ]
    },
    {
      "cell_type": "code",
      "metadata": {
        "id": "rJemHGPSmyUW",
        "colab_type": "code",
        "colab": {}
      },
      "source": [
        "from gensim.models import word2vec"
      ],
      "execution_count": 0,
      "outputs": []
    },
    {
      "cell_type": "code",
      "metadata": {
        "id": "Ve-NjWtJm30H",
        "colab_type": "code",
        "outputId": "0560000e-9a81-4e0b-d922-028baabcdcf6",
        "colab": {
          "base_uri": "https://localhost:8080/",
          "height": 89
        }
      },
      "source": [
        "# https://github.com/dav/word2vec/blob/master/scripts/create-text8-vector-data.sh#L16\n",
        "model = word2vec.Word2Vec(corpus_file='text8',size=100, window=5, min_count=1, workers=4)"
      ],
      "execution_count": 139,
      "outputs": [
        {
          "output_type": "stream",
          "text": [
            "/usr/local/lib/python3.6/dist-packages/smart_open/smart_open_lib.py:402: UserWarning: This function is deprecated, use smart_open.open instead. See the migration notes for details: https://github.com/RaRe-Technologies/smart_open/blob/master/README.rst#migrating-to-the-new-open-function\n",
            "  'See the migration notes for details: %s' % _MIGRATION_NOTES_URL\n",
            "WARNING:gensim.models.base_any2vec:under 10 jobs per worker: consider setting a smaller `batch_words' for smoother alpha decay\n"
          ],
          "name": "stderr"
        }
      ]
    },
    {
      "cell_type": "markdown",
      "metadata": {
        "id": "7bpy8k9o8hw1",
        "colab_type": "text"
      },
      "source": [
        "Let's get the vector for a word"
      ]
    },
    {
      "cell_type": "code",
      "metadata": {
        "id": "cPMlmVWmp0PS",
        "colab_type": "code",
        "outputId": "a58a625d-3d0b-46e4-e3e0-2759f48ea757",
        "colab": {
          "base_uri": "https://localhost:8080/",
          "height": 312
        }
      },
      "source": [
        "vector = model.wv['computer']\n",
        "print(vector)"
      ],
      "execution_count": 140,
      "outputs": [
        {
          "output_type": "stream",
          "text": [
            "[ 0.11289718 -0.04422016  0.00180758 -0.05244258  0.04945259  0.05354308\n",
            " -0.06185471 -0.01307127 -0.0034565   0.0579153   0.01254798  0.02892429\n",
            " -0.11332789  0.03532086 -0.09531708 -0.029345   -0.07718465 -0.01858856\n",
            " -0.07120853  0.07782654 -0.03414229 -0.14115459  0.09128417 -0.05705065\n",
            " -0.07077157  0.0075607   0.03936555  0.04517461  0.07232532 -0.01993036\n",
            "  0.02286101  0.00512438 -0.0308705  -0.08631044  0.00925408  0.02353635\n",
            "  0.09170044  0.10479543 -0.05660923  0.00542756 -0.04016088  0.08971819\n",
            " -0.10769056  0.02799187  0.03116529 -0.00315698  0.07421315 -0.02154413\n",
            " -0.00978852  0.04468653 -0.00960887  0.0692682   0.0433637   0.06471037\n",
            " -0.05130323 -0.07337978 -0.0917681  -0.06012401  0.06624223  0.05527163\n",
            " -0.00722482  0.13473813  0.02162848 -0.0002016  -0.02273206  0.08307061\n",
            "  0.07453457 -0.07231398  0.00644889  0.02980266 -0.02262798 -0.07921049\n",
            "  0.08299242  0.1355353   0.0235066  -0.05111807 -0.07920542 -0.05046162\n",
            "  0.04100739 -0.0323855  -0.08218705 -0.06942842 -0.04895569 -0.08392859\n",
            " -0.04586595 -0.07427588  0.06787733  0.08198857 -0.06072267 -0.02029699\n",
            "  0.07172375  0.03949587 -0.05039726  0.01704037  0.0067168   0.00250858\n",
            "  0.08072415  0.0620577  -0.09918073 -0.02499147]\n"
          ],
          "name": "stdout"
        }
      ]
    },
    {
      "cell_type": "markdown",
      "metadata": {
        "id": "fOQCbfEeHXGO",
        "colab_type": "text"
      },
      "source": [
        "## Get the similarity scores of the three embeddings"
      ]
    },
    {
      "cell_type": "code",
      "metadata": {
        "id": "erpB0wQp_f4U",
        "colab_type": "code",
        "colab": {}
      },
      "source": [
        "import numpy as np\n",
        "from sklearn.metrics.pairwise import cosine_similarity"
      ],
      "execution_count": 0,
      "outputs": []
    },
    {
      "cell_type": "code",
      "metadata": {
        "id": "Bjd_nn6UoPID",
        "colab_type": "code",
        "outputId": "0b1b6f78-d837-4213-e62e-2ec0b4d414f2",
        "colab": {
          "base_uri": "https://localhost:8080/",
          "height": 537
        }
      },
      "source": [
        "pd.options.mode.chained_assignment = None  # default='warn'\n",
        "for num in randints:\n",
        "  word1 = simlex_rand.loc[simlex_rand.index == num]['word1'].values[0]\n",
        "  word2 = simlex_rand.loc[simlex_rand.index == num]['word2'].values[0]\n",
        "  print('Embedding this pair from Simlex_999: \"{}\" and \"{}\"'.format(word1, word2))\n",
        "  print('Running universal sentence encoder on \"{}\"'.format(word1))\n",
        "  messages = [word1]\n",
        "  # Reduce logging output.\n",
        "  tf.logging.set_verbosity(tf.logging.ERROR)\n",
        "\n",
        "  with tf.Session() as session:\n",
        "    session.run([tf.global_variables_initializer(), tf.tables_initializer()])\n",
        "    message_embeddings = session.run(embed(messages))\n",
        "\n",
        "    for i, message_embedding in enumerate(np.array(message_embeddings).tolist()):\n",
        "      print(\"Message: {}\".format(messages[i]))\n",
        "      print(\"Embedding size: {}\".format(len(message_embedding)))\n",
        "      message_embedding_snippet = \", \".join(\n",
        "          (str(x) for x in message_embedding[:3]))\n",
        "      print(\"Embedding: [{}, ...]\\n\".format(message_embedding_snippet))\n",
        "\n",
        "  vector1 = message_embedding\n",
        "  vector1 = np.asarray(vector1)\n",
        "  vector1 = vector1.reshape(1,512)\n",
        "\n",
        "  print('Running universal sentence encoder on \"{}\"'.format(word2))\n",
        "  messages = [word2]\n",
        "\n",
        "  # Reduce logging output.\n",
        "  tf.logging.set_verbosity(tf.logging.ERROR)\n",
        "\n",
        "  with tf.Session() as session:\n",
        "    session.run([tf.global_variables_initializer(), tf.tables_initializer()])\n",
        "    message_embeddings = session.run(embed(messages))\n",
        "\n",
        "  for i, message_embedding in enumerate(np.array(message_embeddings).tolist()):\n",
        "    print(\"Message: {}\".format(messages[i]))\n",
        "    print(\"Embedding size: {}\".format(len(message_embedding)))\n",
        "    message_embedding_snippet = \", \".join(\n",
        "        (str(x) for x in message_embedding[:3]))\n",
        "\n",
        "  vector2 = message_embedding\n",
        "  vector2 = np.asarray(vector2)\n",
        "  vector2 = vector2.reshape(1,512)\n",
        "\n",
        "  cos_sim = cosine_similarity(vector1, vector2)\n",
        "  print('Cosine similarity from Universal sentence encoder for {} and {} = {}'.format(word1,word2,cos_sim) )\n",
        "  simlex_rand.loc[simlex_rand.index == num,'USE Cosine Sim'] = cos_sim"
      ],
      "execution_count": 142,
      "outputs": [
        {
          "output_type": "stream",
          "text": [
            "Embedding this pair from Simlex_999: \"value\" and \"belief\"\n",
            "Running universal sentence encoder on \"value\"\n",
            "Message: value\n",
            "Embedding size: 512\n",
            "Embedding: [0.023315245285630226, 0.002574664307758212, -0.04323190823197365, ...]\n",
            "\n",
            "Running universal sentence encoder on \"belief\"\n",
            "Message: belief\n",
            "Embedding size: 512\n",
            "Cosine similarity from Universal sentence encoder for value and belief = [[0.26116359]]\n",
            "Embedding this pair from Simlex_999: \"oil\" and \"mink\"\n",
            "Running universal sentence encoder on \"oil\"\n",
            "Message: oil\n",
            "Embedding size: 512\n",
            "Embedding: [-0.022792192175984383, 0.05218827724456787, -0.009384042583405972, ...]\n",
            "\n",
            "Running universal sentence encoder on \"mink\"\n",
            "Message: mink\n",
            "Embedding size: 512\n",
            "Cosine similarity from Universal sentence encoder for oil and mink = [[0.31359772]]\n",
            "Embedding this pair from Simlex_999: \"attitude\" and \"confidence\"\n",
            "Running universal sentence encoder on \"attitude\"\n",
            "Message: attitude\n",
            "Embedding size: 512\n",
            "Embedding: [-0.014253339730203152, -0.0031567823607474566, -0.03229227662086487, ...]\n",
            "\n",
            "Running universal sentence encoder on \"confidence\"\n",
            "Message: confidence\n",
            "Embedding size: 512\n",
            "Cosine similarity from Universal sentence encoder for attitude and confidence = [[0.72118767]]\n"
          ],
          "name": "stdout"
        }
      ]
    },
    {
      "cell_type": "markdown",
      "metadata": {
        "id": "HxkSjMhF5b-e",
        "colab_type": "text"
      },
      "source": [
        "Embedding method 2"
      ]
    },
    {
      "cell_type": "code",
      "metadata": {
        "id": "oLebzLYM5iP9",
        "colab_type": "code",
        "outputId": "ddf75f63-3467-4b37-8135-f3529b8ec6a9",
        "colab": {
          "base_uri": "https://localhost:8080/",
          "height": 121
        }
      },
      "source": [
        "for num in randints:\n",
        "  word1 = simlex_rand.loc[simlex_rand.index == num]['word1'].values[0]\n",
        "  word2 = simlex_rand.loc[simlex_rand.index == num]['word2'].values[0]\n",
        "  print('running word2index on the pair {} and {}'.format(word1,word2))\n",
        "  target_index1 = word2index[word1]\n",
        "  target_index2 = word2index[word2]\n",
        "  vector1 = weights_0_1[target_index1]\n",
        "  vector1 = vector1.reshape(1,100)\n",
        "  vector2 = weights_0_1[target_index2]\n",
        "  vector2 = vector2.reshape(1,100)\n",
        "  cos_sim = cosine_similarity(vector1, vector2)\n",
        "  print('Cosine similarity from word2index for {} and {} = {}'.format(word1,word2,cos_sim))\n",
        "  simlex_rand.loc[simlex_rand.index == num,'word2index Cosine Sim'] = cos_sim\n"
      ],
      "execution_count": 143,
      "outputs": [
        {
          "output_type": "stream",
          "text": [
            "running word2index on the pair value and belief\n",
            "Cosine similarity from word2index for value and belief = [[0.0463035]]\n",
            "running word2index on the pair oil and mink\n",
            "Cosine similarity from word2index for oil and mink = [[0.05352225]]\n",
            "running word2index on the pair attitude and confidence\n",
            "Cosine similarity from word2index for attitude and confidence = [[-0.15378198]]\n"
          ],
          "name": "stdout"
        }
      ]
    },
    {
      "cell_type": "markdown",
      "metadata": {
        "id": "KjkSQ3ob-wwF",
        "colab_type": "text"
      },
      "source": [
        "Embedding method word2vec\n",
        "\n"
      ]
    },
    {
      "cell_type": "code",
      "metadata": {
        "id": "N1d--ZVE-qP5",
        "colab_type": "code",
        "outputId": "d6933338-b9f1-464a-d071-7160ecd30015",
        "colab": {
          "base_uri": "https://localhost:8080/",
          "height": 121
        }
      },
      "source": [
        "for num in randints:\n",
        "  word1 = simlex_rand.loc[simlex_rand.index == num]['word1'].values[0]\n",
        "  word2 = simlex_rand.loc[simlex_rand.index == num]['word2'].values[0]\n",
        "  print('running word2vec on the pair {} and {}'.format(word1,word2))\n",
        "  vector1 = model.wv[word1]\n",
        "  vector1 = vector1.reshape(1,100)\n",
        "  vector2 = model.wv[word2]\n",
        "  vector2 = vector2.reshape(1,100)\n",
        "  cos_sim = cosine_similarity(vector1, vector2)\n",
        "  print('Cosine similarity from word2vec for {} and {} = {}'.format(word1,word2,cos_sim))\n",
        "  simlex_rand.loc[simlex_rand.index == num,'word2vec Cosine Sim'] = cos_sim\n",
        "\n"
      ],
      "execution_count": 145,
      "outputs": [
        {
          "output_type": "stream",
          "text": [
            "running word2vec on the pair value and belief\n",
            "Cosine similarity from word2vec for value and belief = [[0.974757]]\n",
            "running word2vec on the pair oil and mink\n",
            "Cosine similarity from word2vec for oil and mink = [[0.95331794]]\n",
            "running word2vec on the pair attitude and confidence\n",
            "Cosine similarity from word2vec for attitude and confidence = [[0.128643]]\n"
          ],
          "name": "stdout"
        }
      ]
    },
    {
      "cell_type": "code",
      "metadata": {
        "id": "H9hcrHk5E9jB",
        "colab_type": "code",
        "colab": {
          "base_uri": "https://localhost:8080/",
          "height": 121
        },
        "outputId": "ce54cdcc-8a43-46cd-82f3-f8ac0fccf3a5"
      },
      "source": [
        "simlex_rand_out = simlex_rand[['word1','word2','SimLex999', 'USE Cosine Sim',\n",
        "       'word2index Cosine Sim', 'word2vec Cosine Sim']]\n",
        "simlex_rand_out.columns = ['word1','word2','SimLex999', 'USE',\n",
        "       'CBOW', 'word2vec']\n",
        "simlex_rand_out = round(simlex_rand_out,4)\n",
        "print('The cosine similarities from the 3 word embedding methods can be seen below.\\nThe similarity scores are not close to the Simlex999 scores')\n",
        "print(simlex_rand_out)"
      ],
      "execution_count": 154,
      "outputs": [
        {
          "output_type": "stream",
          "text": [
            "The cosine similarities from the 3 word embedding methods can be seen below.\n",
            "The similarity scores are not close to the Simlex999 scores\n",
            "        word1       word2  SimLex999     USE    CBOW  word2vec\n",
            "568     value      belief       7.07  0.2612  0.0463    0.9748\n",
            "492       oil        mink       1.23  0.3136  0.0535    0.9533\n",
            "478  attitude  confidence       4.35  0.7212 -0.1538    0.1286\n"
          ],
          "name": "stdout"
        }
      ]
    },
    {
      "cell_type": "code",
      "metadata": {
        "id": "gON6qZ6yMC7D",
        "colab_type": "code",
        "colab": {}
      },
      "source": [
        ""
      ],
      "execution_count": 0,
      "outputs": []
    }
  ]
}
