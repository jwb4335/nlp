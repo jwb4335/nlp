{
  "nbformat": 4,
  "nbformat_minor": 0,
  "metadata": {
    "colab": {
      "name": "hw2part1.ipynb",
      "provenance": [],
      "toc_visible": true,
      "authorship_tag": "ABX9TyOonFfiUesbp9dviv52V7ck",
      "include_colab_link": true
    },
    "kernelspec": {
      "name": "python3",
      "display_name": "Python 3"
    }
  },
  "cells": [
    {
      "cell_type": "markdown",
      "metadata": {
        "id": "view-in-github",
        "colab_type": "text"
      },
      "source": [
        "<a href=\"https://colab.research.google.com/github/felipemontano10/nlp/blob/master/hw2part1.ipynb\" target=\"_parent\"><img src=\"https://colab.research.google.com/assets/colab-badge.svg\" alt=\"Open In Colab\"/></a>"
      ]
    },
    {
      "cell_type": "markdown",
      "metadata": {
        "id": "_lQYv-MZUXBk",
        "colab_type": "text"
      },
      "source": [
        "###**HOMEWORK 2 - Part 1**\n",
        "##J. Felipe Montano-Campos\n",
        "\n",
        "\n",
        "\n"
      ]
    },
    {
      "cell_type": "markdown",
      "metadata": {
        "id": "s04yG6eZ89-4",
        "colab_type": "text"
      },
      "source": [
        "# Process the Sim Lex999 Data"
      ]
    },
    {
      "cell_type": "code",
      "metadata": {
        "id": "ZaAWRcah9DYG",
        "colab_type": "code",
        "colab": {}
      },
      "source": [
        "from random import seed\n",
        "from random import randint\n"
      ],
      "execution_count": 0,
      "outputs": []
    },
    {
      "cell_type": "code",
      "metadata": {
        "id": "LiV0AXKU9DeK",
        "colab_type": "code",
        "colab": {}
      },
      "source": [
        "filename = \"Sim_Lex999.txt\"\n",
        "file = open(filename, \"r\")\n",
        "text = file.read()\n",
        "file.close()\n",
        "with open(filename) as file_in:\n",
        "    lines = []\n",
        "    for line in file_in:\n",
        "        lines.append(line)"
      ],
      "execution_count": 0,
      "outputs": []
    },
    {
      "cell_type": "markdown",
      "metadata": {
        "id": "DhzRQqVr-hZE",
        "colab_type": "text"
      },
      "source": [
        "Let's get three random rows"
      ]
    },
    {
      "cell_type": "code",
      "metadata": {
        "id": "1y3JCFlr-GFt",
        "colab_type": "code",
        "outputId": "8be44bfc-0bd8-4318-bec5-131b47529352",
        "colab": {
          "base_uri": "https://localhost:8080/",
          "height": 68
        }
      },
      "source": [
        "value1 = randint(2, 1000)\n",
        "value2 = randint(2, 1000)\n",
        "value3 = randint(2, 1000)\n",
        "print(value1)\n",
        "print(value2)\n",
        "print(value3)\n",
        "\n"
      ],
      "execution_count": 0,
      "outputs": [
        {
          "output_type": "stream",
          "text": [
            "975\n",
            "197\n",
            "679\n"
          ],
          "name": "stdout"
        }
      ]
    },
    {
      "cell_type": "code",
      "metadata": {
        "id": "4_RgqCir-KvH",
        "colab_type": "code",
        "outputId": "ac407044-7f71-4f8b-e3db-f02e54fd5b9f",
        "colab": {
          "base_uri": "https://localhost:8080/",
          "height": 119
        }
      },
      "source": [
        "print(lines[value1])\n",
        "print(lines[value2])\n",
        "print(lines[value3])"
      ],
      "execution_count": 0,
      "outputs": [
        {
          "output_type": "stream",
          "text": [
            "go:sell:0.97:v:v\n",
            "\n",
            "winter:season:6.27:n:n\n",
            "\n",
            "apple:lemon:4.05:n:n\n",
            "\n"
          ],
          "name": "stdout"
        }
      ]
    },
    {
      "cell_type": "markdown",
      "metadata": {
        "id": "XXoGYbwX5lsS",
        "colab_type": "text"
      },
      "source": [
        "##      Word Embedding and Similarity Measurement"
      ]
    },
    {
      "cell_type": "markdown",
      "metadata": {
        "id": "dtB2CDOoUdR-",
        "colab_type": "text"
      },
      "source": [
        "**Method 1:** Let's run the code Universal Sentence Coder to get the Word Embedding using this method \n",
        "\n"
      ]
    },
    {
      "cell_type": "code",
      "metadata": {
        "id": "-FYtVC-yUZM1",
        "colab_type": "code",
        "colab": {}
      },
      "source": [
        "# Install the latest Tensorflow version.\n",
        "!pip3 install --quiet \"tensorflow>=1.7\"\n",
        "# Install TF-Hub.\n",
        "!pip3 install --quiet tensorflow-hub\n",
        "!pip3 install --quiet seaborn"
      ],
      "execution_count": 0,
      "outputs": []
    },
    {
      "cell_type": "code",
      "metadata": {
        "id": "ihSV9yc0VrzO",
        "colab_type": "code",
        "outputId": "6183c20d-c9d9-43c0-e7b5-39ea468610e1",
        "colab": {
          "base_uri": "https://localhost:8080/",
          "height": 63
        }
      },
      "source": [
        "import tensorflow as tf\n",
        "import tensorflow_hub as hub\n",
        "import matplotlib.pyplot as plt\n",
        "import numpy as np\n",
        "import os\n",
        "import pandas as pd\n",
        "import re\n",
        "import seaborn as sns"
      ],
      "execution_count": 0,
      "outputs": [
        {
          "output_type": "display_data",
          "data": {
            "text/html": [
              "<p style=\"color: red;\">\n",
              "The default version of TensorFlow in Colab will soon switch to TensorFlow 2.x.<br>\n",
              "We recommend you <a href=\"https://www.tensorflow.org/guide/migrate\" target=\"_blank\">upgrade</a> now \n",
              "or ensure your notebook will continue to use TensorFlow 1.x via the <code>%tensorflow_version 1.x</code> magic:\n",
              "<a href=\"https://colab.research.google.com/notebooks/tensorflow_version.ipynb\" target=\"_blank\">more info</a>.</p>\n"
            ],
            "text/plain": [
              "<IPython.core.display.HTML object>"
            ]
          },
          "metadata": {
            "tags": []
          }
        }
      ]
    },
    {
      "cell_type": "code",
      "metadata": {
        "id": "H7BrHp6RVsV6",
        "colab_type": "code",
        "colab": {}
      },
      "source": [
        "module_url = \"https://tfhub.dev/google/universal-sentence-encoder/2\" #@param [\"https://tfhub.dev/google/universal-sentence-encoder/2\", \"https://tfhub.dev/google/universal-sentence-encoder-large/3\"]"
      ],
      "execution_count": 0,
      "outputs": []
    },
    {
      "cell_type": "code",
      "metadata": {
        "id": "zxVtdHu0Vsff",
        "colab_type": "code",
        "outputId": "e3bb6105-606c-4968-9971-d195c707cda8",
        "colab": {
          "base_uri": "https://localhost:8080/",
          "height": 85
        }
      },
      "source": [
        "# Import the Universal Sentence Encoder's TF Hub module\n",
        "embed = hub.Module(module_url)\n",
        "\n",
        "# Compute a representation for each message, showing various lengths supported.\n",
        "word = \"breakfast\"\n",
        "messages = [word]\n",
        "\n",
        "# Reduce logging output.\n",
        "tf.logging.set_verbosity(tf.logging.ERROR)\n",
        "\n",
        "with tf.Session() as session:\n",
        "  session.run([tf.global_variables_initializer(), tf.tables_initializer()])\n",
        "  message_embeddings = session.run(embed(messages))\n",
        "\n",
        "  for i, message_embedding in enumerate(np.array(message_embeddings).tolist()):\n",
        "    print(\"Message: {}\".format(messages[i]))\n",
        "    print(\"Embedding size: {}\".format(len(message_embedding)))\n",
        "    message_embedding_snippet = \", \".join(\n",
        "        (str(x) for x in message_embedding[:3]))\n",
        "    print(\"Embedding: [{}, ...]\\n\".format(message_embedding_snippet))"
      ],
      "execution_count": 0,
      "outputs": [
        {
          "output_type": "stream",
          "text": [
            "Message: breakfast\n",
            "Embedding size: 512\n",
            "Embedding: [-0.016404513269662857, -0.04483848437666893, -0.0037806909531354904, ...]\n",
            "\n"
          ],
          "name": "stdout"
        }
      ]
    },
    {
      "cell_type": "code",
      "metadata": {
        "id": "nJlhHGCCx_Dl",
        "colab_type": "code",
        "outputId": "e6bce84b-cd16-4587-e8b8-b90d90106da5",
        "colab": {
          "base_uri": "https://localhost:8080/",
          "height": 34
        }
      },
      "source": [
        "message_embedding_snippet"
      ],
      "execution_count": 0,
      "outputs": [
        {
          "output_type": "execute_result",
          "data": {
            "text/plain": [
              "'-0.016404513269662857, -0.04483848437666893, -0.0037806909531354904'"
            ]
          },
          "metadata": {
            "tags": []
          },
          "execution_count": 59
        }
      ]
    },
    {
      "cell_type": "code",
      "metadata": {
        "id": "NFxOfW-nvRna",
        "colab_type": "code",
        "colab": {}
      },
      "source": [
        "word = \"breakfast\"\n",
        "messages = [word]\n",
        "\n",
        "# Reduce logging output.\n",
        "tf.logging.set_verbosity(tf.logging.ERROR)\n",
        "\n",
        "with tf.Session() as session:\n",
        "  session.run([tf.global_variables_initializer(), tf.tables_initializer()])\n",
        "  message_embeddings = session.run(embed(messages))"
      ],
      "execution_count": 0,
      "outputs": []
    },
    {
      "cell_type": "code",
      "metadata": {
        "id": "cEE2hT2Pvnr4",
        "colab_type": "code",
        "outputId": "27808198-eb8c-4fe8-b879-d1cdeac06d30",
        "colab": {
          "base_uri": "https://localhost:8080/",
          "height": 1000
        }
      },
      "source": [
        "message_embeddings"
      ],
      "execution_count": 0,
      "outputs": [
        {
          "output_type": "execute_result",
          "data": {
            "text/plain": [
              "array([[-1.64045133e-02, -4.48384844e-02, -3.78069095e-03,\n",
              "         4.68277894e-02, -7.71008851e-03, -5.05571701e-02,\n",
              "        -6.78127445e-03, -3.27876322e-02, -6.28904551e-02,\n",
              "        -4.78958301e-02,  5.76800331e-02, -5.30807972e-02,\n",
              "         2.26386786e-02,  2.00913250e-02, -1.91726331e-02,\n",
              "         1.45138241e-02, -9.16321948e-03, -3.39176925e-03,\n",
              "        -2.80498969e-03, -3.79767418e-02,  4.18685153e-02,\n",
              "        -6.24692850e-02, -2.87507810e-02, -3.40368375e-02,\n",
              "        -3.47199216e-02, -2.53357105e-02, -4.59449776e-02,\n",
              "        -7.09898174e-02, -6.53066039e-02,  3.80705930e-02,\n",
              "        -3.92757617e-02, -2.31163409e-02, -3.94491926e-02,\n",
              "         1.65286213e-02,  3.73129509e-02, -5.67618310e-02,\n",
              "        -3.04891113e-02,  5.97833432e-02, -2.56873239e-02,\n",
              "        -6.43153442e-04,  5.93997464e-02,  5.53347953e-02,\n",
              "         2.13192087e-02, -5.59708215e-02,  4.60403711e-02,\n",
              "         2.85874866e-02,  3.25253457e-02, -7.22681209e-02,\n",
              "         5.07617891e-02, -1.03512416e-02, -5.29682003e-02,\n",
              "         1.51346130e-02, -1.43506704e-02, -7.45482892e-02,\n",
              "         6.84560090e-02,  3.44598703e-02,  6.23913892e-02,\n",
              "        -2.28029620e-02,  6.92871958e-02, -4.65405844e-02,\n",
              "         1.46791711e-03,  4.33387607e-02, -9.80392657e-03,\n",
              "        -2.33655982e-02, -1.58475898e-02, -7.11099654e-02,\n",
              "         4.49992083e-02,  2.36815996e-02,  4.20976393e-02,\n",
              "         5.47180064e-02, -2.02259496e-02, -4.10061242e-04,\n",
              "        -2.28972510e-02,  5.76039143e-02, -5.22005707e-02,\n",
              "         1.47448722e-02, -7.56109308e-04, -5.22129945e-02,\n",
              "         4.77575399e-02,  1.26015749e-02, -5.69247715e-02,\n",
              "        -2.16100328e-02, -1.40724424e-03,  1.18314270e-02,\n",
              "        -6.10968135e-02, -2.06040572e-02,  6.42629564e-02,\n",
              "        -5.40778711e-02, -7.86819384e-02, -6.60789758e-02,\n",
              "         3.92722748e-02, -4.23302781e-03,  1.22147426e-02,\n",
              "        -8.26688018e-03,  2.42989138e-02,  2.30881181e-02,\n",
              "        -4.98644134e-04,  2.27303170e-02, -1.36216898e-02,\n",
              "         5.03021628e-02, -3.99269760e-02, -3.60250622e-02,\n",
              "        -2.97519881e-02, -5.59888082e-03, -6.11023754e-02,\n",
              "         5.11104427e-02,  4.05365191e-02,  3.69956307e-02,\n",
              "         1.75815634e-02,  1.57629177e-02,  5.07930554e-02,\n",
              "         1.71935465e-02, -4.47848216e-02,  8.21095109e-02,\n",
              "        -6.14435412e-02, -1.73180103e-02,  4.98835668e-02,\n",
              "        -7.96267390e-02,  4.09090742e-02, -1.83234606e-02,\n",
              "         1.66545119e-02,  1.98406782e-02,  6.96947053e-02,\n",
              "         2.91551147e-02, -4.34328057e-02, -5.17618433e-02,\n",
              "         4.01830010e-04, -4.04181890e-02, -1.76555552e-02,\n",
              "        -6.89656213e-02, -9.93368682e-03,  1.38129303e-02,\n",
              "        -1.37202591e-02,  7.58887604e-02,  2.45121010e-02,\n",
              "        -5.75425625e-02, -7.26879165e-02,  5.76804802e-02,\n",
              "         7.81758800e-02, -1.15618212e-02,  2.29266603e-02,\n",
              "        -4.41124775e-02, -6.45982102e-02,  2.11772025e-02,\n",
              "        -5.36752343e-02, -1.98602416e-02,  8.08887407e-02,\n",
              "         2.82397531e-02,  4.71347421e-02,  3.27862613e-02,\n",
              "         6.28197715e-02, -6.89495578e-02,  4.20867540e-02,\n",
              "        -1.77346170e-02,  2.19284147e-02,  2.51521841e-02,\n",
              "         3.54779512e-02,  8.35386198e-03, -2.20437068e-02,\n",
              "         3.61234471e-02, -7.88490623e-02, -4.03461233e-02,\n",
              "         4.61810194e-02,  2.45633367e-02, -5.83433686e-03,\n",
              "        -3.99549045e-02, -4.01778519e-02, -3.00350171e-02,\n",
              "        -6.89859781e-03, -2.48093195e-02,  4.53364812e-02,\n",
              "        -4.63747717e-02, -3.21074203e-02,  3.77153680e-02,\n",
              "         4.10355292e-02,  7.52608925e-02,  3.96806747e-02,\n",
              "         5.70283942e-02, -7.05021843e-02, -6.15064520e-03,\n",
              "        -5.79154231e-02,  2.03371793e-02,  6.60577416e-02,\n",
              "        -1.74524412e-02, -4.42506634e-02,  4.55979723e-04,\n",
              "         3.24323028e-02,  2.10768953e-02, -4.23105508e-02,\n",
              "         4.06973772e-02,  2.44436190e-02,  3.92102711e-02,\n",
              "         2.65517961e-02,  1.84505749e-02, -5.06089740e-02,\n",
              "        -5.54914549e-02,  4.59972844e-02,  3.48904021e-02,\n",
              "        -5.89411110e-02,  1.09353773e-02,  3.91956866e-02,\n",
              "         1.22054191e-02,  1.44481463e-02,  7.10214302e-02,\n",
              "         4.78814021e-02, -4.70648222e-02,  3.81210516e-03,\n",
              "         5.28011024e-02,  4.25213575e-02, -6.09513149e-02,\n",
              "         6.74639270e-02,  4.71115932e-02,  2.05782112e-02,\n",
              "         5.94896004e-02, -3.86914127e-02,  7.10945055e-02,\n",
              "         2.37018578e-02, -2.85354163e-02,  5.85866626e-03,\n",
              "         2.09155008e-02, -8.86131020e-04, -1.20069021e-02,\n",
              "         5.28397560e-02, -1.48098581e-02,  5.60893901e-02,\n",
              "        -5.74536361e-02,  5.78653663e-02,  5.27989976e-02,\n",
              "         1.18138837e-02,  5.21082841e-02, -4.87462766e-02,\n",
              "        -3.15922946e-02, -5.08261472e-02, -4.33117896e-02,\n",
              "         4.33628634e-03, -1.55816879e-02,  7.19284564e-02,\n",
              "        -1.52824400e-03,  2.56576687e-02, -4.54421192e-02,\n",
              "         1.44198053e-02,  1.15320655e-02,  3.03953886e-03,\n",
              "        -5.09741902e-02, -4.53625917e-02, -2.79021282e-02,\n",
              "        -2.83160228e-02,  3.71241346e-02, -5.91261918e-03,\n",
              "        -5.11852242e-02,  7.10506886e-02,  5.50547950e-02,\n",
              "         2.97486652e-02,  3.34918723e-02,  7.64267892e-02,\n",
              "        -2.91688796e-02,  4.48646769e-02, -2.67824959e-02,\n",
              "         2.31899936e-02, -4.42953929e-02,  5.58398664e-02,\n",
              "         3.70800644e-02, -4.11959961e-02,  6.80608628e-03,\n",
              "         4.81895469e-02, -4.76181768e-02,  2.22564414e-02,\n",
              "        -6.89076409e-02,  8.03909227e-02,  4.92203683e-02,\n",
              "        -2.84700952e-02,  2.42465083e-02,  3.12968083e-02,\n",
              "        -6.60678968e-02, -3.64975780e-02,  5.38579598e-02,\n",
              "         5.57629466e-02,  7.03847185e-02,  1.99662820e-02,\n",
              "        -3.20428759e-02,  6.52750358e-02, -6.26733527e-02,\n",
              "         1.06905680e-02, -3.37982439e-02, -7.50321820e-02,\n",
              "        -6.78918958e-02,  1.82123370e-02,  5.96749373e-02,\n",
              "        -5.73885366e-02,  4.83439825e-02,  4.71835807e-02,\n",
              "         2.04853043e-02,  4.27675024e-02, -4.06419970e-02,\n",
              "         8.36142153e-03, -2.43285336e-02,  4.64507416e-02,\n",
              "         5.64455017e-02,  2.81825028e-02, -6.16638325e-02,\n",
              "        -5.17893303e-03,  5.19619919e-02, -1.69261955e-02,\n",
              "         2.24847738e-02, -4.63256538e-02,  3.84874083e-02,\n",
              "         1.65834988e-03, -1.69290677e-02,  5.69642195e-03,\n",
              "         3.88005227e-02,  7.88595974e-02,  2.89101582e-02,\n",
              "        -5.40919192e-02, -6.72569871e-02, -3.67360264e-02,\n",
              "        -4.16006371e-02,  4.98466380e-02, -3.97044420e-03,\n",
              "         3.31517123e-02, -3.24064866e-02,  2.07408071e-02,\n",
              "         2.40414441e-02, -4.82478924e-03,  2.87301280e-02,\n",
              "         1.03629446e-02, -5.82816079e-02,  2.59968508e-02,\n",
              "         3.02624740e-02,  5.42075522e-02,  5.31255733e-03,\n",
              "         3.80869880e-02,  4.50729840e-02,  5.67426011e-02,\n",
              "        -3.06263268e-02,  6.07411191e-02,  6.53071925e-02,\n",
              "         4.77656871e-02,  6.10593930e-02,  1.21183610e-02,\n",
              "        -7.93552622e-02,  5.37670963e-02,  8.31353515e-02,\n",
              "        -3.26542258e-02,  5.99838234e-02,  2.00079288e-02,\n",
              "        -3.34056728e-02,  1.20278792e-02,  7.33793527e-02,\n",
              "         5.28131649e-02, -2.80610379e-02,  2.06543300e-02,\n",
              "         6.84220120e-02, -2.62785628e-02,  4.40622047e-02,\n",
              "         4.69026901e-02, -6.63913041e-02, -6.61247596e-02,\n",
              "         5.01825884e-02, -7.30114058e-04, -5.63181974e-02,\n",
              "         4.16984521e-02,  1.32497037e-02, -8.06622300e-03,\n",
              "         2.02227570e-02,  1.92824863e-02,  3.12728137e-02,\n",
              "        -3.35489959e-02,  7.72609040e-02, -2.28552241e-02,\n",
              "         6.56387880e-02,  1.65840704e-02,  5.63063398e-02,\n",
              "        -5.10260388e-02, -4.48420905e-02, -7.95091596e-03,\n",
              "         5.92916179e-03, -1.92087609e-03,  1.63959060e-03,\n",
              "        -3.89891267e-02,  2.84677912e-02,  5.24707399e-02,\n",
              "         5.85360788e-02,  3.84887680e-02,  8.43280461e-03,\n",
              "         1.52205001e-03, -5.40892631e-02,  1.08662396e-04,\n",
              "        -6.34480789e-02, -8.02514330e-02,  3.73581909e-02,\n",
              "         7.19665363e-02,  3.03549152e-02, -5.39206304e-02,\n",
              "        -6.70557749e-03, -4.26547490e-02, -1.23798167e-02,\n",
              "         7.22049028e-02, -3.69293988e-02,  5.16383834e-02,\n",
              "        -2.57517416e-02, -8.82211514e-03, -4.35483493e-02,\n",
              "        -7.78029338e-02, -5.76384142e-02,  3.46456878e-02,\n",
              "         5.46536148e-02,  2.21093390e-02, -5.10969609e-02,\n",
              "         1.19533855e-02,  6.33006319e-02, -4.93573360e-02,\n",
              "         3.86981852e-02,  6.02268092e-02,  5.47531359e-02,\n",
              "         2.47026980e-02,  7.15478882e-02,  8.00839067e-02,\n",
              "         3.47992107e-02,  5.47494320e-03, -3.60336602e-02,\n",
              "        -1.01207243e-02, -4.32607420e-02,  4.34558578e-02,\n",
              "        -6.74848855e-02, -8.30121413e-02,  5.67667782e-02,\n",
              "         7.93284476e-02,  6.55768588e-02,  4.60142717e-02,\n",
              "         6.24548197e-02,  7.65539110e-02,  6.46003932e-02,\n",
              "         5.17288856e-02, -5.68220913e-02, -1.64570790e-02,\n",
              "         4.29260843e-02, -2.79092528e-02,  2.99445912e-02,\n",
              "         1.89883169e-02, -3.27665135e-02, -2.31899917e-02,\n",
              "         1.69905536e-02,  2.55760271e-02, -1.92326177e-02,\n",
              "         3.75490747e-02,  4.60576266e-02, -5.51028177e-03,\n",
              "         4.78494763e-02,  7.03279674e-02, -4.95580211e-02,\n",
              "         5.39262546e-03, -1.43551892e-02, -2.75954474e-02,\n",
              "        -1.85347795e-02,  2.99126208e-02, -2.10341415e-03,\n",
              "         8.03878605e-02, -1.97541565e-02,  3.72609384e-02,\n",
              "         1.39312260e-02, -7.07333488e-03, -6.25353903e-02,\n",
              "        -2.89325565e-02,  4.84758653e-02,  8.38145986e-02,\n",
              "        -4.97745629e-03,  3.92002314e-02,  6.03899956e-02,\n",
              "        -5.86592406e-02, -4.09071110e-02, -2.29022037e-02,\n",
              "         1.90548096e-02,  2.15029269e-02, -1.98577121e-02,\n",
              "        -6.86999038e-02,  6.62106276e-02, -4.88544106e-02,\n",
              "         5.60562909e-02,  4.17846534e-03,  4.54612837e-06,\n",
              "        -5.44685274e-02,  3.90220955e-02, -5.64510562e-02,\n",
              "        -6.39485866e-02, -5.15138097e-02,  6.50883559e-03,\n",
              "         5.47173880e-02,  5.07471897e-03, -7.17647001e-02,\n",
              "        -7.07612559e-02, -1.37479194e-02, -6.42007738e-02,\n",
              "        -7.90663958e-02,  1.63982660e-02,  6.03835583e-02,\n",
              "        -6.87483624e-02, -2.29317974e-02, -1.07524777e-02,\n",
              "         6.10730499e-02, -1.99250691e-02, -2.93491762e-02,\n",
              "        -4.87415008e-02,  2.63685286e-02,  6.19948357e-02,\n",
              "        -1.38772996e-02, -6.80299997e-02,  7.65330940e-02,\n",
              "        -8.06005076e-02,  7.86467791e-02, -3.76722701e-02,\n",
              "        -4.98575903e-02, -1.45972660e-02]], dtype=float32)"
            ]
          },
          "metadata": {
            "tags": []
          },
          "execution_count": 44
        }
      ]
    },
    {
      "cell_type": "markdown",
      "metadata": {
        "id": "4u0v8w8YUbDQ",
        "colab_type": "text"
      },
      "source": [
        "**Method 2:** Let's run the code for Filling Blank Using Context (CBOW) to get the Word Embedding using this method  \n"
      ]
    },
    {
      "cell_type": "markdown",
      "metadata": {
        "id": "Qm3z0IUzaQem",
        "colab_type": "text"
      },
      "source": [
        "Download the data"
      ]
    },
    {
      "cell_type": "code",
      "metadata": {
        "id": "paTtI75sX-uP",
        "colab_type": "code",
        "outputId": "df9851dc-46cf-4544-d400-4ff922da2c5d",
        "colab": {
          "base_uri": "https://localhost:8080/",
          "height": 394
        }
      },
      "source": [
        "!wget \"https://raw.githubusercontent.com/udacity/deep-learning/master/sentiment-network/reviews.txt\"\n",
        "!cat reviews.txt | head"
      ],
      "execution_count": 0,
      "outputs": [
        {
          "output_type": "stream",
          "text": [
            "--2020-01-19 16:32:37--  https://raw.githubusercontent.com/udacity/deep-learning/master/sentiment-network/reviews.txt\n",
            "Resolving raw.githubusercontent.com (raw.githubusercontent.com)... 151.101.0.133, 151.101.64.133, 151.101.128.133, ...\n",
            "Connecting to raw.githubusercontent.com (raw.githubusercontent.com)|151.101.0.133|:443... connected.\n",
            "HTTP request sent, awaiting response... 200 OK\n",
            "Length: 33678267 (32M) [text/plain]\n",
            "Saving to: ‘reviews.txt’\n",
            "\n",
            "reviews.txt         100%[===================>]  32.12M  --.-KB/s    in 0.1s    \n",
            "\n",
            "2020-01-19 16:32:38 (218 MB/s) - ‘reviews.txt’ saved [33678267/33678267]\n",
            "\n",
            "bromwell high is a cartoon comedy . it ran at the same time as some other programs about school life  such as  teachers  . my   years in the teaching profession lead me to believe that bromwell high  s satire is much closer to reality than is  teachers  . the scramble to survive financially  the insightful students who can see right through their pathetic teachers  pomp  the pettiness of the whole situation  all remind me of the schools i knew and their students . when i saw the episode in which a student repeatedly tried to burn down the school  i immediately recalled . . . . . . . . . at . . . . . . . . . . high . a classic line inspector i  m here to sack one of your teachers . student welcome to bromwell high . i expect that many adults of my age think that bromwell high is far fetched . what a pity that it isn  t   \n",
            "story of a man who has unnatural feelings for a pig . starts out with a opening scene that is a terrific example of absurd comedy . a formal orchestra audience is turned into an insane  violent mob by the crazy chantings of it  s singers . unfortunately it stays absurd the whole time with no general narrative eventually making it just too off putting . even those from the era should be turned off . the cryptic dialogue would make shakespeare seem easy to a third grader . on a technical level it  s better than you might think with some good cinematography by future great vilmos zsigmond . future stars sally kirkland and frederic forrest can be seen briefly .  \n",
            "homelessness  or houselessness as george carlin stated  has been an issue for years but never a plan to help those on the street that were once considered human who did everything from going to school  work  or vote for the matter . most people think of the homeless as just a lost cause while worrying about things such as racism  the war on iraq  pressuring kids to succeed  technology  the elections  inflation  or worrying if they  ll be next to end up on the streets .  br    br   but what if you were given a bet to live on the streets for a month without the luxuries you once had from a home  the entertainment sets  a bathroom  pictures on the wall  a computer  and everything you once treasure to see what it  s like to be homeless  that is goddard bolt  s lesson .  br    br   mel brooks  who directs  who stars as bolt plays a rich man who has everything in the world until deciding to make a bet with a sissy rival  jeffery tambor  to see if he can live in the streets for thirty days without the luxuries if bolt succeeds  he can do what he wants with a future project of making more buildings . the bet  s on where bolt is thrown on the street with a bracelet on his leg to monitor his every move where he can  t step off the sidewalk . he  s given the nickname pepto by a vagrant after it  s written on his forehead where bolt meets other characters including a woman by the name of molly  lesley ann warren  an ex  dancer who got divorce before losing her home  and her pals sailor  howard morris  and fumes  teddy wilson  who are already used to the streets . they  re survivors . bolt isn  t . he  s not used to reaching mutual agreements like he once did when being rich where it  s fight or flight  kill or be killed .  br    br   while the love connection between molly and bolt wasn  t necessary to plot  i found  life stinks  to be one of mel brooks  observant films where prior to being a comedy  it shows a tender side compared to his slapstick work such as blazing saddles  young frankenstein  or spaceballs for the matter  to show what it  s like having something valuable before losing it the next day or on the other hand making a stupid bet like all rich people do when they don  t know what to do with their money . maybe they should give it to the homeless instead of using it like monopoly money .  br    br   or maybe this film will inspire you to help others .  \n",
            "airport    starts as a brand new luxury    plane is loaded up with valuable paintings  such belonging to rich businessman philip stevens  james stewart  who is flying them  a bunch of vip  s to his estate in preparation of it being opened to the public as a museum  also on board is stevens daughter julie  kathleen quinlan   her son . the luxury jetliner takes off as planned but mid  air the plane is hi  jacked by the co  pilot chambers  robert foxworth   his two accomplice  s banker  monte markham   wilson  michael pataki  who knock the passengers  crew out with sleeping gas  they plan to steal the valuable cargo  land on a disused plane strip on an isolated island but while making his descent chambers almost hits an oil rig in the ocean  loses control of the plane sending it crashing into the sea where it sinks to the bottom right bang in the middle of the bermuda triangle . with air in short supply  water leaking in  having flown over    miles off course the problems mount for the survivor  s as they await help with time fast running out . . .  br    br   also known under the slightly different tile airport     this second sequel to the smash  hit disaster thriller airport       was directed by jerry jameson  while once again like it  s predecessors i can  t say airport    is any sort of forgotten classic it is entertaining although not necessarily for the right reasons . out of the three airport films i have seen so far i actually liked this one the best  just . it has my favourite plot of the three with a nice mid  air hi  jacking  then the crashing  didn  t he see the oil rig    sinking of the     maybe the makers were trying to cross the original airport with another popular disaster flick of the period the poseidon adventure         submerged is where it stays until the end with a stark dilemma facing those trapped inside  either suffocate when the air runs out or drown as the    floods or if any of the doors are opened  it  s a decent idea that could have made for a great little disaster flick but bad unsympathetic character  s  dull dialogue  lethargic set  pieces  a real lack of danger or suspense or tension means this is a missed opportunity . while the rather sluggish plot keeps one entertained for    odd minutes not that much happens after the plane sinks  there  s not as much urgency as i thought there should have been . even when the navy become involved things don  t pick up that much with a few shots of huge ships  helicopters flying about but there  s just something lacking here . george kennedy as the jinxed airline worker joe patroni is back but only gets a couple of scenes  barely even says anything preferring to just look worried in the background .  br    br   the home video  theatrical version of airport    run    minutes while the us tv versions add an extra hour of footage including a new opening credits sequence  many more scenes with george kennedy as patroni  flashbacks to flesh out character  s  longer rescue scenes  the discovery or another couple of dead bodies including the navigator . while i would like to see this extra footage i am not sure i could sit through a near three hour cut of airport    . as expected the film has dated badly with horrible fashions  interior design choices  i will say no more other than the toy plane model effects aren  t great either . along with the other two airport sequels this takes pride of place in the razzie award  s hall of shame although i can think of lots of worse films than this so i reckon that  s a little harsh . the action scenes are a little dull unfortunately  the pace is slow  not much excitement or tension is generated which is a shame as i reckon this could have been a pretty good film if made properly .  br    br   the production values are alright if nothing spectacular . the acting isn  t great  two time oscar winner jack lemmon has said since it was a mistake to star in this  one time oscar winner james stewart looks old  frail  also one time oscar winner lee grant looks drunk while sir christopher lee is given little to do  there are plenty of other familiar faces to look out for too .  br    br   airport    is the most disaster orientated of the three airport films so far  i liked the ideas behind it even if they were a bit silly  the production  bland direction doesn  t help though  a film about a sunken plane just shouldn  t be this boring or lethargic . followed by the concorde . . . airport          .  \n",
            "brilliant over  acting by lesley ann warren . best dramatic hobo lady i have ever seen  and love scenes in clothes warehouse are second to none . the corn on face is a classic  as good as anything in blazing saddles . the take on lawyers is also superb . after being accused of being a turncoat  selling out his boss  and being dishonest the lawyer of pepto bolt shrugs indifferently  i  m a lawyer  he says . three funny words . jeffrey tambor  a favorite from the later larry sanders show  is fantastic here too as a mad millionaire who wants to crush the ghetto . his character is more malevolent than usual . the hospital scene  and the scene where the homeless invade a demolition site  are all  time classics . look for the legs scene and the two big diggers fighting  one bleeds  . this movie gets better each time i see it  which is quite often  .  \n",
            "this film lacked something i couldn  t put my finger on at first charisma on the part of the leading actress . this inevitably translated to lack of chemistry when she shared the screen with her leading man . even the romantic scenes came across as being merely the actors at play . it could very well have been the director who miscalculated what he needed from the actors . i just don  t know .  br    br   but could it have been the screenplay  just exactly who was the chef in love with  he seemed more enamored of his culinary skills and restaurant  and ultimately of himself and his youthful exploits  than of anybody or anything else . he never convinced me he was in love with the princess .  br    br   i was disappointed in this movie . but  don  t forget it was nominated for an oscar  so judge for yourself .  \n",
            "this is easily the most underrated film inn the brooks cannon . sure  its flawed . it does not give a realistic view of homelessness  unlike  say  how citizen kane gave a realistic view of lounge singers  or titanic gave a realistic view of italians you idiots  . many of the jokes fall flat . but still  this film is very lovable in a way many comedies are not  and to pull that off in a story about some of the most traditionally reviled members of society is truly impressive . its not the fisher king  but its not crap  either . my only complaint is that brooks should have cast someone else in the lead  i love mel as a director and writer  not so much as a lead  .  \n",
            "sorry everyone    i know this is supposed to be an  art  film   but wow  they should have handed out guns at the screening so people could blow their brains out and not watch . although the scene design and photographic direction was excellent  this story is too painful to watch . the absence of a sound track was brutal . the loooonnnnng shots were too long . how long can you watch two people just sitting there and talking  especially when the dialogue is two people complaining . i really had a hard time just getting through this film . the performances were excellent  but how much of that dark  sombre  uninspired  stuff can you take  the only thing i liked was maureen stapleton and her red dress and dancing scene . otherwise this was a ripoff of bergman . and i  m no fan f his either . i think anyone who says they enjoyed     hours of this is   well  lying .  \n",
            "this is not the typical mel brooks film . it was much less slapstick than most of his movies and actually had a plot that was followable . leslie ann warren made the movie  she is such a fantastic  under  rated actress . there were some moments that could have been fleshed out a bit more  and some scenes that could probably have been cut to make the room to do so  but all in all  this is worth the price to rent and see it . the acting was good overall  brooks himself did a good job without his characteristic speaking to directly to the audience . again  warren was the best actor in the movie  but  fume  and  sailor  both played their parts well .  \n",
            "when i was little my parents took me along to the theater to see interiors . it was one of many movies i watched with my parents  but this was the only one we walked out of . since then i had never seen interiors until just recently  and i could have lived out the rest of my life without it . what a pretentious  ponderous  and painfully boring piece of    s wine and cheese tripe . woody allen is one of my favorite directors but interiors is by far the worst piece of crap of his career . in the unmistakable style of ingmar berman  allen gives us a dark  angular  muted  insight in to the lives of a family wrought by the psychological damage caused by divorce  estrangement  career  love  non  love  halitosis  whatever . the film  intentionally  has no comic relief  no music  and is drenched in shadowy pathos . this film style can be best defined as expressionist in nature  using an improvisational method of dialogue to illicit a  more pronounced depth of meaning and truth  . but woody allen is no ingmar bergman . the film is painfully slow and dull . but beyond that  i simply had no connection with or sympathy for any of the characters . instead i felt only contempt for this parade of shuffling  whining  nicotine stained  martyrs in a perpetual quest for identity . amid a backdrop of cosmopolitan affluence and baked brie intelligentsia the story looms like a fart in the room . everyone speaks in affected platitudes and elevated language between cigarettes . everyone is  lost  and  struggling   desperate to find direction or understanding or whatever and it just goes on and on to the point where you just want to slap all of them . it  s never about resolution  it  s only about interminable introspective babble . it is nothing more than a psychological drama taken to an extreme beyond the audience  s ability to connect . woody allen chose to make characters so immersed in themselves we feel left out . and for that reason i found this movie painfully self indulgent and spiritually draining . i see what he was going for but his insistence on promoting his message through prozac prose and distorted film techniques jettisons it past the point of relevance . i highly recommend this one if you  re feeling a little too happy and need something to remind you of death . otherwise  let  s just pretend this film never happened .  \n"
          ],
          "name": "stdout"
        }
      ]
    },
    {
      "cell_type": "code",
      "metadata": {
        "id": "qM0i-x2KZGCh",
        "colab_type": "code",
        "outputId": "3ac32017-b103-4654-af19-25a8c6c391c4",
        "colab": {
          "base_uri": "https://localhost:8080/",
          "height": 479
        }
      },
      "source": [
        "!wget \"https://raw.githubusercontent.com/udacity/deep-learning/master/sentiment-network/labels.txt\"\n",
        "!cat labels.txt | head -15"
      ],
      "execution_count": 0,
      "outputs": [
        {
          "output_type": "stream",
          "text": [
            "--2020-01-19 16:32:42--  https://raw.githubusercontent.com/udacity/deep-learning/master/sentiment-network/labels.txt\n",
            "Resolving raw.githubusercontent.com (raw.githubusercontent.com)... 151.101.0.133, 151.101.64.133, 151.101.128.133, ...\n",
            "Connecting to raw.githubusercontent.com (raw.githubusercontent.com)|151.101.0.133|:443... connected.\n",
            "HTTP request sent, awaiting response... 200 OK\n",
            "Length: 225000 (220K) [text/plain]\n",
            "Saving to: ‘labels.txt’\n",
            "\n",
            "\rlabels.txt            0%[                    ]       0  --.-KB/s               \rlabels.txt          100%[===================>] 219.73K  --.-KB/s    in 0.03s   \n",
            "\n",
            "2020-01-19 16:32:43 (7.52 MB/s) - ‘labels.txt’ saved [225000/225000]\n",
            "\n",
            "positive\n",
            "negative\n",
            "positive\n",
            "negative\n",
            "positive\n",
            "negative\n",
            "positive\n",
            "negative\n",
            "positive\n",
            "negative\n",
            "positive\n",
            "negative\n",
            "positive\n",
            "negative\n",
            "positive\n"
          ],
          "name": "stdout"
        }
      ]
    },
    {
      "cell_type": "markdown",
      "metadata": {
        "id": "KGAz0O3cb5sZ",
        "colab_type": "text"
      },
      "source": [
        "Predicting Movie Reviews"
      ]
    },
    {
      "cell_type": "code",
      "metadata": {
        "id": "W1dkgoPdcDnj",
        "colab_type": "code",
        "colab": {}
      },
      "source": [
        "import sys\n",
        "\n",
        "f = open('reviews.txt')\n",
        "raw_reviews = f.readlines()\n",
        "f.close()\n",
        "\n",
        "f = open('labels.txt')\n",
        "raw_labels = f.readlines()\n",
        "f.close()\n",
        "\n",
        "tokens = list(map(lambda x:set(x.split(\" \")),raw_reviews))\n",
        "\n",
        "vocab = set()\n",
        "for sent in tokens:\n",
        "    for word in sent:\n",
        "        if(len(word)>0):\n",
        "            vocab.add(word)\n",
        "vocab = list(vocab)\n",
        "\n",
        "word2index = {}\n",
        "for i,word in enumerate(vocab):\n",
        "    word2index[word]=i\n",
        "\n",
        "input_dataset = list()\n",
        "for sent in tokens:\n",
        "    sent_indices = list()\n",
        "    for word in sent:\n",
        "        try:\n",
        "            sent_indices.append(word2index[word])\n",
        "        except:\n",
        "            \"\"\n",
        "    input_dataset.append(list(set(sent_indices)))\n",
        "\n",
        "target_dataset = list()\n",
        "for label in raw_labels:\n",
        "    if label == 'positive\\n':\n",
        "        target_dataset.append(1)\n",
        "    else:\n",
        "        target_dataset.append(0)"
      ],
      "execution_count": 0,
      "outputs": []
    },
    {
      "cell_type": "code",
      "metadata": {
        "id": "m0Z40t34ccqY",
        "colab_type": "code",
        "outputId": "def86e31-d1ef-4eac-a4a4-e8dd3a00cc3d",
        "colab": {
          "base_uri": "https://localhost:8080/",
          "height": 34
        }
      },
      "source": [
        "vocab[11]"
      ],
      "execution_count": 0,
      "outputs": [
        {
          "output_type": "execute_result",
          "data": {
            "text/plain": [
              "'roofie'"
            ]
          },
          "metadata": {
            "tags": []
          },
          "execution_count": 22
        }
      ]
    },
    {
      "cell_type": "code",
      "metadata": {
        "id": "WtakfpEoce7i",
        "colab_type": "code",
        "outputId": "f25b914c-b5be-4f71-8237-303ed8805234",
        "colab": {
          "base_uri": "https://localhost:8080/",
          "height": 1000
        }
      },
      "source": [
        "vocab"
      ],
      "execution_count": 0,
      "outputs": [
        {
          "output_type": "execute_result",
          "data": {
            "text/plain": [
              "['debuting',\n",
              " 'simian',\n",
              " 'wedlock',\n",
              " 'frocked',\n",
              " 'pierce',\n",
              " 'larson',\n",
              " 'looneys',\n",
              " 'headstrong',\n",
              " 'constable',\n",
              " 'picturehe',\n",
              " 'completer',\n",
              " 'roofie',\n",
              " 'adt',\n",
              " 'marketplaces',\n",
              " 'pronouncement',\n",
              " 'poolguy',\n",
              " 'scarman',\n",
              " 'ooky',\n",
              " 'pinchers',\n",
              " 'emperor',\n",
              " 'glamour',\n",
              " 'hairs',\n",
              " 'vendors',\n",
              " 'mmt',\n",
              " 'notebooks',\n",
              " 'fixate',\n",
              " 'hamburglar',\n",
              " 'recorders',\n",
              " 'blanchett',\n",
              " 'june',\n",
              " 'kato',\n",
              " 'bedding',\n",
              " 'serato',\n",
              " 'melodramas',\n",
              " 'crreeepy',\n",
              " 'danny',\n",
              " 'zacatecas',\n",
              " 'nosebleeds',\n",
              " 'neri',\n",
              " 'boooooo',\n",
              " 'reay',\n",
              " 'pruning',\n",
              " 'pyschosis',\n",
              " 'masonic',\n",
              " 'torrid',\n",
              " 'longo',\n",
              " 'thorwald',\n",
              " 'grape',\n",
              " 'ambiance',\n",
              " 'trill',\n",
              " 'yumiko',\n",
              " 'concept',\n",
              " 'barris',\n",
              " 'dynamically',\n",
              " 'scanning',\n",
              " 'vaguely',\n",
              " 'snooker',\n",
              " 'fibreglass',\n",
              " 'mayron',\n",
              " 'ryaburi',\n",
              " 'havel',\n",
              " 'boohooo',\n",
              " 'sabriye',\n",
              " 'intellectual',\n",
              " 'eion',\n",
              " 'turkic',\n",
              " 'geysers',\n",
              " 'khemu',\n",
              " 'ignoble',\n",
              " 'upper',\n",
              " 'soba',\n",
              " 'breads',\n",
              " 'renting',\n",
              " 'richmond',\n",
              " 'beltway',\n",
              " 'tually',\n",
              " 'externally',\n",
              " 'enlarges',\n",
              " 'slogging',\n",
              " 'mstie',\n",
              " 'gonorrhea',\n",
              " 'immigrating',\n",
              " 'dickenson',\n",
              " 'sttos',\n",
              " 'fujiko',\n",
              " 'moneys',\n",
              " 'blare',\n",
              " 'ablaze',\n",
              " 'katina',\n",
              " 'irredeemable',\n",
              " 'speakman',\n",
              " 'pratfall',\n",
              " 'compose',\n",
              " 'longendecker',\n",
              " 'jawab',\n",
              " 'outstretched',\n",
              " 'jugnu',\n",
              " 'toothpicks',\n",
              " 'paulin',\n",
              " 'purged',\n",
              " 'schwarzenbach',\n",
              " 'using',\n",
              " 'clarkson',\n",
              " 'bodybuilders',\n",
              " 'screwee',\n",
              " 'bhatt',\n",
              " 'phenomena',\n",
              " 'confirming',\n",
              " 'reckoned',\n",
              " 'wrrrooonnnnggg',\n",
              " 'manner',\n",
              " 'thay',\n",
              " 'preening',\n",
              " 'stashes',\n",
              " 'cook',\n",
              " 'delinquency',\n",
              " 'trent',\n",
              " 'lovelife',\n",
              " 'waddle',\n",
              " 'tools',\n",
              " 'juggle',\n",
              " 'infuses',\n",
              " 'ramifications',\n",
              " 'hector',\n",
              " 'ffs',\n",
              " 'foresees',\n",
              " 'lehrman',\n",
              " 'mouthing',\n",
              " 'juliano',\n",
              " 'burgerlers',\n",
              " 'hayne',\n",
              " 'lieutenants',\n",
              " 'marilu',\n",
              " 'gosh',\n",
              " 'trueba',\n",
              " 'torn',\n",
              " 'enquanto',\n",
              " 'disbelieve',\n",
              " 'seema',\n",
              " 'grill',\n",
              " 'slowenian',\n",
              " 'asthmatic',\n",
              " 'aronofsky',\n",
              " 'syllabus',\n",
              " 'conmen',\n",
              " 'rivkin',\n",
              " 'davenport',\n",
              " 'incarnation',\n",
              " 'gibraltar',\n",
              " 'neolithic',\n",
              " 'monochrome',\n",
              " 'startles',\n",
              " 'rows',\n",
              " 'yomiuri',\n",
              " 'celebrated',\n",
              " 'lifeless',\n",
              " 'harni',\n",
              " 'toiling',\n",
              " 'mets',\n",
              " 'resurrects',\n",
              " 'dimpled',\n",
              " 'tatum',\n",
              " 'alzheimers',\n",
              " 'beatle',\n",
              " 'evigan',\n",
              " 'howzat',\n",
              " 'dirossario',\n",
              " 'machinations',\n",
              " 'hightlight',\n",
              " 'fkg',\n",
              " 'fartsys',\n",
              " 'miss',\n",
              " 'beanpoles',\n",
              " 'superabundance',\n",
              " 'antonius',\n",
              " 'whirl',\n",
              " 'chappy',\n",
              " 'darcey',\n",
              " 'assembling',\n",
              " 'arcy',\n",
              " 'dildos',\n",
              " 'anecdotes',\n",
              " 'tenchu',\n",
              " 'opportunism',\n",
              " 'puzzling',\n",
              " 'clumsily',\n",
              " 'nikopol',\n",
              " 'cyborg',\n",
              " 'brutality',\n",
              " 'okiyas',\n",
              " 'upsides',\n",
              " 'nany',\n",
              " 'cytown',\n",
              " 'cundeif',\n",
              " 'snaggle',\n",
              " 'readying',\n",
              " 'spools',\n",
              " 'options',\n",
              " 'respondents',\n",
              " 'policemen',\n",
              " 'fairhaired',\n",
              " 'centrality',\n",
              " 'emptiness',\n",
              " 'somwhat',\n",
              " 'pickins',\n",
              " 'sarte',\n",
              " 'shojo',\n",
              " 'adventurously',\n",
              " 'amillenialist',\n",
              " 'domestically',\n",
              " 'shelters',\n",
              " 'bartendar',\n",
              " 'hjalmar',\n",
              " 'wentworth',\n",
              " 'flushing',\n",
              " 'shatfaced',\n",
              " 'sepoys',\n",
              " 'kissy',\n",
              " 'patakin',\n",
              " 'ruskin',\n",
              " 'hollywierd',\n",
              " 'inhi',\n",
              " 'dupree',\n",
              " 'stereotypic',\n",
              " 'balaun',\n",
              " 'cooper',\n",
              " 'akin',\n",
              " 'suit',\n",
              " 'mathews',\n",
              " 'roden',\n",
              " 'pejorative',\n",
              " 'videodrome',\n",
              " 'circulating',\n",
              " 'stairsteps',\n",
              " 'darlington',\n",
              " 'distraction',\n",
              " 'murderers',\n",
              " 'sargeants',\n",
              " 'factories',\n",
              " 'lallies',\n",
              " 'guerre',\n",
              " 'pronounce',\n",
              " 'europeans',\n",
              " 'polack',\n",
              " 'subverts',\n",
              " 'berserker',\n",
              " 'marmont',\n",
              " 'interventions',\n",
              " 'unfaltering',\n",
              " 'detmars',\n",
              " 'seasickness',\n",
              " 'mediatic',\n",
              " 'inclusion',\n",
              " 'singaporeans',\n",
              " 'hollister',\n",
              " 'flatlands',\n",
              " 'legend',\n",
              " 'yous',\n",
              " 'daniel',\n",
              " 'dolphins',\n",
              " 'nirupa',\n",
              " 'incurious',\n",
              " 'keven',\n",
              " 'unqiue',\n",
              " 'wordy',\n",
              " 'videogames',\n",
              " 'referenced',\n",
              " 'wrestled',\n",
              " 'relativity',\n",
              " 'toothsome',\n",
              " 'daffodils',\n",
              " 'alt',\n",
              " 'creasey',\n",
              " 'powerbombed',\n",
              " 'mobilized',\n",
              " 'gelding',\n",
              " 'dorlan',\n",
              " 'underestimation',\n",
              " 'coy',\n",
              " 'sockets',\n",
              " 'tree',\n",
              " 'mcgoldrick',\n",
              " 'asuka',\n",
              " 'templi',\n",
              " 'resultant',\n",
              " 'contrary',\n",
              " 'predation',\n",
              " 'unflappable',\n",
              " 'caas',\n",
              " 'agonia',\n",
              " 'hagerty',\n",
              " 'yamika',\n",
              " 'vicodin',\n",
              " 'cup',\n",
              " 'speakeasies',\n",
              " 'seto',\n",
              " 'mccabe',\n",
              " 'setpiece',\n",
              " 'spurting',\n",
              " 'adorable',\n",
              " 'bohem',\n",
              " 'diculous',\n",
              " 'mightiest',\n",
              " 'illogically',\n",
              " 'magnier',\n",
              " 'benz',\n",
              " 'pickers',\n",
              " 'untruthful',\n",
              " 'amble',\n",
              " 'pff',\n",
              " 'superposition',\n",
              " 'resentments',\n",
              " 'donoghue',\n",
              " 'revelations',\n",
              " 'superstitious',\n",
              " 'cheapie',\n",
              " 'doses',\n",
              " 'jehennan',\n",
              " 'shaft',\n",
              " 'rub',\n",
              " 'sanction',\n",
              " 'cosmo',\n",
              " 'virtues',\n",
              " 'should',\n",
              " 'eytan',\n",
              " 'smithdale',\n",
              " 'clyde',\n",
              " 'nanosecond',\n",
              " 'mcgann',\n",
              " 'oddjob',\n",
              " 'posited',\n",
              " 'welding',\n",
              " 'broadens',\n",
              " 'delightful',\n",
              " 'motiveless',\n",
              " 'engaging',\n",
              " 'picking',\n",
              " 'southron',\n",
              " 'rapeing',\n",
              " 'chimneys',\n",
              " 'outlets',\n",
              " 'bucatinsky',\n",
              " 'jrotc',\n",
              " 'clavell',\n",
              " 'hooligans',\n",
              " 'unsubdued',\n",
              " 'backers',\n",
              " 'doused',\n",
              " 'christa',\n",
              " 'svet',\n",
              " 'deceive',\n",
              " 'unnoticeable',\n",
              " 'resonation',\n",
              " 'compliant',\n",
              " 'horrror',\n",
              " 'discouraging',\n",
              " 'paton',\n",
              " 'woooooosaaaaaah',\n",
              " 'consciously',\n",
              " 'rawanda',\n",
              " 'brotherhood',\n",
              " 'lemmya',\n",
              " 'beatriz',\n",
              " 'barlow',\n",
              " 'kitted',\n",
              " 'dissolves',\n",
              " 'disjointing',\n",
              " 'gables',\n",
              " 'bringing',\n",
              " 'upside',\n",
              " 'jlb',\n",
              " 'melty',\n",
              " 'solvency',\n",
              " 'ilka',\n",
              " 'clairvoyance',\n",
              " 'eggert',\n",
              " 'handicaps',\n",
              " 'mcgarten',\n",
              " 'loathsome',\n",
              " 'misquotes',\n",
              " 'saddle',\n",
              " 'natsu',\n",
              " 'earn',\n",
              " 'zz',\n",
              " 'garuntee',\n",
              " 'parchment',\n",
              " 'ehmke',\n",
              " 'unexplainably',\n",
              " 'web',\n",
              " 'bollbuster',\n",
              " 'isral',\n",
              " 'washes',\n",
              " 'dreamboat',\n",
              " 'lemoine',\n",
              " 'rommel',\n",
              " 'hippos',\n",
              " 'essy',\n",
              " 'stilted',\n",
              " 'cigliutti',\n",
              " 'maru',\n",
              " 'screamershamburger',\n",
              " 'grant',\n",
              " 'browsing',\n",
              " 'ancient',\n",
              " 'tautou',\n",
              " 'bruinen',\n",
              " 'snipes',\n",
              " 'catalunya',\n",
              " 'emerge',\n",
              " 'declaim',\n",
              " 'busboy',\n",
              " 'annen',\n",
              " 'toy',\n",
              " 'olivia',\n",
              " 'tollan',\n",
              " 'mel',\n",
              " 'ergo',\n",
              " 'roemheld',\n",
              " 'pembrook',\n",
              " 'mezrich',\n",
              " 'angriness',\n",
              " 'ace',\n",
              " 'recommended',\n",
              " 'ply',\n",
              " 'dad',\n",
              " 'infuriate',\n",
              " 'turnings',\n",
              " 'wolff',\n",
              " 'azjazz',\n",
              " 'homies',\n",
              " 'trintignant',\n",
              " 'ele',\n",
              " 'brigades',\n",
              " 'schneerbaum',\n",
              " 'text',\n",
              " 'sheep',\n",
              " 'cig',\n",
              " 'sadomasochistic',\n",
              " 'fiscal',\n",
              " 'objectivity',\n",
              " 'follett',\n",
              " 'intrigue',\n",
              " 'jeevan',\n",
              " 'photographs',\n",
              " 'kinka',\n",
              " 'motiffs',\n",
              " 'granting',\n",
              " 'catalog',\n",
              " 'undershorts',\n",
              " 'giovinazzo',\n",
              " 'olson',\n",
              " 'filo',\n",
              " 'thrived',\n",
              " 'banton',\n",
              " 'maxine',\n",
              " 'fending',\n",
              " 'amir',\n",
              " 'linguine',\n",
              " 'croat',\n",
              " 'molla',\n",
              " 'compulsively',\n",
              " 'meagan',\n",
              " 'fud',\n",
              " 'incomprehensibility',\n",
              " 'vim',\n",
              " 'bacchus',\n",
              " 'habenera',\n",
              " 'mayedas',\n",
              " 'condoned',\n",
              " 'foregoes',\n",
              " 'nocked',\n",
              " 'siding',\n",
              " 'kirsty',\n",
              " 'arli',\n",
              " 'abskani',\n",
              " 'duforq',\n",
              " 'signifiers',\n",
              " 'swoops',\n",
              " 'daytiem',\n",
              " 'majors',\n",
              " 'kryptonite',\n",
              " 'secaucus',\n",
              " 'hurts',\n",
              " 'ortega',\n",
              " 'unwinds',\n",
              " 'sholey',\n",
              " 'faithfulness',\n",
              " 'lancashire',\n",
              " 'liberating',\n",
              " 'khrystyne',\n",
              " 'spoladore',\n",
              " 'phht',\n",
              " 'kaczorowski',\n",
              " 'flame',\n",
              " 'joyful',\n",
              " 'enmity',\n",
              " 'compositely',\n",
              " 'egress',\n",
              " 'brusk',\n",
              " 'membrane',\n",
              " 'lucinda',\n",
              " 'finns',\n",
              " 'developing',\n",
              " 'wips',\n",
              " 'stellas',\n",
              " 'tentacle',\n",
              " 'beautify',\n",
              " 'mutiny',\n",
              " 'swarg',\n",
              " 'eggnog',\n",
              " 'landfall',\n",
              " 'friedkin',\n",
              " 'stereotyped',\n",
              " 'risqu',\n",
              " 'sock',\n",
              " 'sharmila',\n",
              " 'interim',\n",
              " 'pendragon',\n",
              " 'capulet',\n",
              " 'brandishes',\n",
              " 'adversaries',\n",
              " 'unexpurgated',\n",
              " 'kmadden',\n",
              " 'shagging',\n",
              " 'derision',\n",
              " 'conflict',\n",
              " 'mongering',\n",
              " 'sati',\n",
              " 'ogres',\n",
              " 'bowing',\n",
              " 'interferring',\n",
              " 'bubi',\n",
              " 'sightas',\n",
              " 'conjuring',\n",
              " 'convene',\n",
              " 'tempos',\n",
              " 'freebie',\n",
              " 'climaxing',\n",
              " 'cloying',\n",
              " 'woodchipper',\n",
              " 'moneyshot',\n",
              " 'chernitsky',\n",
              " 'advance',\n",
              " 'paeans',\n",
              " 'transcribed',\n",
              " 'stinkpile',\n",
              " 'ekeing',\n",
              " 'epigrams',\n",
              " 'flitted',\n",
              " 'mora',\n",
              " 'what',\n",
              " 'sabotages',\n",
              " 'dvd',\n",
              " 'conservative',\n",
              " 'naf',\n",
              " 'pidgin',\n",
              " 'suspence',\n",
              " 'glamorously',\n",
              " 'memorex',\n",
              " 'hatian',\n",
              " 'attendance',\n",
              " 'brevity',\n",
              " 'dupe',\n",
              " 'paulista',\n",
              " 'convolutions',\n",
              " 'sidebar',\n",
              " 'sieben',\n",
              " 'stridence',\n",
              " 'posidon',\n",
              " 'mused',\n",
              " 'symbiosis',\n",
              " 'std',\n",
              " 'rhythmic',\n",
              " 'repressing',\n",
              " 'weasing',\n",
              " 'ishai',\n",
              " 'yankies',\n",
              " 'desirous',\n",
              " 'alarms',\n",
              " 'hitoshi',\n",
              " 'colombo',\n",
              " 'unfortuntately',\n",
              " 'astronishing',\n",
              " 'maltreatment',\n",
              " 'tami',\n",
              " 'astronomically',\n",
              " 'patinkin',\n",
              " 'doer',\n",
              " 'viciente',\n",
              " 'outrages',\n",
              " 'tiebtans',\n",
              " 'illinois',\n",
              " 'pollyanna',\n",
              " 'spout',\n",
              " 'representations',\n",
              " 'elope',\n",
              " 'beds',\n",
              " 'humanities',\n",
              " 'shouldnt',\n",
              " 'uuhhhhh',\n",
              " 'farcelike',\n",
              " 'crooner',\n",
              " 'excavated',\n",
              " 'prosthetic',\n",
              " 'snowstorm',\n",
              " 'sled',\n",
              " 'stockton',\n",
              " 'innovatory',\n",
              " 'virology',\n",
              " 'letterman',\n",
              " 'probaly',\n",
              " 'kohara',\n",
              " 'indiania',\n",
              " 'frisbees',\n",
              " 'invigorated',\n",
              " 'arthurs',\n",
              " 'mib',\n",
              " 'deliveried',\n",
              " 'talen',\n",
              " 'republicans',\n",
              " 'skylines',\n",
              " 'celaschi',\n",
              " 'conforming',\n",
              " 'punkette',\n",
              " 'adrenaline',\n",
              " 'lyndon',\n",
              " 'hier',\n",
              " 'cameroon',\n",
              " 'espeically',\n",
              " 'sleepwalkers',\n",
              " 'golberg',\n",
              " 'responsiveness',\n",
              " 'fits',\n",
              " 'muddily',\n",
              " 'chomps',\n",
              " 'brainchild',\n",
              " 'reputation',\n",
              " 'heirloom',\n",
              " 'vildan',\n",
              " 'cleaverly',\n",
              " 'lengths',\n",
              " 'kosmos',\n",
              " 'dop',\n",
              " 'sprawling',\n",
              " 'reflection',\n",
              " 'horrorpops',\n",
              " 'tensdoorp',\n",
              " 'bails',\n",
              " 'meanness',\n",
              " 'ailing',\n",
              " 'wizards',\n",
              " 'detain',\n",
              " 'dic',\n",
              " 'mfn',\n",
              " 'flashdance',\n",
              " 'indiscriminate',\n",
              " 'underlit',\n",
              " 'joy',\n",
              " 'boomerang',\n",
              " 'timesin',\n",
              " 'deportation',\n",
              " 'forgetaboutit',\n",
              " 'genitalia',\n",
              " 'beffe',\n",
              " 'oleary',\n",
              " 'contagious',\n",
              " 'evans',\n",
              " 'lonnrot',\n",
              " 'dumbass',\n",
              " 'boccaccio',\n",
              " 'delivery',\n",
              " 'evangelist',\n",
              " 'havin',\n",
              " 'sunlight',\n",
              " 'screwfly',\n",
              " 'flatulent',\n",
              " 'fretwell',\n",
              " 'gyrations',\n",
              " 'chappu',\n",
              " 'boyer',\n",
              " 'blery',\n",
              " 'tooth',\n",
              " 'stroptomycin',\n",
              " 'hoos',\n",
              " 'revoltingly',\n",
              " 'terorism',\n",
              " 'truthfulness',\n",
              " 'schoedsack',\n",
              " 'ramu',\n",
              " 'rosenliski',\n",
              " 'wardens',\n",
              " 'irritated',\n",
              " 'karima',\n",
              " 'alongside',\n",
              " 'bensen',\n",
              " 'oops',\n",
              " 'renowned',\n",
              " 'haye',\n",
              " 'deodorant',\n",
              " 'amalric',\n",
              " 'wiley',\n",
              " 'villainously',\n",
              " 'mufasa',\n",
              " 'dentists',\n",
              " 'unfruitful',\n",
              " 'gauged',\n",
              " 'balm',\n",
              " 'unboring',\n",
              " 'unnerve',\n",
              " 'troy',\n",
              " 'toady',\n",
              " 'bankrolls',\n",
              " 'jovan',\n",
              " 'stewardship',\n",
              " 'ebon',\n",
              " 'atc',\n",
              " 'operas',\n",
              " 'podium',\n",
              " 'traumitized',\n",
              " 'yell',\n",
              " 'preetam',\n",
              " 'alabaster',\n",
              " 'sunniness',\n",
              " 'smarm',\n",
              " 'budgetary',\n",
              " 'brekinridge',\n",
              " 'cornelia',\n",
              " 'kabal',\n",
              " 'berner',\n",
              " 'dagon',\n",
              " 'nuked',\n",
              " 'sceptical',\n",
              " 'adelin',\n",
              " 'contortions',\n",
              " 'illegally',\n",
              " 'androvsky',\n",
              " 'notoriety',\n",
              " 'andrez',\n",
              " 'valuing',\n",
              " 'protested',\n",
              " 'members',\n",
              " 'suckle',\n",
              " 'tachiguishi',\n",
              " 'headshrinkers',\n",
              " 'bodacious',\n",
              " 'politburo',\n",
              " 'astride',\n",
              " 'carwash',\n",
              " 'daw',\n",
              " 'removed',\n",
              " 'airlock',\n",
              " 'interrupted',\n",
              " 'unrivaled',\n",
              " 'treck',\n",
              " 'terra',\n",
              " 'demolishing',\n",
              " 'conspiraciesjfk',\n",
              " 'unreasoning',\n",
              " 'hhh',\n",
              " 'stanza',\n",
              " 'haft',\n",
              " 'lf',\n",
              " 'bleed',\n",
              " 'bacchan',\n",
              " 'scotia',\n",
              " 'superlatives',\n",
              " 'layout',\n",
              " 'spielbergian',\n",
              " 'lowest',\n",
              " 'blip',\n",
              " 'vogueing',\n",
              " 'tyranosaurous',\n",
              " 'leway',\n",
              " 'euphoric',\n",
              " 'rouge',\n",
              " 'otro',\n",
              " 'monaco',\n",
              " 'clericism',\n",
              " 'denholm',\n",
              " 'compute',\n",
              " 'fleshiness',\n",
              " 'gupta',\n",
              " 'tain',\n",
              " 'matron',\n",
              " 'squishes',\n",
              " 'shrewd',\n",
              " 'originalbut',\n",
              " 'vote',\n",
              " 'delegates',\n",
              " 'wrote',\n",
              " 'beringer',\n",
              " 'newspeople',\n",
              " 'eyeful',\n",
              " 'impudent',\n",
              " 'dig',\n",
              " 'friels',\n",
              " 'dorie',\n",
              " 'glenrowan',\n",
              " 'arachnophobia',\n",
              " 'xica',\n",
              " 'arrows',\n",
              " 'switching',\n",
              " 'mainsprings',\n",
              " 'gonzles',\n",
              " 'maritime',\n",
              " 'ibnez',\n",
              " 'arsehole',\n",
              " 'standouts',\n",
              " 'approve',\n",
              " 'emphatic',\n",
              " 'zeman',\n",
              " 'shahi',\n",
              " 'depends',\n",
              " 'mexicanenglish',\n",
              " 'waterstone',\n",
              " 'taiwan',\n",
              " 'utrillo',\n",
              " 'percolating',\n",
              " 'interviewing',\n",
              " 'loulla',\n",
              " 'dramatised',\n",
              " 'italia',\n",
              " 'sawahla',\n",
              " 'verducci',\n",
              " 'shelley',\n",
              " 'tindle',\n",
              " 'baldly',\n",
              " 'utilizing',\n",
              " 'databanks',\n",
              " 'presumable',\n",
              " 'schepsi',\n",
              " 'corneal',\n",
              " 'serio',\n",
              " 'obsessive',\n",
              " 'nichols',\n",
              " 'vigour',\n",
              " 'shambles',\n",
              " 'swordfights',\n",
              " 'maggots',\n",
              " 'meade',\n",
              " 'callup',\n",
              " 'ribsi',\n",
              " 'oxbow',\n",
              " 'cinemablend',\n",
              " 'proboscis',\n",
              " 'shipbuilder',\n",
              " 'seeks',\n",
              " 'blogg',\n",
              " 'lia',\n",
              " 'chickenpox',\n",
              " 'likeliness',\n",
              " 'hissed',\n",
              " 'airplanes',\n",
              " 'publication',\n",
              " 'caminho',\n",
              " 'bargaining',\n",
              " 'handbag',\n",
              " 'rentar',\n",
              " 'motherf',\n",
              " 'riotous',\n",
              " 'dikkat',\n",
              " 'thurl',\n",
              " 'discuss',\n",
              " 'rooting',\n",
              " 'founder',\n",
              " 'washer',\n",
              " 'unnamed',\n",
              " 'bogdonavich',\n",
              " 'mobil',\n",
              " 'northwestern',\n",
              " 'deltas',\n",
              " 'bednob',\n",
              " 'redwood',\n",
              " 'birkin',\n",
              " 'blister',\n",
              " 'mimzy',\n",
              " 'seaquest',\n",
              " 'distinct',\n",
              " 'darrell',\n",
              " 'computers',\n",
              " 'reproducing',\n",
              " 'coworkers',\n",
              " 'db',\n",
              " 'paled',\n",
              " 'ryonosuke',\n",
              " 'amazonian',\n",
              " 'skunks',\n",
              " 'hildebrand',\n",
              " 'colorization',\n",
              " 'tar',\n",
              " 'scarry',\n",
              " 'embracing',\n",
              " 'thoongadae',\n",
              " 'spielberg',\n",
              " 'backbone',\n",
              " 'fedar',\n",
              " 'piraters',\n",
              " 'rourke',\n",
              " 'disabled',\n",
              " 'booby',\n",
              " 'gesellich',\n",
              " 'acceptable',\n",
              " 'mcphillip',\n",
              " 'yubb',\n",
              " 'pitbull',\n",
              " 'nore',\n",
              " 'spacecrafts',\n",
              " 'gopal',\n",
              " 'neuron',\n",
              " 'constitutionally',\n",
              " 'macadder',\n",
              " 'bertille',\n",
              " 'illusions',\n",
              " 'ayer',\n",
              " 'josef',\n",
              " 'friderwaves',\n",
              " 'behaviours',\n",
              " 'ramrods',\n",
              " 'momo',\n",
              " 'seduced',\n",
              " 'spartacus',\n",
              " 'neanderthals',\n",
              " 'hjelmet',\n",
              " 'portaraying',\n",
              " 'claire',\n",
              " 'lashelle',\n",
              " 'immersed',\n",
              " 'summing',\n",
              " 'venezia',\n",
              " 'months',\n",
              " 'shroud',\n",
              " 'deities',\n",
              " 'rephrase',\n",
              " 'quadrophenia',\n",
              " 'tunisian',\n",
              " 'convalesces',\n",
              " 'rural',\n",
              " 'keaton',\n",
              " 'superfly',\n",
              " 'gussie',\n",
              " 'naively',\n",
              " 'indifference',\n",
              " 'uncovers',\n",
              " 'conried',\n",
              " 'sweetest',\n",
              " 'china',\n",
              " 'shola',\n",
              " 'weldon',\n",
              " 'inge',\n",
              " 'arithmetic',\n",
              " 'sempre',\n",
              " 'concedes',\n",
              " 'comedically',\n",
              " 'oogey',\n",
              " 'plummeting',\n",
              " 'actor',\n",
              " 'implementation',\n",
              " 'firecrackers',\n",
              " 'epidemics',\n",
              " 'chastises',\n",
              " 'lifeforce',\n",
              " 'zeland',\n",
              " 'competency',\n",
              " 'synacures',\n",
              " 'numinous',\n",
              " 'ioffer',\n",
              " 'pasture',\n",
              " 'kipling',\n",
              " 'inexhaustible',\n",
              " 'darkness',\n",
              " 'longingly',\n",
              " 'veiwers',\n",
              " 'rim',\n",
              " 'grizzly',\n",
              " 'niro',\n",
              " 'pepe',\n",
              " 'culp',\n",
              " 'rycart',\n",
              " 'gomorrah',\n",
              " 'sandra',\n",
              " 'naturalism',\n",
              " 'bodysurfing',\n",
              " 'beech',\n",
              " 'expertly',\n",
              " 'dingle',\n",
              " 'leben',\n",
              " 'takemitsu',\n",
              " 'compassion',\n",
              " 'scroll',\n",
              " 'maojlovic',\n",
              " 'fredi',\n",
              " 'inboxes',\n",
              " 'cndida',\n",
              " 'psicoanalitical',\n",
              " 'kove',\n",
              " 'gyudon',\n",
              " 'milchan',\n",
              " 'joni',\n",
              " 'lettich',\n",
              " 'hickey',\n",
              " ...]"
            ]
          },
          "metadata": {
            "tags": []
          },
          "execution_count": 23
        }
      ]
    },
    {
      "cell_type": "markdown",
      "metadata": {
        "id": "GQytKPCD7pOI",
        "colab_type": "text"
      },
      "source": [
        "Initialize Weights"
      ]
    },
    {
      "cell_type": "code",
      "metadata": {
        "id": "acKCboVMdVES",
        "colab_type": "code",
        "outputId": "96b480ce-723e-47b4-87ee-185e665c274f",
        "colab": {
          "base_uri": "https://localhost:8080/",
          "height": 238
        }
      },
      "source": [
        "import numpy as np\n",
        "np.random.seed(1)\n",
        "\n",
        "def sigmoid(x):\n",
        "    return 1/(1 + np.exp(-x))\n",
        "\n",
        "alpha, iterations = (0.01, 2)\n",
        "hidden_size = 100\n",
        "\n",
        "weights_0_1 = 0.2*np.random.random((len(vocab),hidden_size)) - 0.1\n",
        "weights_1_2 = 0.2*np.random.random((hidden_size,1)) - 0.1\n",
        "\n",
        "\n",
        "print (weights_0_1)"
      ],
      "execution_count": 0,
      "outputs": [
        {
          "output_type": "stream",
          "text": [
            "[[-0.0165956   0.0440649  -0.09997713 ...  0.0147359  -0.09942593\n",
            "   0.02342898]\n",
            " [-0.03467102  0.00541162  0.07718842 ... -0.05312758  0.02335567\n",
            "   0.08980326]\n",
            " [ 0.09003522  0.01133064  0.08312127 ... -0.08407478  0.09656342\n",
            "  -0.06367743]\n",
            " ...\n",
            " [-0.07656205 -0.09023205 -0.00978559 ... -0.0008865  -0.04352412\n",
            "  -0.06427378]\n",
            " [-0.08444666 -0.07143386 -0.05731608 ... -0.06584719 -0.02770722\n",
            "   0.09327983]\n",
            " [ 0.03695404 -0.05106593  0.02970002 ...  0.0043325   0.00801544\n",
            "  -0.09468272]]\n"
          ],
          "name": "stdout"
        }
      ]
    },
    {
      "cell_type": "markdown",
      "metadata": {
        "id": "ezMWtyPN7xIL",
        "colab_type": "text"
      },
      "source": [
        "Run the Model"
      ]
    },
    {
      "cell_type": "code",
      "metadata": {
        "id": "S0K0gwx8djmm",
        "colab_type": "code",
        "outputId": "19ff0b21-89a7-4a96-c70d-4b70b2a8c1a1",
        "colab": {
          "base_uri": "https://localhost:8080/",
          "height": 68
        }
      },
      "source": [
        "\n",
        "\n",
        "correct,total = (0,0)\n",
        "\n",
        "for iter in range(iterations):\n",
        "    \n",
        "    # train on first 24,000\n",
        "    for i in range(len(input_dataset)-1000):\n",
        "\n",
        "        x,y = (input_dataset[i],target_dataset[i])\n",
        "        layer_1 = sigmoid(np.sum(weights_0_1[x],axis=0)) #embed + sigmoid\n",
        "        layer_2 = sigmoid(np.dot(layer_1,weights_1_2)) # linear + softmax\n",
        "\n",
        "        layer_2_delta = layer_2 - y # compare pred with truth\n",
        "        layer_1_delta = layer_2_delta.dot(weights_1_2.T) #backprop\n",
        "\n",
        "        weights_0_1[x] -= layer_1_delta * alpha\n",
        "        weights_1_2 -= np.outer(layer_1,layer_2_delta) * alpha\n",
        "\n",
        "        if(np.abs(layer_2_delta) < 0.5):\n",
        "            correct += 1\n",
        "        total += 1\n",
        "        if(i % 10 == 9):\n",
        "            progress = str(i/float(len(input_dataset)))\n",
        "            sys.stdout.write('\\rIter:'+str(iter)\\\n",
        "                             +' Progress:'+progress[2:4]\\\n",
        "                             +'.'+progress[4:6]\\\n",
        "                             +'% Training Accuracy:'\\\n",
        "                             + str(correct/float(total)) + '%')\n",
        "    print()\n",
        "    \n",
        "correct,total = (0,0)\n",
        "for i in range(len(input_dataset)-1000,len(input_dataset)):\n",
        "\n",
        "    x = input_dataset[i]\n",
        "    y = target_dataset[i]\n",
        "\n",
        "    layer_1 = sigmoid(np.sum(weights_0_1[x],axis=0))\n",
        "    layer_2 = sigmoid(np.dot(layer_1,weights_1_2))\n",
        "    \n",
        "    if(np.abs(layer_2 - y) < 0.5):\n",
        "        correct += 1\n",
        "    total += 1\n",
        "print(\"Test Accuracy:\" + str(correct / float(total)))\n",
        "\n",
        "\n"
      ],
      "execution_count": 0,
      "outputs": [
        {
          "output_type": "stream",
          "text": [
            "Iter:0 Progress:95.99% Training Accuracy:0.8319583333333334%\n",
            "Iter:1 Progress:95.99% Training Accuracy:0.8659791666666666%\n",
            "Test Accuracy:0.852\n"
          ],
          "name": "stdout"
        }
      ]
    },
    {
      "cell_type": "markdown",
      "metadata": {
        "id": "SXY5GDA2keEM",
        "colab_type": "text"
      },
      "source": [
        "Let's get the vector for a word"
      ]
    },
    {
      "cell_type": "code",
      "metadata": {
        "id": "ZNxU2-seiKgU",
        "colab_type": "code",
        "outputId": "a91eeb4e-098e-4f16-df23-77455747fe2a",
        "colab": {
          "base_uri": "https://localhost:8080/",
          "height": 357
        }
      },
      "source": [
        "target = \"dentist\"\n",
        "target_index = word2index[target]\n",
        "weights_0_1[target_index]"
      ],
      "execution_count": 0,
      "outputs": [
        {
          "output_type": "execute_result",
          "data": {
            "text/plain": [
              "array([-0.09973372, -0.10232338,  0.01798506,  0.02537488, -0.08167032,\n",
              "        0.01467445,  0.07548596,  0.03126983, -0.03892901, -0.08077518,\n",
              "        0.03842601, -0.12423577, -0.04707818, -0.00554906,  0.05786078,\n",
              "       -0.0130101 ,  0.00494964, -0.03876167, -0.08529449,  0.05044516,\n",
              "        0.01437539, -0.01743565,  0.00906359, -0.04553606,  0.09406705,\n",
              "       -0.0282953 , -0.07438836, -0.00335827, -0.02444413,  0.06187729,\n",
              "        0.08737949,  0.04218282, -0.10402784,  0.039824  ,  0.05019901,\n",
              "       -0.06451833,  0.0657622 ,  0.03233859, -0.02599397,  0.04196617,\n",
              "        0.08920156, -0.09821822, -0.01899641, -0.03927815, -0.10494433,\n",
              "        0.06849393, -0.04824188, -0.01827022,  0.01878811,  0.00843129,\n",
              "       -0.01776097,  0.05270098, -0.04176583,  0.02303049,  0.07280976,\n",
              "       -0.08688769,  0.04880816, -0.04933059, -0.03159854,  0.07232905,\n",
              "       -0.04558009,  0.12114611,  0.04254438, -0.01163467, -0.02094731,\n",
              "        0.07508868, -0.05048899,  0.06905061,  0.01154609, -0.11125143,\n",
              "        0.04342793, -0.02017019,  0.06833605, -0.02834714, -0.04706817,\n",
              "        0.04999236, -0.10671529,  0.05072104, -0.08548173, -0.08365179,\n",
              "        0.00630575, -0.02239046,  0.09764908,  0.07258247,  0.0416466 ,\n",
              "       -0.09418155, -0.0818765 ,  0.07761292,  0.00106156,  0.07562348,\n",
              "        0.00794958, -0.06615154, -0.03968698,  0.04882897,  0.10116745,\n",
              "       -0.01535145, -0.02726018, -0.12780674,  0.09753071, -0.05040054])"
            ]
          },
          "metadata": {
            "tags": []
          },
          "execution_count": 114
        }
      ]
    },
    {
      "cell_type": "markdown",
      "metadata": {
        "id": "Deq_X4YmmdLD",
        "colab_type": "text"
      },
      "source": [
        "**Method 3:** Let's run the code Simplest word2vec to get the Word Embedding using this method  \n"
      ]
    },
    {
      "cell_type": "code",
      "metadata": {
        "id": "pJ8Injlqjj09",
        "colab_type": "code",
        "outputId": "9087e483-5947-4ab7-cf92-fa3cc967fa0c",
        "colab": {
          "base_uri": "https://localhost:8080/",
          "height": 204
        }
      },
      "source": [
        "!wget http://mattmahoney.net/dc/text8.zip -O text8.zip"
      ],
      "execution_count": 0,
      "outputs": [
        {
          "output_type": "stream",
          "text": [
            "--2020-01-19 16:35:11--  http://mattmahoney.net/dc/text8.zip\n",
            "Resolving mattmahoney.net (mattmahoney.net)... 67.195.197.75\n",
            "Connecting to mattmahoney.net (mattmahoney.net)|67.195.197.75|:80... connected.\n",
            "HTTP request sent, awaiting response... 200 OK\n",
            "Length: 31344016 (30M) [application/zip]\n",
            "Saving to: ‘text8.zip’\n",
            "\n",
            "text8.zip           100%[===================>]  29.89M   872KB/s    in 36s     \n",
            "\n",
            "2020-01-19 16:35:47 (855 KB/s) - ‘text8.zip’ saved [31344016/31344016]\n",
            "\n"
          ],
          "name": "stdout"
        }
      ]
    },
    {
      "cell_type": "code",
      "metadata": {
        "id": "cRhXck_HmuGu",
        "colab_type": "code",
        "outputId": "cb45e15f-5bfc-4545-9341-35dedf07d215",
        "colab": {
          "base_uri": "https://localhost:8080/",
          "height": 51
        }
      },
      "source": [
        "!unzip text8.zip"
      ],
      "execution_count": 0,
      "outputs": [
        {
          "output_type": "stream",
          "text": [
            "Archive:  text8.zip\n",
            "  inflating: text8                   \n"
          ],
          "name": "stdout"
        }
      ]
    },
    {
      "cell_type": "code",
      "metadata": {
        "id": "eTFvUlmCmyG1",
        "colab_type": "code",
        "outputId": "6772b682-1738-4c4c-fe38-edf4f6f9bf85",
        "colab": {
          "base_uri": "https://localhost:8080/",
          "height": 326
        }
      },
      "source": [
        "!pip install gensim  "
      ],
      "execution_count": 0,
      "outputs": [
        {
          "output_type": "stream",
          "text": [
            "Requirement already satisfied: gensim in /usr/local/lib/python3.6/dist-packages (3.6.0)\n",
            "Requirement already satisfied: numpy>=1.11.3 in /usr/local/lib/python3.6/dist-packages (from gensim) (1.17.5)\n",
            "Requirement already satisfied: smart-open>=1.2.1 in /usr/local/lib/python3.6/dist-packages (from gensim) (1.9.0)\n",
            "Requirement already satisfied: scipy>=0.18.1 in /usr/local/lib/python3.6/dist-packages (from gensim) (1.4.1)\n",
            "Requirement already satisfied: six>=1.5.0 in /usr/local/lib/python3.6/dist-packages (from gensim) (1.12.0)\n",
            "Requirement already satisfied: boto3 in /usr/local/lib/python3.6/dist-packages (from smart-open>=1.2.1->gensim) (1.10.47)\n",
            "Requirement already satisfied: requests in /usr/local/lib/python3.6/dist-packages (from smart-open>=1.2.1->gensim) (2.21.0)\n",
            "Requirement already satisfied: boto>=2.32 in /usr/local/lib/python3.6/dist-packages (from smart-open>=1.2.1->gensim) (2.49.0)\n",
            "Requirement already satisfied: jmespath<1.0.0,>=0.7.1 in /usr/local/lib/python3.6/dist-packages (from boto3->smart-open>=1.2.1->gensim) (0.9.4)\n",
            "Requirement already satisfied: s3transfer<0.3.0,>=0.2.0 in /usr/local/lib/python3.6/dist-packages (from boto3->smart-open>=1.2.1->gensim) (0.2.1)\n",
            "Requirement already satisfied: botocore<1.14.0,>=1.13.47 in /usr/local/lib/python3.6/dist-packages (from boto3->smart-open>=1.2.1->gensim) (1.13.47)\n",
            "Requirement already satisfied: chardet<3.1.0,>=3.0.2 in /usr/local/lib/python3.6/dist-packages (from requests->smart-open>=1.2.1->gensim) (3.0.4)\n",
            "Requirement already satisfied: idna<2.9,>=2.5 in /usr/local/lib/python3.6/dist-packages (from requests->smart-open>=1.2.1->gensim) (2.8)\n",
            "Requirement already satisfied: urllib3<1.25,>=1.21.1 in /usr/local/lib/python3.6/dist-packages (from requests->smart-open>=1.2.1->gensim) (1.24.3)\n",
            "Requirement already satisfied: certifi>=2017.4.17 in /usr/local/lib/python3.6/dist-packages (from requests->smart-open>=1.2.1->gensim) (2019.11.28)\n",
            "Requirement already satisfied: python-dateutil<3.0.0,>=2.1; python_version >= \"2.7\" in /usr/local/lib/python3.6/dist-packages (from botocore<1.14.0,>=1.13.47->boto3->smart-open>=1.2.1->gensim) (2.6.1)\n",
            "Requirement already satisfied: docutils<0.16,>=0.10 in /usr/local/lib/python3.6/dist-packages (from botocore<1.14.0,>=1.13.47->boto3->smart-open>=1.2.1->gensim) (0.15.2)\n"
          ],
          "name": "stdout"
        }
      ]
    },
    {
      "cell_type": "code",
      "metadata": {
        "id": "rJemHGPSmyUW",
        "colab_type": "code",
        "colab": {}
      },
      "source": [
        "from gensim.models import word2vec"
      ],
      "execution_count": 0,
      "outputs": []
    },
    {
      "cell_type": "code",
      "metadata": {
        "id": "Ve-NjWtJm30H",
        "colab_type": "code",
        "outputId": "7a636fb7-1921-485f-9ec8-f1bfc0cb7a1b",
        "colab": {
          "base_uri": "https://localhost:8080/",
          "height": 71
        }
      },
      "source": [
        "# https://github.com/dav/word2vec/blob/master/scripts/create-text8-vector-data.sh#L16\n",
        "model = word2vec.Word2Vec(corpus_file='text8', sg=0, size=200, window=8, negative=25, hs=0, sample=1e-4, workers=20, min_count=5, iter=15)"
      ],
      "execution_count": 0,
      "outputs": [
        {
          "output_type": "stream",
          "text": [
            "/usr/local/lib/python3.6/dist-packages/smart_open/smart_open_lib.py:402: UserWarning: This function is deprecated, use smart_open.open instead. See the migration notes for details: https://github.com/RaRe-Technologies/smart_open/blob/master/README.rst#migrating-to-the-new-open-function\n",
            "  'See the migration notes for details: %s' % _MIGRATION_NOTES_URL\n"
          ],
          "name": "stderr"
        }
      ]
    },
    {
      "cell_type": "markdown",
      "metadata": {
        "id": "7bpy8k9o8hw1",
        "colab_type": "text"
      },
      "source": [
        "Let's get the vector for a word"
      ]
    },
    {
      "cell_type": "code",
      "metadata": {
        "id": "cPMlmVWmp0PS",
        "colab_type": "code",
        "outputId": "8950a846-280a-4769-b006-5d91b3212e91",
        "colab": {
          "base_uri": "https://localhost:8080/",
          "height": 595
        }
      },
      "source": [
        "vector = model.wv['computer']\n",
        "print(vector)"
      ],
      "execution_count": 0,
      "outputs": [
        {
          "output_type": "stream",
          "text": [
            "[ 0.48510426 -0.7160051  -0.6854017   0.955343    0.4747217  -0.52960235\n",
            " -0.26270095  0.85960984  0.26024544 -0.11315063  0.41707852  0.16497087\n",
            "  0.13923208 -1.0012696   0.25271562 -0.63061744  0.49414426  0.01971136\n",
            " -0.40476573  0.07290158  1.0257103  -0.30192968  1.0847229  -1.0847398\n",
            "  0.58647346  0.89671993 -0.18600236  0.9819717   1.4296737  -0.28193998\n",
            " -0.4078654  -0.01951197 -0.61289614 -0.70960593 -0.56282073 -0.20745102\n",
            " -0.2629219   0.9169005   0.15024388 -0.45934585  1.1095932  -0.6293792\n",
            "  1.2036548   0.11496879  0.12684397 -0.15024748 -0.5992606   0.15775152\n",
            " -1.602282   -0.57597136  0.06771424 -0.46035585 -0.4733512   0.89628077\n",
            " -0.88359505  0.45431048  0.44235113 -0.47377422  0.28555453 -0.49019748\n",
            " -0.9284869   0.36679336 -1.0388595   0.4867893  -0.4811202  -0.48730654\n",
            "  0.7876218  -0.9157782   0.00262798  0.20349774  0.68329096 -0.2987786\n",
            " -0.23044682  0.5578539  -0.9060894  -0.52301073 -0.78355193 -0.48432544\n",
            "  0.4053386  -0.10769942  0.10152813  0.02598855  0.5954332  -0.43361944\n",
            " -0.46707398  0.0834979   0.21073437  1.3419198  -0.2739159   0.58831185\n",
            "  0.30545372  0.63934314 -0.49081406  0.26305842  0.2015196  -0.39314067\n",
            "  0.07358053  0.783918   -0.85018665  0.75376284  0.07558631  0.5198125\n",
            "  0.38224852 -1.1803032  -0.50259465  0.22819132  0.06688491  0.26652297\n",
            "  0.5288662   0.38822195  0.13973261 -0.3680717   0.91127247  0.55284494\n",
            "  0.09928887 -0.21140182  0.03730036 -0.5356271   0.79477364  0.27156428\n",
            " -0.24842866  0.19705255 -0.06192473 -0.10795068  0.04545636  0.761728\n",
            " -1.4826907   0.277233   -0.3649127  -0.25940764  0.22763504  0.08334927\n",
            "  0.8135727  -0.33038303 -0.28509566  0.16906068  0.18171647  0.43285984\n",
            " -0.08057973  1.2957196   0.53482133 -0.56826574 -0.5647597  -0.22832713\n",
            "  0.9012447   1.0355977   0.08440423  0.58364    -0.08662889  0.12455989\n",
            "  0.55715084  0.6229703   0.04998015  0.50903016 -0.43103558  0.45006895\n",
            " -0.3648843   0.36784923  0.2486551   0.25729385  0.84647787  0.95350355\n",
            "  1.2118695  -0.16636966 -0.10321923 -0.7221711   0.13532938  0.22031741\n",
            " -0.6524781   0.5005418  -0.28112394  0.70662934  0.08450297 -0.33809027\n",
            "  0.05651434 -0.03533552 -0.738031    0.03889685  1.6431012   0.20268033\n",
            " -1.1074681  -0.13226928  0.01142917  0.22065428 -0.39384052  0.30783927\n",
            "  0.007179   -0.12512772 -0.0488427   0.6477916   1.2599529   1.0071988\n",
            "  0.5097169  -0.21138981  0.65658814 -0.3187095   0.61534625  0.35638574\n",
            "  0.26617494 -0.19706014]\n"
          ],
          "name": "stdout"
        }
      ]
    },
    {
      "cell_type": "markdown",
      "metadata": {
        "id": "GLZq6pfF_aTQ",
        "colab_type": "text"
      },
      "source": [
        "# Cosine Similarity\n"
      ]
    },
    {
      "cell_type": "code",
      "metadata": {
        "id": "erpB0wQp_f4U",
        "colab_type": "code",
        "colab": {}
      },
      "source": [
        "import numpy as np\n",
        "from sklearn.metrics.pairwise import cosine_similarity"
      ],
      "execution_count": 0,
      "outputs": []
    },
    {
      "cell_type": "markdown",
      "metadata": {
        "id": "gISFrcqGAVkM",
        "colab_type": "text"
      },
      "source": [
        "**Using the embedding word in Method 1**"
      ]
    },
    {
      "cell_type": "markdown",
      "metadata": {
        "id": "yLzrESALoMAI",
        "colab_type": "text"
      },
      "source": [
        "Pair of words number 1 "
      ]
    },
    {
      "cell_type": "code",
      "metadata": {
        "id": "Bjd_nn6UoPID",
        "colab_type": "code",
        "outputId": "c7da5ffd-9c2f-4043-f539-f6afd234faac",
        "colab": {
          "base_uri": "https://localhost:8080/",
          "height": 51
        }
      },
      "source": [
        "print(lines[value1])"
      ],
      "execution_count": 0,
      "outputs": [
        {
          "output_type": "stream",
          "text": [
            "go:sell:0.97:v:v\n",
            "\n"
          ],
          "name": "stdout"
        }
      ]
    },
    {
      "cell_type": "code",
      "metadata": {
        "id": "MMsEwS2Vobeo",
        "colab_type": "code",
        "outputId": "c8eb6972-494e-4775-bec3-6c7e9aea1dc5",
        "colab": {
          "base_uri": "https://localhost:8080/",
          "height": 85
        }
      },
      "source": [
        "# Compute a representation for each message, showing various lengths supported.\n",
        "word = \"go\"\n",
        "messages = [word]\n",
        "\n",
        "# Reduce logging output.\n",
        "tf.logging.set_verbosity(tf.logging.ERROR)\n",
        "\n",
        "with tf.Session() as session:\n",
        "  session.run([tf.global_variables_initializer(), tf.tables_initializer()])\n",
        "  message_embeddings = session.run(embed(messages))\n",
        "\n",
        "  for i, message_embedding in enumerate(np.array(message_embeddings).tolist()):\n",
        "    print(\"Message: {}\".format(messages[i]))\n",
        "    print(\"Embedding size: {}\".format(len(message_embedding)))\n",
        "    message_embedding_snippet = \", \".join(\n",
        "        (str(x) for x in message_embedding[:3]))\n",
        "    print(\"Embedding: [{}, ...]\\n\".format(message_embedding_snippet))"
      ],
      "execution_count": 0,
      "outputs": [
        {
          "output_type": "stream",
          "text": [
            "Message: go\n",
            "Embedding size: 512\n",
            "Embedding: [-0.019513163715600967, -0.00862062256783247, 0.02588113397359848, ...]\n",
            "\n"
          ],
          "name": "stdout"
        }
      ]
    },
    {
      "cell_type": "code",
      "metadata": {
        "id": "GfZsGit3xM1H",
        "colab_type": "code",
        "outputId": "22105a58-f244-4caa-9b9c-cf9d290a5129",
        "colab": {
          "base_uri": "https://localhost:8080/",
          "height": 51
        }
      },
      "source": [
        "vector1 = message_embedding\n",
        "vector1 = np.asarray(vector1)\n",
        "print(vector1.shape)\n",
        "vector1 = vector1.reshape(1,512)\n",
        "print(vector1.shape)"
      ],
      "execution_count": 0,
      "outputs": [
        {
          "output_type": "stream",
          "text": [
            "(512,)\n",
            "(1, 512)\n"
          ],
          "name": "stdout"
        }
      ]
    },
    {
      "cell_type": "code",
      "metadata": {
        "id": "KVSvK3OrwiRC",
        "colab_type": "code",
        "outputId": "dc323e13-d486-4ff3-d42c-3f8ed64a48f8",
        "colab": {
          "base_uri": "https://localhost:8080/",
          "height": 85
        }
      },
      "source": [
        "# Compute a representation for each message, showing various lengths supported.\n",
        "word = \"sell\"\n",
        "messages = [word]\n",
        "\n",
        "# Reduce logging output.\n",
        "tf.logging.set_verbosity(tf.logging.ERROR)\n",
        "\n",
        "with tf.Session() as session:\n",
        "  session.run([tf.global_variables_initializer(), tf.tables_initializer()])\n",
        "  message_embeddings = session.run(embed(messages))\n",
        "\n",
        "  for i, message_embedding in enumerate(np.array(message_embeddings).tolist()):\n",
        "    print(\"Message: {}\".format(messages[i]))\n",
        "    print(\"Embedding size: {}\".format(len(message_embedding)))\n",
        "    message_embedding_snippet = \", \".join(\n",
        "        (str(x) for x in message_embedding[:3]))\n",
        "    print(\"Embedding: [{}, ...]\\n\".format(message_embedding_snippet))"
      ],
      "execution_count": 0,
      "outputs": [
        {
          "output_type": "stream",
          "text": [
            "Message: sell\n",
            "Embedding size: 512\n",
            "Embedding: [0.0733080804347992, -0.02458847314119339, -0.04516470059752464, ...]\n",
            "\n"
          ],
          "name": "stdout"
        }
      ]
    },
    {
      "cell_type": "code",
      "metadata": {
        "id": "UopzuX33wrla",
        "colab_type": "code",
        "outputId": "7df7eb0b-162c-499c-b909-8e2d6102e8de",
        "colab": {
          "base_uri": "https://localhost:8080/",
          "height": 51
        }
      },
      "source": [
        "vector2 = message_embedding\n",
        "vector2 = np.asarray(vector2)\n",
        "print(vector2.shape)\n",
        "vector2 = vector2.reshape(1,512)\n",
        "print(vector2.shape)"
      ],
      "execution_count": 0,
      "outputs": [
        {
          "output_type": "stream",
          "text": [
            "(512,)\n",
            "(1, 512)\n"
          ],
          "name": "stdout"
        }
      ]
    },
    {
      "cell_type": "code",
      "metadata": {
        "id": "tEehyWB_wyJJ",
        "colab_type": "code",
        "outputId": "a83cb420-a6bf-4b7f-895a-004dbfe9e1b6",
        "colab": {
          "base_uri": "https://localhost:8080/",
          "height": 34
        }
      },
      "source": [
        "cos_lib = cosine_similarity(vector1, vector2)\n",
        "print(cos_lib)"
      ],
      "execution_count": 0,
      "outputs": [
        {
          "output_type": "stream",
          "text": [
            "[[0.38461383]]\n"
          ],
          "name": "stdout"
        }
      ]
    },
    {
      "cell_type": "markdown",
      "metadata": {
        "id": "yw6_9HrY3Kfx",
        "colab_type": "text"
      },
      "source": [
        "Pair of words number 2"
      ]
    },
    {
      "cell_type": "code",
      "metadata": {
        "id": "YRVKkXBP3N_G",
        "colab_type": "code",
        "outputId": "20c48ec0-5a74-41fa-fb45-622a7e3e0f84",
        "colab": {
          "base_uri": "https://localhost:8080/",
          "height": 51
        }
      },
      "source": [
        "print(lines[value2])"
      ],
      "execution_count": 0,
      "outputs": [
        {
          "output_type": "stream",
          "text": [
            "winter:season:6.27:n:n\n",
            "\n"
          ],
          "name": "stdout"
        }
      ]
    },
    {
      "cell_type": "code",
      "metadata": {
        "id": "znu6eYvP4ODo",
        "colab_type": "code",
        "outputId": "65467af2-5179-432b-8500-9784d6aeb40c",
        "colab": {
          "base_uri": "https://localhost:8080/",
          "height": 85
        }
      },
      "source": [
        "# Compute a representation for each message, showing various lengths supported.\n",
        "word = \"winter\"\n",
        "messages = [word]\n",
        "\n",
        "# Reduce logging output.\n",
        "tf.logging.set_verbosity(tf.logging.ERROR)\n",
        "\n",
        "with tf.Session() as session:\n",
        "  session.run([tf.global_variables_initializer(), tf.tables_initializer()])\n",
        "  message_embeddings = session.run(embed(messages))\n",
        "\n",
        "  for i, message_embedding in enumerate(np.array(message_embeddings).tolist()):\n",
        "    print(\"Message: {}\".format(messages[i]))\n",
        "    print(\"Embedding size: {}\".format(len(message_embedding)))\n",
        "    message_embedding_snippet = \", \".join(\n",
        "        (str(x) for x in message_embedding[:3]))\n",
        "    print(\"Embedding: [{}, ...]\\n\".format(message_embedding_snippet))"
      ],
      "execution_count": 0,
      "outputs": [
        {
          "output_type": "stream",
          "text": [
            "Message: winter\n",
            "Embedding size: 512\n",
            "Embedding: [-0.06278520077466965, 0.044713642448186874, 0.014479436911642551, ...]\n",
            "\n"
          ],
          "name": "stdout"
        }
      ]
    },
    {
      "cell_type": "code",
      "metadata": {
        "id": "CqL9SlP84TPM",
        "colab_type": "code",
        "outputId": "894e5066-a46f-4a01-b724-e8164d1f6d2f",
        "colab": {
          "base_uri": "https://localhost:8080/",
          "height": 51
        }
      },
      "source": [
        "vector1 = message_embedding\n",
        "vector1 = np.asarray(vector1)\n",
        "print(vector1.shape)\n",
        "vector1 = vector1.reshape(1,512)\n",
        "print(vector1.shape)"
      ],
      "execution_count": 0,
      "outputs": [
        {
          "output_type": "stream",
          "text": [
            "(512,)\n",
            "(1, 512)\n"
          ],
          "name": "stdout"
        }
      ]
    },
    {
      "cell_type": "code",
      "metadata": {
        "id": "CAFECQJ54dxy",
        "colab_type": "code",
        "outputId": "1a6bae6d-7e62-43e6-fa5f-a14be21ab017",
        "colab": {
          "base_uri": "https://localhost:8080/",
          "height": 85
        }
      },
      "source": [
        "# Compute a representation for each message, showing various lengths supported.\n",
        "word = \"season\"\n",
        "messages = [word]\n",
        "\n",
        "# Reduce logging output.\n",
        "tf.logging.set_verbosity(tf.logging.ERROR)\n",
        "\n",
        "with tf.Session() as session:\n",
        "  session.run([tf.global_variables_initializer(), tf.tables_initializer()])\n",
        "  message_embeddings = session.run(embed(messages))\n",
        "\n",
        "  for i, message_embedding in enumerate(np.array(message_embeddings).tolist()):\n",
        "    print(\"Message: {}\".format(messages[i]))\n",
        "    print(\"Embedding size: {}\".format(len(message_embedding)))\n",
        "    message_embedding_snippet = \", \".join(\n",
        "        (str(x) for x in message_embedding[:3]))\n",
        "    print(\"Embedding: [{}, ...]\\n\".format(message_embedding_snippet))"
      ],
      "execution_count": 0,
      "outputs": [
        {
          "output_type": "stream",
          "text": [
            "Message: season\n",
            "Embedding size: 512\n",
            "Embedding: [-0.07500195503234863, 0.003996224608272314, -0.05541529878973961, ...]\n",
            "\n"
          ],
          "name": "stdout"
        }
      ]
    },
    {
      "cell_type": "code",
      "metadata": {
        "id": "Xm-5tp1j4fo7",
        "colab_type": "code",
        "outputId": "0d89994b-13f3-4b96-c73e-a65cce5e7602",
        "colab": {
          "base_uri": "https://localhost:8080/",
          "height": 51
        }
      },
      "source": [
        "vector2 = message_embedding\n",
        "vector2 = np.asarray(vector2)\n",
        "print(vector2.shape)\n",
        "vector2 = vector2.reshape(1,512)\n",
        "print(vector2.shape)"
      ],
      "execution_count": 0,
      "outputs": [
        {
          "output_type": "stream",
          "text": [
            "(512,)\n",
            "(1, 512)\n"
          ],
          "name": "stdout"
        }
      ]
    },
    {
      "cell_type": "code",
      "metadata": {
        "id": "CJ3-CDRv4idr",
        "colab_type": "code",
        "outputId": "efb77921-fc1c-4d83-f246-7d66c3123150",
        "colab": {
          "base_uri": "https://localhost:8080/",
          "height": 34
        }
      },
      "source": [
        "cos_lib = cosine_similarity(vector1, vector2)\n",
        "print(cos_lib)"
      ],
      "execution_count": 0,
      "outputs": [
        {
          "output_type": "stream",
          "text": [
            "[[0.70394513]]\n"
          ],
          "name": "stdout"
        }
      ]
    },
    {
      "cell_type": "markdown",
      "metadata": {
        "id": "mF-0yh2f4mQg",
        "colab_type": "text"
      },
      "source": [
        "Pair of words number 3 "
      ]
    },
    {
      "cell_type": "code",
      "metadata": {
        "id": "K2gk-KyA4qiD",
        "colab_type": "code",
        "outputId": "296612a6-caa0-41b9-a002-a3f2d2576d1b",
        "colab": {
          "base_uri": "https://localhost:8080/",
          "height": 51
        }
      },
      "source": [
        "print(lines[value3])"
      ],
      "execution_count": 0,
      "outputs": [
        {
          "output_type": "stream",
          "text": [
            "apple:lemon:4.05:n:n\n",
            "\n"
          ],
          "name": "stdout"
        }
      ]
    },
    {
      "cell_type": "code",
      "metadata": {
        "id": "fG7q60Us4tmV",
        "colab_type": "code",
        "outputId": "82b315e7-c6eb-4555-c98e-e63ce36ea66e",
        "colab": {
          "base_uri": "https://localhost:8080/",
          "height": 85
        }
      },
      "source": [
        "# Compute a representation for each message, showing various lengths supported.\n",
        "word = \"apple\"\n",
        "messages = [word]\n",
        "\n",
        "# Reduce logging output.\n",
        "tf.logging.set_verbosity(tf.logging.ERROR)\n",
        "\n",
        "with tf.Session() as session:\n",
        "  session.run([tf.global_variables_initializer(), tf.tables_initializer()])\n",
        "  message_embeddings = session.run(embed(messages))\n",
        "\n",
        "  for i, message_embedding in enumerate(np.array(message_embeddings).tolist()):\n",
        "    print(\"Message: {}\".format(messages[i]))\n",
        "    print(\"Embedding size: {}\".format(len(message_embedding)))\n",
        "    message_embedding_snippet = \", \".join(\n",
        "        (str(x) for x in message_embedding[:3]))\n",
        "    print(\"Embedding: [{}, ...]\\n\".format(message_embedding_snippet))"
      ],
      "execution_count": 0,
      "outputs": [
        {
          "output_type": "stream",
          "text": [
            "Message: apple\n",
            "Embedding size: 512\n",
            "Embedding: [-0.03251326084136963, 0.04001666232943535, -0.024280602112412453, ...]\n",
            "\n"
          ],
          "name": "stdout"
        }
      ]
    },
    {
      "cell_type": "code",
      "metadata": {
        "id": "uNh8oN_L4-Ni",
        "colab_type": "code",
        "outputId": "94a64643-5a93-48e3-9874-86aa1deda30f",
        "colab": {
          "base_uri": "https://localhost:8080/",
          "height": 51
        }
      },
      "source": [
        "vector1 = message_embedding\n",
        "vector1 = np.asarray(vector1)\n",
        "print(vector1.shape)\n",
        "vector1 = vector1.reshape(1,512)\n",
        "print(vector1.shape)"
      ],
      "execution_count": 0,
      "outputs": [
        {
          "output_type": "stream",
          "text": [
            "(512,)\n",
            "(1, 512)\n"
          ],
          "name": "stdout"
        }
      ]
    },
    {
      "cell_type": "code",
      "metadata": {
        "id": "WV4LCTMD5BbI",
        "colab_type": "code",
        "outputId": "096aa3e7-3f56-4002-83a7-c65047515641",
        "colab": {
          "base_uri": "https://localhost:8080/",
          "height": 85
        }
      },
      "source": [
        "# Compute a representation for each message, showing various lengths supported.\n",
        "word = \"lemon\"\n",
        "messages = [word]\n",
        "\n",
        "# Reduce logging output.\n",
        "tf.logging.set_verbosity(tf.logging.ERROR)\n",
        "\n",
        "with tf.Session() as session:\n",
        "  session.run([tf.global_variables_initializer(), tf.tables_initializer()])\n",
        "  message_embeddings = session.run(embed(messages))\n",
        "\n",
        "  for i, message_embedding in enumerate(np.array(message_embeddings).tolist()):\n",
        "    print(\"Message: {}\".format(messages[i]))\n",
        "    print(\"Embedding size: {}\".format(len(message_embedding)))\n",
        "    message_embedding_snippet = \", \".join(\n",
        "        (str(x) for x in message_embedding[:3]))\n",
        "    print(\"Embedding: [{}, ...]\\n\".format(message_embedding_snippet))"
      ],
      "execution_count": 0,
      "outputs": [
        {
          "output_type": "stream",
          "text": [
            "Message: lemon\n",
            "Embedding size: 512\n",
            "Embedding: [-0.06213806942105293, -0.027360964566469193, -0.009974876418709755, ...]\n",
            "\n"
          ],
          "name": "stdout"
        }
      ]
    },
    {
      "cell_type": "code",
      "metadata": {
        "id": "-jLxYuYB5I0r",
        "colab_type": "code",
        "outputId": "fafbbc51-1645-48e2-ccac-52ac19f6369a",
        "colab": {
          "base_uri": "https://localhost:8080/",
          "height": 51
        }
      },
      "source": [
        "vector2 = message_embedding\n",
        "vector2 = np.asarray(vector2)\n",
        "print(vector2.shape)\n",
        "vector2 = vector2.reshape(1,512)\n",
        "print(vector2.shape)"
      ],
      "execution_count": 0,
      "outputs": [
        {
          "output_type": "stream",
          "text": [
            "(512,)\n",
            "(1, 512)\n"
          ],
          "name": "stdout"
        }
      ]
    },
    {
      "cell_type": "code",
      "metadata": {
        "id": "rhZ-uOHd5J5p",
        "colab_type": "code",
        "outputId": "ad63f867-f86a-46bb-b7fc-4600f4a05314",
        "colab": {
          "base_uri": "https://localhost:8080/",
          "height": 34
        }
      },
      "source": [
        "cos_lib = cosine_similarity(vector1, vector2)\n",
        "print(cos_lib)"
      ],
      "execution_count": 0,
      "outputs": [
        {
          "output_type": "stream",
          "text": [
            "[[0.53498339]]\n"
          ],
          "name": "stdout"
        }
      ]
    },
    {
      "cell_type": "markdown",
      "metadata": {
        "id": "HxkSjMhF5b-e",
        "colab_type": "text"
      },
      "source": [
        "**Using the embedding word in Method 2**"
      ]
    },
    {
      "cell_type": "markdown",
      "metadata": {
        "id": "54Ng7AF35jVG",
        "colab_type": "text"
      },
      "source": [
        "Pair of words number 1"
      ]
    },
    {
      "cell_type": "code",
      "metadata": {
        "id": "oLebzLYM5iP9",
        "colab_type": "code",
        "outputId": "017b290f-09ec-42e4-e9a1-eddecb971c11",
        "colab": {
          "base_uri": "https://localhost:8080/",
          "height": 51
        }
      },
      "source": [
        "print(lines[value1])"
      ],
      "execution_count": 0,
      "outputs": [
        {
          "output_type": "stream",
          "text": [
            "go:sell:0.97:v:v\n",
            "\n"
          ],
          "name": "stdout"
        }
      ]
    },
    {
      "cell_type": "code",
      "metadata": {
        "id": "UdaQzlt950fP",
        "colab_type": "code",
        "colab": {}
      },
      "source": [
        "target1 = \"go\"\n",
        "target2 = \"sell\"\n",
        "target_index1 = word2index[target1]\n",
        "target_index2 = word2index[target2]\n",
        "vector1 = weights_0_1[target_index1]\n",
        "vector1 = vector1.reshape(1,100)\n",
        "vector2 = weights_0_1[target_index2]\n",
        "vector2 = vector2.reshape(1,100)"
      ],
      "execution_count": 0,
      "outputs": []
    },
    {
      "cell_type": "code",
      "metadata": {
        "id": "sYJ960WR6hOc",
        "colab_type": "code",
        "outputId": "afd0866d-8736-4f12-ca16-5e4382acedff",
        "colab": {
          "base_uri": "https://localhost:8080/",
          "height": 34
        }
      },
      "source": [
        "cos_lib = cosine_similarity(vector1, vector2)\n",
        "print(cos_lib)"
      ],
      "execution_count": 0,
      "outputs": [
        {
          "output_type": "stream",
          "text": [
            "[[0.18424729]]\n"
          ],
          "name": "stdout"
        }
      ]
    },
    {
      "cell_type": "markdown",
      "metadata": {
        "id": "FDXYAbSj7hx0",
        "colab_type": "text"
      },
      "source": [
        "Pair of words number 2"
      ]
    },
    {
      "cell_type": "code",
      "metadata": {
        "id": "j6t0LSsI6lHT",
        "colab_type": "code",
        "outputId": "6fda8284-07d4-4299-b5a6-22b3349dba57",
        "colab": {
          "base_uri": "https://localhost:8080/",
          "height": 51
        }
      },
      "source": [
        "print(lines[value2])"
      ],
      "execution_count": 0,
      "outputs": [
        {
          "output_type": "stream",
          "text": [
            "winter:season:6.27:n:n\n",
            "\n"
          ],
          "name": "stdout"
        }
      ]
    },
    {
      "cell_type": "code",
      "metadata": {
        "id": "b3fItBIr7lCu",
        "colab_type": "code",
        "colab": {}
      },
      "source": [
        "target1 = \"winter\"\n",
        "target2 = \"season\"\n",
        "target_index1 = word2index[target1]\n",
        "target_index2 = word2index[target2]\n",
        "vector1 = weights_0_1[target_index1]\n",
        "vector1 = vector1.reshape(1,100)\n",
        "vector2 = weights_0_1[target_index2]\n",
        "vector2 = vector2.reshape(1,100)"
      ],
      "execution_count": 0,
      "outputs": []
    },
    {
      "cell_type": "code",
      "metadata": {
        "id": "JrldjZD27pB7",
        "colab_type": "code",
        "outputId": "854938e9-9507-4faa-e0c0-ca73c9b00565",
        "colab": {
          "base_uri": "https://localhost:8080/",
          "height": 34
        }
      },
      "source": [
        "cos_lib = cosine_similarity(vector1, vector2)\n",
        "print(cos_lib)"
      ],
      "execution_count": 0,
      "outputs": [
        {
          "output_type": "stream",
          "text": [
            "[[0.30536699]]\n"
          ],
          "name": "stdout"
        }
      ]
    },
    {
      "cell_type": "markdown",
      "metadata": {
        "id": "S8slb3Dl8QmL",
        "colab_type": "text"
      },
      "source": [
        "Pair of words number 3"
      ]
    },
    {
      "cell_type": "code",
      "metadata": {
        "id": "q41aHy2X7qYY",
        "colab_type": "code",
        "outputId": "e0b256a1-6abb-4977-ae81-a3157e0f1284",
        "colab": {
          "base_uri": "https://localhost:8080/",
          "height": 51
        }
      },
      "source": [
        "print(lines[value3])"
      ],
      "execution_count": 0,
      "outputs": [
        {
          "output_type": "stream",
          "text": [
            "apple:lemon:4.05:n:n\n",
            "\n"
          ],
          "name": "stdout"
        }
      ]
    },
    {
      "cell_type": "code",
      "metadata": {
        "id": "REtHkH348UV3",
        "colab_type": "code",
        "colab": {}
      },
      "source": [
        "target1 = \"apple\"\n",
        "target2 = \"lemon\"\n",
        "target_index1 = word2index[target1]\n",
        "target_index2 = word2index[target2]\n",
        "vector1 = weights_0_1[target_index1]\n",
        "vector1 = vector1.reshape(1,100)\n",
        "vector2 = weights_0_1[target_index2]\n",
        "vector2 = vector2.reshape(1,100)"
      ],
      "execution_count": 0,
      "outputs": []
    },
    {
      "cell_type": "code",
      "metadata": {
        "id": "_wwAwaeD8ZCy",
        "colab_type": "code",
        "outputId": "66501037-194d-44d4-a2f0-15b66363ef8c",
        "colab": {
          "base_uri": "https://localhost:8080/",
          "height": 34
        }
      },
      "source": [
        "cos_lib = cosine_similarity(vector1, vector2)\n",
        "print(cos_lib)"
      ],
      "execution_count": 0,
      "outputs": [
        {
          "output_type": "stream",
          "text": [
            "[[-0.09574697]]\n"
          ],
          "name": "stdout"
        }
      ]
    },
    {
      "cell_type": "markdown",
      "metadata": {
        "id": "KjkSQ3ob-wwF",
        "colab_type": "text"
      },
      "source": [
        "**Using the embedding word in Method 3**"
      ]
    },
    {
      "cell_type": "markdown",
      "metadata": {
        "id": "HPzrpbWD-x6V",
        "colab_type": "text"
      },
      "source": [
        "Pair of words number 1 "
      ]
    },
    {
      "cell_type": "code",
      "metadata": {
        "id": "N1d--ZVE-qP5",
        "colab_type": "code",
        "outputId": "4e8e83ba-392a-4327-9871-814661b8e3ad",
        "colab": {
          "base_uri": "https://localhost:8080/",
          "height": 51
        }
      },
      "source": [
        "print(lines[value1])"
      ],
      "execution_count": 0,
      "outputs": [
        {
          "output_type": "stream",
          "text": [
            "go:sell:0.97:v:v\n",
            "\n"
          ],
          "name": "stdout"
        }
      ]
    },
    {
      "cell_type": "code",
      "metadata": {
        "id": "b2wfHD3k-1sW",
        "colab_type": "code",
        "colab": {}
      },
      "source": [
        "vector1 = model.wv[\"go\"]\n",
        "vector1 = vector1.reshape(1,200)\n",
        "vector2 = model.wv[\"sell\"]\n",
        "vector2 = vector2.reshape(1,200)\n",
        "\n"
      ],
      "execution_count": 0,
      "outputs": []
    },
    {
      "cell_type": "code",
      "metadata": {
        "id": "KhEReGXR_sYF",
        "colab_type": "code",
        "outputId": "5fa6db02-46f9-4016-b75f-9484e3521181",
        "colab": {
          "base_uri": "https://localhost:8080/",
          "height": 34
        }
      },
      "source": [
        "cos_lib = cosine_similarity(vector1, vector2)\n",
        "print(cos_lib)"
      ],
      "execution_count": 0,
      "outputs": [
        {
          "output_type": "stream",
          "text": [
            "[[0.99048984]]\n"
          ],
          "name": "stdout"
        }
      ]
    },
    {
      "cell_type": "markdown",
      "metadata": {
        "id": "NfkoW3C6ACke",
        "colab_type": "text"
      },
      "source": [
        "Pair of words number 2"
      ]
    },
    {
      "cell_type": "code",
      "metadata": {
        "id": "rRLiMh0n_trB",
        "colab_type": "code",
        "outputId": "5cba6d44-3ac6-46f0-bb16-1b6c64a34853",
        "colab": {
          "base_uri": "https://localhost:8080/",
          "height": 51
        }
      },
      "source": [
        "print(lines[value2])"
      ],
      "execution_count": 0,
      "outputs": [
        {
          "output_type": "stream",
          "text": [
            "winter:season:6.27:n:n\n",
            "\n"
          ],
          "name": "stdout"
        }
      ]
    },
    {
      "cell_type": "code",
      "metadata": {
        "id": "6I8iVYapAG-_",
        "colab_type": "code",
        "colab": {}
      },
      "source": [
        "vector1 = model.wv[\"winter\"]\n",
        "vector1 = vector1.reshape(1,200)\n",
        "vector2 = model.wv[\"season\"]\n",
        "vector2 = vector2.reshape(1,200)"
      ],
      "execution_count": 0,
      "outputs": []
    },
    {
      "cell_type": "code",
      "metadata": {
        "id": "ejpwqGiCAavm",
        "colab_type": "code",
        "outputId": "7f4420ea-7b94-4160-e5cb-5b75b3e38bef",
        "colab": {
          "base_uri": "https://localhost:8080/",
          "height": 34
        }
      },
      "source": [
        "cos_lib = cosine_similarity(vector1, vector2)\n",
        "print(cos_lib)"
      ],
      "execution_count": 0,
      "outputs": [
        {
          "output_type": "stream",
          "text": [
            "[[0.99857444]]\n"
          ],
          "name": "stdout"
        }
      ]
    },
    {
      "cell_type": "markdown",
      "metadata": {
        "id": "vMjj11_rAnWH",
        "colab_type": "text"
      },
      "source": [
        "Pair of words number 3"
      ]
    },
    {
      "cell_type": "code",
      "metadata": {
        "id": "vZv6ZV_1Acj2",
        "colab_type": "code",
        "outputId": "dea84092-0296-4404-f384-88f7cd92447e",
        "colab": {
          "base_uri": "https://localhost:8080/",
          "height": 51
        }
      },
      "source": [
        "print(lines[value3])"
      ],
      "execution_count": 0,
      "outputs": [
        {
          "output_type": "stream",
          "text": [
            "apple:lemon:4.05:n:n\n",
            "\n"
          ],
          "name": "stdout"
        }
      ]
    },
    {
      "cell_type": "code",
      "metadata": {
        "id": "vrOdoq2QArT3",
        "colab_type": "code",
        "colab": {}
      },
      "source": [
        "vector1 = model.wv[\"apple\"]\n",
        "vector1 = vector1.reshape(1,200)\n",
        "vector2 = model.wv[\"lemon\"]\n",
        "vector2 = vector2.reshape(1,200)"
      ],
      "execution_count": 0,
      "outputs": []
    },
    {
      "cell_type": "code",
      "metadata": {
        "id": "CCa3dqZZAwkx",
        "colab_type": "code",
        "outputId": "5c40f27f-c255-4d6d-f2f2-c81a4d48c617",
        "colab": {
          "base_uri": "https://localhost:8080/",
          "height": 34
        }
      },
      "source": [
        "cos_lib = cosine_similarity(vector1, vector2)\n",
        "print(cos_lib)"
      ],
      "execution_count": 0,
      "outputs": [
        {
          "output_type": "stream",
          "text": [
            "[[0.9743163]]\n"
          ],
          "name": "stdout"
        }
      ]
    },
    {
      "cell_type": "code",
      "metadata": {
        "id": "JOgR5z8bAxup",
        "colab_type": "code",
        "colab": {}
      },
      "source": [
        ""
      ],
      "execution_count": 0,
      "outputs": []
    }
  ]
}